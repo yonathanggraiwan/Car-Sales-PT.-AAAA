{
  "cells": [
    {
      "cell_type": "markdown",
      "id": "74d84c09",
      "metadata": {
        "id": "74d84c09"
      },
      "source": [
        "# Technical Test\n",
        "___"
      ]
    },
    {
      "cell_type": "markdown",
      "id": "d70dff55",
      "metadata": {
        "id": "d70dff55"
      },
      "source": [
        "## 1. Introduction"
      ]
    },
    {
      "cell_type": "markdown",
      "id": "d74be64f",
      "metadata": {
        "id": "d74be64f"
      },
      "source": [
        "Nama    : Yonathan Anggraiwan\n",
        "\n",
        "Posisi  : Integrated Service Quality\n",
        "\n",
        "Saya adalah seorang data analyst yang bekerja di suatu perusahaan, yaitu PT. AAAA. Seorang Manager meminta kepada saya untuk membuatkan model prediksi harga mobil bekas.\n",
        "\n",
        "Tujuan yang hendak dicapai adalah saya dapat mengetahui fitur-fitur atau variabel-variabel apa yang berpengaruh terhadap prediksi harga mobil bekas, dan mengolahnya untuk membuat model yang bagus dan memiliki akurasi yang tinggi, serta nilai error yang rendah dalam memprediksi skor tersebut.\n",
        "\n",
        "User/client saya adalah seorang Manager dari PT. AAAA.\n",
        "\n",
        "Objektif:\n",
        "Objektif dari program ini adalah saya perlu untuk memahami konsep model yang digunakan dengan dengan benar. Saya juga perlu untuk dapat menyiapkan datanya dengan baik, dan mengimplementasikan algoritmanya untuk menghasilkan hasil prediksi yang baik dengan waktu yang singkat.\n",
        "\n",
        "Algoritma yang digunakan dalam mengolah data ini adalah dengan menggunakan beberapa metode regresi, yaitu KNN, Decision Tree, Random Forest, SVM dan XGBoost Regressor.\n",
        "\n",
        "Milestone 2 ini dibuat dengan tujuan sebagai berikut:\n",
        "\n",
        "1. Mampu memahami konsep Machine Learning secara keseluruhan.\n",
        "\n",
        "2. Mampu mempersiapkan data untuk digunakan dalam model Supervised Learning (Regression).\n",
        "\n",
        "3. Mampu mengimplementasikan Supervised Learning (Regression) dengan data yang dipilih.\n",
        "\n",
        "4. Mampu melakukan Hyperparameter Tuning dan Model Improvement, dan\n",
        "\n",
        "5. Mampu melakukan Model Deployment.\n",
        "\n",
        "Berikut dibawah ini saya tampilkan hasil pembuatan streamlit dari pemodelan data ini dan link dashboard interaktif.\n",
        "\n",
        "Streamlit Deployment [link]()\n",
        "\n",
        "Tableau Dashboard [link](https://public.tableau.com/views/Dashboard_17587337302300/Dashboard1?:language=en-US&publish=yes&:sid=&:redirect=auth&:display_count=n&:origin=viz_share_link)\n",
        "___"
      ]
    },
    {
      "cell_type": "markdown",
      "id": "86ec6c8d",
      "metadata": {
        "id": "86ec6c8d"
      },
      "source": [
        "## 2. Import Libraries"
      ]
    },
    {
      "cell_type": "code",
      "execution_count": 1,
      "id": "103e68c2",
      "metadata": {
        "id": "103e68c2"
      },
      "outputs": [],
      "source": [
        "import pandas as pd                                     # Manipulasi dan analisis data tabular\n",
        "import numpy as np                                      # Operasi numerik dan manipulasi array\n",
        "import seaborn as sns                                   # Visualisasi data berbasis statistik\n",
        "import matplotlib.pyplot as plt                         # Membuat grafik dan plot untuk analisis data\n",
        "import json                                             # Menyimpan dan membaca data dalam format JSON\n",
        "import pickle                                           # Menyimpan dan memuat objek Python dalam format biner\n",
        "import os                                               # Manipulasi file dan direktori sistem operasi\n",
        "import scipy.stats as stats                             # Fungsi statistik dan distribusi probabilitas\n",
        "import time                                             # Pengukuran dan manajemen waktu dalam program\n",
        "import plotly.express as px                             # Visualisasi data interaktif\n",
        "from scipy.stats import chi2_contingency                # Menghitung korelasi Chi-Square antara dua variabel kategorikal \n",
        "from dateutil import parser                             # Parsing dan manipulasi tanggal dan waktu\n",
        "\n",
        "from scipy.stats import pearsonr                        # Menghitung korelasi Pearson antara dua variabel numerik\n",
        "from sklearn.model_selection import train_test_split    # Membagi dataset menjadi set pelatihan dan set pengujian\n",
        "from sklearn.preprocessing import MinMaxScaler          # Normalisasi fitur dengan skala Min-Max untuk menghindari perbedaan skala\n",
        "from sklearn.preprocessing import OneHotEncoder         # Encoding variabel kategorikal ke format numerik dengan skala nominal\n",
        "from sklearn.preprocessing import OrdinalEncoder        # Encoding variabel kategorikal dengan urutan tertentu\n",
        "from sklearn.pipeline import Pipeline                   # Membuat alur pemrosesan model secara sistematis\n",
        "from sklearn.compose import ColumnTransformer           # Transformasi kolom dataset dengan teknik berbeda\n",
        "from sklearn.preprocessing import RobustScaler, StandardScaler # Teknik normalisasi dan standardisasi fitur\n",
        "from sklearn.metrics import mean_absolute_error, r2_score # Evaluasi model dengan MAE, MSE, dan R²\n",
        "from sklearn.model_selection import RandomizedSearchCV  # Pencarian hyperparameter terbaik secara acak\n",
        "from sklearn.neighbors import KNeighborsRegressor       # Model regresi berbasis *nearest neighbors*\n",
        "from sklearn.tree import DecisionTreeRegressor          # Model regresi berbasis pohon keputusan\n",
        "from sklearn.ensemble import RandomForestRegressor      # Model regresi berbasis hutan acak untuk meningkatkan performa\n",
        "from sklearn.svm import SVR                             # Model regresi berbasis *Support Vector Regression*\n",
        "from xgboost import XGBRegressor                        # Model regresi berbasis XGBoost dengan boosting algoritma\n",
        "from sklearn.model_selection import cross_val_score\n",
        "from great_expectations.data_context import FileDataContext"
      ]
    },
    {
      "cell_type": "markdown",
      "id": "f9c64623",
      "metadata": {
        "id": "f9c64623"
      },
      "source": [
        "___\n",
        "## 3. Data Loading"
      ]
    },
    {
      "cell_type": "markdown",
      "id": "c6e14dc5",
      "metadata": {
        "id": "c6e14dc5"
      },
      "source": [
        "Untuk mengolah dataset, datanya pertama-tama perlu untuk di loading terlebih dahulu menggunakan syntax pandas, yaitu pd.read_csv()."
      ]
    },
    {
      "cell_type": "code",
      "execution_count": 2,
      "id": "31060530",
      "metadata": {
        "colab": {
          "base_uri": "https://localhost:8080/",
          "height": 1000
        },
        "id": "31060530",
        "outputId": "0618323e-4678-4b4f-866a-6fb3448d60c3"
      },
      "outputs": [
        {
          "data": {
            "text/html": [
              "<div>\n",
              "<style scoped>\n",
              "    .dataframe tbody tr th:only-of-type {\n",
              "        vertical-align: middle;\n",
              "    }\n",
              "\n",
              "    .dataframe tbody tr th {\n",
              "        vertical-align: top;\n",
              "    }\n",
              "\n",
              "    .dataframe thead th {\n",
              "        text-align: right;\n",
              "    }\n",
              "</style>\n",
              "<table border=\"1\" class=\"dataframe\">\n",
              "  <thead>\n",
              "    <tr style=\"text-align: right;\">\n",
              "      <th></th>\n",
              "      <th>0</th>\n",
              "      <th>1</th>\n",
              "      <th>2</th>\n",
              "      <th>3</th>\n",
              "      <th>4</th>\n",
              "      <th>5</th>\n",
              "      <th>6</th>\n",
              "      <th>7</th>\n",
              "      <th>8</th>\n",
              "      <th>9</th>\n",
              "    </tr>\n",
              "  </thead>\n",
              "  <tbody>\n",
              "    <tr>\n",
              "      <th>year</th>\n",
              "      <td>2013</td>\n",
              "      <td>2014</td>\n",
              "      <td>2013</td>\n",
              "      <td>2009</td>\n",
              "      <td>2014</td>\n",
              "      <td>2012</td>\n",
              "      <td>2001</td>\n",
              "      <td>2013</td>\n",
              "      <td>2014</td>\n",
              "      <td>2014</td>\n",
              "    </tr>\n",
              "    <tr>\n",
              "      <th>make</th>\n",
              "      <td>Hyundai</td>\n",
              "      <td>Jeep</td>\n",
              "      <td>Ford</td>\n",
              "      <td>Chevrolet</td>\n",
              "      <td>Ford</td>\n",
              "      <td>Honda</td>\n",
              "      <td>Chevrolet</td>\n",
              "      <td>Chevrolet</td>\n",
              "      <td>Infiniti</td>\n",
              "      <td>Nissan</td>\n",
              "    </tr>\n",
              "    <tr>\n",
              "      <th>model</th>\n",
              "      <td>Elantra</td>\n",
              "      <td>Patriot</td>\n",
              "      <td>Edge</td>\n",
              "      <td>Impala</td>\n",
              "      <td>Fusion</td>\n",
              "      <td>Crosstour</td>\n",
              "      <td>Malibu</td>\n",
              "      <td>Impala</td>\n",
              "      <td>Q50</td>\n",
              "      <td>Altima</td>\n",
              "    </tr>\n",
              "    <tr>\n",
              "      <th>trim</th>\n",
              "      <td>GLS</td>\n",
              "      <td>Limited</td>\n",
              "      <td>Limited</td>\n",
              "      <td>LS</td>\n",
              "      <td>SE</td>\n",
              "      <td>EX</td>\n",
              "      <td>Base</td>\n",
              "      <td>LTZ</td>\n",
              "      <td>Premium</td>\n",
              "      <td>2.5 S</td>\n",
              "    </tr>\n",
              "    <tr>\n",
              "      <th>body</th>\n",
              "      <td>sedan</td>\n",
              "      <td>SUV</td>\n",
              "      <td>SUV</td>\n",
              "      <td>Sedan</td>\n",
              "      <td>Sedan</td>\n",
              "      <td>Hatchback</td>\n",
              "      <td>Sedan</td>\n",
              "      <td>Sedan</td>\n",
              "      <td>Sedan</td>\n",
              "      <td>sedan</td>\n",
              "    </tr>\n",
              "    <tr>\n",
              "      <th>transmission</th>\n",
              "      <td>automatic</td>\n",
              "      <td>automatic</td>\n",
              "      <td>automatic</td>\n",
              "      <td>automatic</td>\n",
              "      <td>automatic</td>\n",
              "      <td>automatic</td>\n",
              "      <td>automatic</td>\n",
              "      <td>automatic</td>\n",
              "      <td>automatic</td>\n",
              "      <td>automatic</td>\n",
              "    </tr>\n",
              "    <tr>\n",
              "      <th>vin</th>\n",
              "      <td>5npdh4ae0dh326532</td>\n",
              "      <td>1c4njrcb6ed842622</td>\n",
              "      <td>2fmdk4kc0dbc22340</td>\n",
              "      <td>2g1wb57k291189849</td>\n",
              "      <td>3fa6p0hd2er160035</td>\n",
              "      <td>5j6tf3h31cl003210</td>\n",
              "      <td>1g1nd52j316205994</td>\n",
              "      <td>2g1wc5e37d1212625</td>\n",
              "      <td>jn1bv7apxem672889</td>\n",
              "      <td>1n4al3ap9en370128</td>\n",
              "    </tr>\n",
              "    <tr>\n",
              "      <th>branch</th>\n",
              "      <td>JAKARTA</td>\n",
              "      <td>JAKARTA</td>\n",
              "      <td>SURABAYA</td>\n",
              "      <td>MEDAN</td>\n",
              "      <td>MEDAN</td>\n",
              "      <td>BALIKPAPAN</td>\n",
              "      <td>SURABAYA</td>\n",
              "      <td>MEDAN</td>\n",
              "      <td>BALIKPAPAN</td>\n",
              "      <td>SURABAYA</td>\n",
              "    </tr>\n",
              "    <tr>\n",
              "      <th>condition</th>\n",
              "      <td>48.0</td>\n",
              "      <td>47.0</td>\n",
              "      <td>29.0</td>\n",
              "      <td>2.0</td>\n",
              "      <td>46.0</td>\n",
              "      <td>44.0</td>\n",
              "      <td>19.0</td>\n",
              "      <td>31.0</td>\n",
              "      <td>44.0</td>\n",
              "      <td>4.0</td>\n",
              "    </tr>\n",
              "    <tr>\n",
              "      <th>odometer</th>\n",
              "      <td>33610.0</td>\n",
              "      <td>27249.0</td>\n",
              "      <td>56447.0</td>\n",
              "      <td>14916.0</td>\n",
              "      <td>37674.0</td>\n",
              "      <td>29305.0</td>\n",
              "      <td>143885.0</td>\n",
              "      <td>47206.0</td>\n",
              "      <td>18799.0</td>\n",
              "      <td>6804.0</td>\n",
              "    </tr>\n",
              "    <tr>\n",
              "      <th>color</th>\n",
              "      <td>black</td>\n",
              "      <td>white</td>\n",
              "      <td>gray</td>\n",
              "      <td>gray</td>\n",
              "      <td>brown</td>\n",
              "      <td>white</td>\n",
              "      <td>gold</td>\n",
              "      <td>silver</td>\n",
              "      <td>gray</td>\n",
              "      <td>silver</td>\n",
              "    </tr>\n",
              "    <tr>\n",
              "      <th>interior</th>\n",
              "      <td>beige</td>\n",
              "      <td>tan</td>\n",
              "      <td>black</td>\n",
              "      <td>gray</td>\n",
              "      <td>black</td>\n",
              "      <td>black</td>\n",
              "      <td>tan</td>\n",
              "      <td>black</td>\n",
              "      <td>black</td>\n",
              "      <td>black</td>\n",
              "    </tr>\n",
              "    <tr>\n",
              "      <th>seller</th>\n",
              "      <td>hyundai motor finance</td>\n",
              "      <td>budget rent a car/kansas city funding llc</td>\n",
              "      <td>the hertz corporation</td>\n",
              "      <td>westlake financial services</td>\n",
              "      <td>avis corporation</td>\n",
              "      <td>ahfc/honda lease trust/hvt  inc. eot</td>\n",
              "      <td>hamilton honda</td>\n",
              "      <td>the hertz corporation</td>\n",
              "      <td>nissan infiniti lt</td>\n",
              "      <td>ag leaseplan</td>\n",
              "    </tr>\n",
              "    <tr>\n",
              "      <th>marketprice</th>\n",
              "      <td>227900000.0</td>\n",
              "      <td>389150000.0</td>\n",
              "      <td>396675000.0</td>\n",
              "      <td>180600000.0</td>\n",
              "      <td>324650000.0</td>\n",
              "      <td>333250000.0</td>\n",
              "      <td>18812500.0</td>\n",
              "      <td>239725000.0</td>\n",
              "      <td>602000000.0</td>\n",
              "      <td>314975000.0</td>\n",
              "    </tr>\n",
              "    <tr>\n",
              "      <th>sellingprice</th>\n",
              "      <td>236500000.0</td>\n",
              "      <td>389150000.0</td>\n",
              "      <td>397750000.0</td>\n",
              "      <td>150500000.0</td>\n",
              "      <td>320350000.0</td>\n",
              "      <td>363350000.0</td>\n",
              "      <td>10750000.0</td>\n",
              "      <td>230050000.0</td>\n",
              "      <td>548250000.0</td>\n",
              "      <td>270900000.0</td>\n",
              "    </tr>\n",
              "    <tr>\n",
              "      <th>saledate</th>\n",
              "      <td>Tue Jun 16 2018 02:30:00 GMT-0700 (PDT)</td>\n",
              "      <td>Wed Mar 04 2018 02:30:00 GMT-0800 (PST)</td>\n",
              "      <td>Wed Jan 07 2019 12:30:00 GMT-0800 (PST)</td>\n",
              "      <td>Tue Jan 13 2018 10:00:00 GMT-0800 (PST)</td>\n",
              "      <td>Wed Feb 18 2019 02:00:00 GMT-0800 (PST)</td>\n",
              "      <td>Thu Mar 05 2018 02:00:00 GMT-0800 (PST)</td>\n",
              "      <td>Wed Jan 07 2019 09:30:00 GMT-0800 (PST)</td>\n",
              "      <td>Thu May 28 2019 05:00:00 GMT-0700 (PDT)</td>\n",
              "      <td>Thu Feb 12 2019 04:30:00 GMT-0800 (PST)</td>\n",
              "      <td>Wed May 27 2018 05:30:00 GMT-0700 (PDT)</td>\n",
              "    </tr>\n",
              "  </tbody>\n",
              "</table>\n",
              "</div>"
            ],
            "text/plain": [
              "                                                    0  \\\n",
              "year                                             2013   \n",
              "make                                          Hyundai   \n",
              "model                                         Elantra   \n",
              "trim                                              GLS   \n",
              "body                                            sedan   \n",
              "transmission                                automatic   \n",
              "vin                                 5npdh4ae0dh326532   \n",
              "branch                                        JAKARTA   \n",
              "condition                                        48.0   \n",
              "odometer                                      33610.0   \n",
              "color                                           black   \n",
              "interior                                        beige   \n",
              "seller                          hyundai motor finance   \n",
              "marketprice                               227900000.0   \n",
              "sellingprice                              236500000.0   \n",
              "saledate      Tue Jun 16 2018 02:30:00 GMT-0700 (PDT)   \n",
              "\n",
              "                                                      1  \\\n",
              "year                                               2014   \n",
              "make                                               Jeep   \n",
              "model                                           Patriot   \n",
              "trim                                            Limited   \n",
              "body                                                SUV   \n",
              "transmission                                  automatic   \n",
              "vin                                   1c4njrcb6ed842622   \n",
              "branch                                          JAKARTA   \n",
              "condition                                          47.0   \n",
              "odometer                                        27249.0   \n",
              "color                                             white   \n",
              "interior                                            tan   \n",
              "seller        budget rent a car/kansas city funding llc   \n",
              "marketprice                                 389150000.0   \n",
              "sellingprice                                389150000.0   \n",
              "saledate        Wed Mar 04 2018 02:30:00 GMT-0800 (PST)   \n",
              "\n",
              "                                                    2  \\\n",
              "year                                             2013   \n",
              "make                                             Ford   \n",
              "model                                            Edge   \n",
              "trim                                          Limited   \n",
              "body                                              SUV   \n",
              "transmission                                automatic   \n",
              "vin                                 2fmdk4kc0dbc22340   \n",
              "branch                                       SURABAYA   \n",
              "condition                                        29.0   \n",
              "odometer                                      56447.0   \n",
              "color                                            gray   \n",
              "interior                                        black   \n",
              "seller                          the hertz corporation   \n",
              "marketprice                               396675000.0   \n",
              "sellingprice                              397750000.0   \n",
              "saledate      Wed Jan 07 2019 12:30:00 GMT-0800 (PST)   \n",
              "\n",
              "                                                    3  \\\n",
              "year                                             2009   \n",
              "make                                        Chevrolet   \n",
              "model                                          Impala   \n",
              "trim                                               LS   \n",
              "body                                            Sedan   \n",
              "transmission                                automatic   \n",
              "vin                                 2g1wb57k291189849   \n",
              "branch                                          MEDAN   \n",
              "condition                                         2.0   \n",
              "odometer                                      14916.0   \n",
              "color                                            gray   \n",
              "interior                                         gray   \n",
              "seller                    westlake financial services   \n",
              "marketprice                               180600000.0   \n",
              "sellingprice                              150500000.0   \n",
              "saledate      Tue Jan 13 2018 10:00:00 GMT-0800 (PST)   \n",
              "\n",
              "                                                    4  \\\n",
              "year                                             2014   \n",
              "make                                             Ford   \n",
              "model                                          Fusion   \n",
              "trim                                               SE   \n",
              "body                                            Sedan   \n",
              "transmission                                automatic   \n",
              "vin                                 3fa6p0hd2er160035   \n",
              "branch                                          MEDAN   \n",
              "condition                                        46.0   \n",
              "odometer                                      37674.0   \n",
              "color                                           brown   \n",
              "interior                                        black   \n",
              "seller                               avis corporation   \n",
              "marketprice                               324650000.0   \n",
              "sellingprice                              320350000.0   \n",
              "saledate      Wed Feb 18 2019 02:00:00 GMT-0800 (PST)   \n",
              "\n",
              "                                                    5  \\\n",
              "year                                             2012   \n",
              "make                                            Honda   \n",
              "model                                       Crosstour   \n",
              "trim                                               EX   \n",
              "body                                        Hatchback   \n",
              "transmission                                automatic   \n",
              "vin                                 5j6tf3h31cl003210   \n",
              "branch                                     BALIKPAPAN   \n",
              "condition                                        44.0   \n",
              "odometer                                      29305.0   \n",
              "color                                           white   \n",
              "interior                                        black   \n",
              "seller           ahfc/honda lease trust/hvt  inc. eot   \n",
              "marketprice                               333250000.0   \n",
              "sellingprice                              363350000.0   \n",
              "saledate      Thu Mar 05 2018 02:00:00 GMT-0800 (PST)   \n",
              "\n",
              "                                                    6  \\\n",
              "year                                             2001   \n",
              "make                                        Chevrolet   \n",
              "model                                          Malibu   \n",
              "trim                                             Base   \n",
              "body                                            Sedan   \n",
              "transmission                                automatic   \n",
              "vin                                 1g1nd52j316205994   \n",
              "branch                                       SURABAYA   \n",
              "condition                                        19.0   \n",
              "odometer                                     143885.0   \n",
              "color                                            gold   \n",
              "interior                                          tan   \n",
              "seller                                 hamilton honda   \n",
              "marketprice                                18812500.0   \n",
              "sellingprice                               10750000.0   \n",
              "saledate      Wed Jan 07 2019 09:30:00 GMT-0800 (PST)   \n",
              "\n",
              "                                                    7  \\\n",
              "year                                             2013   \n",
              "make                                        Chevrolet   \n",
              "model                                          Impala   \n",
              "trim                                              LTZ   \n",
              "body                                            Sedan   \n",
              "transmission                                automatic   \n",
              "vin                                 2g1wc5e37d1212625   \n",
              "branch                                          MEDAN   \n",
              "condition                                        31.0   \n",
              "odometer                                      47206.0   \n",
              "color                                          silver   \n",
              "interior                                        black   \n",
              "seller                          the hertz corporation   \n",
              "marketprice                               239725000.0   \n",
              "sellingprice                              230050000.0   \n",
              "saledate      Thu May 28 2019 05:00:00 GMT-0700 (PDT)   \n",
              "\n",
              "                                                    8  \\\n",
              "year                                             2014   \n",
              "make                                         Infiniti   \n",
              "model                                             Q50   \n",
              "trim                                          Premium   \n",
              "body                                            Sedan   \n",
              "transmission                                automatic   \n",
              "vin                                 jn1bv7apxem672889   \n",
              "branch                                     BALIKPAPAN   \n",
              "condition                                        44.0   \n",
              "odometer                                      18799.0   \n",
              "color                                            gray   \n",
              "interior                                        black   \n",
              "seller                             nissan infiniti lt   \n",
              "marketprice                               602000000.0   \n",
              "sellingprice                              548250000.0   \n",
              "saledate      Thu Feb 12 2019 04:30:00 GMT-0800 (PST)   \n",
              "\n",
              "                                                    9  \n",
              "year                                             2014  \n",
              "make                                           Nissan  \n",
              "model                                          Altima  \n",
              "trim                                            2.5 S  \n",
              "body                                            sedan  \n",
              "transmission                                automatic  \n",
              "vin                                 1n4al3ap9en370128  \n",
              "branch                                       SURABAYA  \n",
              "condition                                         4.0  \n",
              "odometer                                       6804.0  \n",
              "color                                          silver  \n",
              "interior                                        black  \n",
              "seller                                   ag leaseplan  \n",
              "marketprice                               314975000.0  \n",
              "sellingprice                              270900000.0  \n",
              "saledate      Wed May 27 2018 05:30:00 GMT-0700 (PDT)  "
            ]
          },
          "execution_count": 2,
          "metadata": {},
          "output_type": "execute_result"
        }
      ],
      "source": [
        "# Panggil dataset\n",
        "df = pd.read_csv(\"car_sales.csv\")\n",
        "df.head(10).T"
      ]
    },
    {
      "cell_type": "markdown",
      "id": "454b1db6",
      "metadata": {
        "id": "454b1db6"
      },
      "source": [
        "Insight:\n",
        "Datanya sudah berhasil di load atau dipanggil. Berikut ini adalah penjelasan singkat tentang kolom-kolom datanya:\n",
        "\n",
        "1. year = Tahun produksi kendaraan\n",
        "\n",
        "2. make = Merk mobil\n",
        "\n",
        "3. model = Model mobil\n",
        "\n",
        "4. trim = Desain/seri detail modil\n",
        "\n",
        "5. body = Tipe kendaraan\n",
        "\n",
        "6. transmission = Tipe transmisi kendaraan\n",
        "\n",
        "7. vin = Nomor VIN kendaraan\n",
        "\n",
        "8. branch = Cabang _dealer_\n",
        "\n",
        "9. condition = Kondisi unit\n",
        "\n",
        "10. odometer = Total KM dikendarai\n",
        "\n",
        "11. color Warna = eksterior\n",
        "\n",
        "12. interior Warna = interior\n",
        "\n",
        "13. seller = Kustomer pembeli\n",
        "\n",
        "14. marketprice = Harga pasar saat ini (2019)\n",
        "\n",
        "15. sellingprice = Harga jual terlaksana\n",
        "\n",
        "16. saledate = Tanggal penjualan\n",
        "\n",
        "Selanjutnya saya ingin mengecek bagaimana dimensi dari data ini menggunakan syntax .shape .\n",
        "___"
      ]
    },
    {
      "cell_type": "code",
      "execution_count": 26,
      "id": "519e5f13",
      "metadata": {
        "id": "519e5f13"
      },
      "outputs": [
        {
          "data": {
            "text/plain": [
              "(12000, 16)"
            ]
          },
          "execution_count": 26,
          "metadata": {},
          "output_type": "execute_result"
        }
      ],
      "source": [
        "# Mengecek dimensi datanya\n",
        "df.shape"
      ]
    },
    {
      "cell_type": "markdown",
      "id": "75266f16",
      "metadata": {
        "id": "75266f16"
      },
      "source": [
        "Insight:\n",
        "\n",
        "Data ini berdimensi 12000 baris dengan 16 kolom.\n",
        "\n",
        "Selanjutnya saya ingin melihat deskripsi data ini menggunakan syntax .info() dan .describe().\n",
        "___"
      ]
    },
    {
      "cell_type": "code",
      "execution_count": 27,
      "id": "81ad0ecb",
      "metadata": {
        "colab": {
          "base_uri": "https://localhost:8080/"
        },
        "id": "81ad0ecb",
        "outputId": "e310a35d-c9c8-4593-fd67-c42f6d938026"
      },
      "outputs": [
        {
          "name": "stdout",
          "output_type": "stream",
          "text": [
            "<class 'pandas.core.frame.DataFrame'>\n",
            "RangeIndex: 12000 entries, 0 to 11999\n",
            "Data columns (total 16 columns):\n",
            " #   Column        Non-Null Count  Dtype  \n",
            "---  ------        --------------  -----  \n",
            " 0   year          12000 non-null  int64  \n",
            " 1   make          11777 non-null  object \n",
            " 2   model         11775 non-null  object \n",
            " 3   trim          11769 non-null  object \n",
            " 4   body          11713 non-null  object \n",
            " 5   transmission  10552 non-null  object \n",
            " 6   vin           12000 non-null  object \n",
            " 7   branch        12000 non-null  object \n",
            " 8   condition     11776 non-null  float64\n",
            " 9   odometer      11997 non-null  float64\n",
            " 10  color         11985 non-null  object \n",
            " 11  interior      11985 non-null  object \n",
            " 12  seller        12000 non-null  object \n",
            " 13  marketprice   11999 non-null  float64\n",
            " 14  sellingprice  11999 non-null  float64\n",
            " 15  saledate      12000 non-null  object \n",
            "dtypes: float64(4), int64(1), object(11)\n",
            "memory usage: 1.5+ MB\n"
          ]
        }
      ],
      "source": [
        "# Menampilkan informasi data dan tipe kolom, serta isi data dan missing value\n",
        "df.info()"
      ]
    },
    {
      "cell_type": "markdown",
      "id": "f0f86116",
      "metadata": {
        "id": "f0f86116"
      },
      "source": [
        "Insight:\n",
        "\n",
        "Dari syntax .info(), saya dapat melihat bahwa data ini terdiri dari 12.000 baris, tetapi terdapat beberapa data yang kosong. \n",
        "\n",
        "Dari analisa saya, semua data sudah memiliki tipe kolom dengan value yang sesuai, kecuali kolom 'saledate' yang seharusnya adalah bertipe datetime. Akan tetapi karena data ini tidak memiliki informasi yang penting dalam proses prediksi harga, maka kolom ini akan dihapus.\n",
        "\n",
        "Selanjutnya saya ingin melihat deskripsi datanya menggunakan syntax .describe(), dimana hasil yang keluar adalah nilai mean (rata-rata value), nilai std (standar deviasi), hingga nilai minimum dan maksimum dari kolom-kolom numerik. Informasi yang digali dapat berguna untuk melihat apakah data dari kolom-kolom numerik berdistribusi normal atau tidak, apakah memiliki outlier atau tidak.\n",
        "___"
      ]
    },
    {
      "cell_type": "code",
      "execution_count": 3,
      "id": "a2fe65ff",
      "metadata": {},
      "outputs": [],
      "source": [
        "df['saledate'] = df['saledate'].replace(['-', '', None], pd.NA)\n",
        "\n",
        "def to_month_year(x):\n",
        "    try:\n",
        "        return parser.parse(x).strftime('%B %Y')\n",
        "    except:\n",
        "        return ''\n",
        "\n",
        "df['saledate_month_year'] = df['saledate'].apply(to_month_year)"
      ]
    },
    {
      "cell_type": "code",
      "execution_count": 6,
      "id": "84439be3",
      "metadata": {},
      "outputs": [],
      "source": [
        "df.drop(columns=['saledate'], inplace=True)\n",
        "df.to_excel(\"car_sales_cleaned.xlsx\", index=False)\n",
        "df.drop(columns=['saledate_month_year'], inplace=True)"
      ]
    },
    {
      "cell_type": "code",
      "execution_count": 72,
      "id": "4d80fb42",
      "metadata": {
        "colab": {
          "base_uri": "https://localhost:8080/",
          "height": 1000
        },
        "id": "4d80fb42",
        "outputId": "50fb10a3-9bf4-407b-a244-b6ba77307435"
      },
      "outputs": [
        {
          "data": {
            "text/html": [
              "<div>\n",
              "<style scoped>\n",
              "    .dataframe tbody tr th:only-of-type {\n",
              "        vertical-align: middle;\n",
              "    }\n",
              "\n",
              "    .dataframe tbody tr th {\n",
              "        vertical-align: top;\n",
              "    }\n",
              "\n",
              "    .dataframe thead th {\n",
              "        text-align: right;\n",
              "    }\n",
              "</style>\n",
              "<table border=\"1\" class=\"dataframe\">\n",
              "  <thead>\n",
              "    <tr style=\"text-align: right;\">\n",
              "      <th></th>\n",
              "      <th>count</th>\n",
              "      <th>mean</th>\n",
              "      <th>std</th>\n",
              "      <th>min</th>\n",
              "      <th>25%</th>\n",
              "      <th>50%</th>\n",
              "      <th>75%</th>\n",
              "      <th>max</th>\n",
              "    </tr>\n",
              "  </thead>\n",
              "  <tbody>\n",
              "    <tr>\n",
              "      <th>year</th>\n",
              "      <td>12000.0</td>\n",
              "      <td>2.010054e+03</td>\n",
              "      <td>3.950381e+00</td>\n",
              "      <td>1987.0</td>\n",
              "      <td>2008.0</td>\n",
              "      <td>2012.0</td>\n",
              "      <td>2013.0</td>\n",
              "      <td>2.015000e+03</td>\n",
              "    </tr>\n",
              "    <tr>\n",
              "      <th>condition</th>\n",
              "      <td>11776.0</td>\n",
              "      <td>3.063477e+01</td>\n",
              "      <td>1.349874e+01</td>\n",
              "      <td>1.0</td>\n",
              "      <td>23.0</td>\n",
              "      <td>35.0</td>\n",
              "      <td>42.0</td>\n",
              "      <td>4.900000e+01</td>\n",
              "    </tr>\n",
              "    <tr>\n",
              "      <th>odometer</th>\n",
              "      <td>11997.0</td>\n",
              "      <td>6.826108e+04</td>\n",
              "      <td>5.355644e+04</td>\n",
              "      <td>1.0</td>\n",
              "      <td>28415.0</td>\n",
              "      <td>52692.0</td>\n",
              "      <td>98854.0</td>\n",
              "      <td>9.999990e+05</td>\n",
              "    </tr>\n",
              "    <tr>\n",
              "      <th>marketprice</th>\n",
              "      <td>11999.0</td>\n",
              "      <td>2.969867e+08</td>\n",
              "      <td>2.108742e+08</td>\n",
              "      <td>1075000.0</td>\n",
              "      <td>152650000.0</td>\n",
              "      <td>263375000.0</td>\n",
              "      <td>395600000.0</td>\n",
              "      <td>3.784000e+09</td>\n",
              "    </tr>\n",
              "    <tr>\n",
              "      <th>sellingprice</th>\n",
              "      <td>11999.0</td>\n",
              "      <td>2.938245e+08</td>\n",
              "      <td>2.112563e+08</td>\n",
              "      <td>4300000.0</td>\n",
              "      <td>150500000.0</td>\n",
              "      <td>262300000.0</td>\n",
              "      <td>393450000.0</td>\n",
              "      <td>3.547500e+09</td>\n",
              "    </tr>\n",
              "  </tbody>\n",
              "</table>\n",
              "</div>"
            ],
            "text/plain": [
              "                count          mean           std        min          25%  \\\n",
              "year          12000.0  2.010054e+03  3.950381e+00     1987.0       2008.0   \n",
              "condition     11776.0  3.063477e+01  1.349874e+01        1.0         23.0   \n",
              "odometer      11997.0  6.826108e+04  5.355644e+04        1.0      28415.0   \n",
              "marketprice   11999.0  2.969867e+08  2.108742e+08  1075000.0  152650000.0   \n",
              "sellingprice  11999.0  2.938245e+08  2.112563e+08  4300000.0  150500000.0   \n",
              "\n",
              "                      50%          75%           max  \n",
              "year               2012.0       2013.0  2.015000e+03  \n",
              "condition            35.0         42.0  4.900000e+01  \n",
              "odometer          52692.0      98854.0  9.999990e+05  \n",
              "marketprice   263375000.0  395600000.0  3.784000e+09  \n",
              "sellingprice  262300000.0  393450000.0  3.547500e+09  "
            ]
          },
          "execution_count": 72,
          "metadata": {},
          "output_type": "execute_result"
        }
      ],
      "source": [
        "# Mengecek deskripsi data numeriknya\n",
        "df.describe().T"
      ]
    },
    {
      "cell_type": "markdown",
      "id": "7f875493",
      "metadata": {
        "id": "7f875493"
      },
      "source": [
        "Insight:\n",
        "\n",
        "Terdapat 2 kolom data numerik yang memiliki standar deviasi dalam jumlah yang tinggi, yang artinya adalah datanya sangat bervariasi atau tersebar, yaitu pada kolom data 'marketprice' dan 'sellingprice'. Sehingga dapat disimpulkan bahwa data kolom-kolom numerik ini mayoritas berdistribusi tidak normal dan bisa terdapat outlier. Untuk outlier ini tidak akan dihandle karena data ini adalah data yang sesungguhnya dari harga market dengan harga penjualan mobil. Justru jika dihandle maka akan merusak data tersebut.\n",
        "\n",
        "Selanjutnya saya ingin mengecek apakah terdapat data duplikat atau tidak mengguakan syntax .duplicated().sum()\n",
        "___"
      ]
    },
    {
      "cell_type": "code",
      "execution_count": 21,
      "id": "f44e8358",
      "metadata": {
        "colab": {
          "base_uri": "https://localhost:8080/"
        },
        "id": "f44e8358",
        "outputId": "efc3cd35-cae0-4dfb-ebc1-f9bfffba0850"
      },
      "outputs": [
        {
          "data": {
            "text/plain": [
              "0"
            ]
          },
          "execution_count": 21,
          "metadata": {},
          "output_type": "execute_result"
        }
      ],
      "source": [
        "# Syntax untuk mengecek jumlah data duplikat\n",
        "df.duplicated().sum()"
      ]
    },
    {
      "cell_type": "markdown",
      "id": "ba29c729",
      "metadata": {
        "id": "ba29c729"
      },
      "source": [
        "Insight:\n",
        "\n",
        "Tidak ada data duplikat dalam datanya. Selanjutnya saya ingin mengecek apakah terdapat data yang hilang atau tidak (missing value) menggunakan syntax .isna().sum().sum().\n",
        "___"
      ]
    },
    {
      "cell_type": "code",
      "execution_count": 22,
      "id": "d094c662",
      "metadata": {
        "colab": {
          "base_uri": "https://localhost:8080/"
        },
        "id": "d094c662",
        "outputId": "14b12f3d-1e14-4f3e-c1c5-37ed25f2e97b"
      },
      "outputs": [
        {
          "data": {
            "text/plain": [
              "2673"
            ]
          },
          "execution_count": 22,
          "metadata": {},
          "output_type": "execute_result"
        }
      ],
      "source": [
        "df.isna().sum().sum()"
      ]
    },
    {
      "cell_type": "markdown",
      "id": "72cda119",
      "metadata": {
        "id": "72cda119"
      },
      "source": [
        "Insight:\n",
        "\n",
        "Terdapat 2673 data yang hilang pada data ini.\n",
        "\n",
        "Saya akan melakukan pengisian data yang hilang atau kosong pada data ini.\n",
        "\n",
        "Untuk data kolom numerikal yang hilang, akan saya isi dengan angka tengah atau median dari datanya, sehingga tidak membuat datanya semakin berdistribusi tidak normal.\n",
        "\n",
        "Untuk kolom kategorikal, akan saya isi dengan data modus data atau data terbanyak, dan ada juga yang saya isi dengan 'unknown'\n",
        "___"
      ]
    },
    {
      "cell_type": "code",
      "execution_count": 4,
      "id": "36bcf010",
      "metadata": {},
      "outputs": [],
      "source": [
        "pd.options.mode.chained_assignment = None # menghapus warning\n",
        "\n",
        "# 1. Imputasi kolom numerik dengan median\n",
        "numerical_cols = ['odometer', 'condition', 'marketprice', 'sellingprice']\n",
        "for col in numerical_cols:\n",
        "    if df[col].isnull().sum() > 0:\n",
        "        median_val = df[col].median()\n",
        "        df[col].fillna(median_val, inplace=True)\n",
        "\n",
        "# 2. Imputasi dengan modus\n",
        "mode_cols = ['make', 'model', 'color', 'interior']\n",
        "for col in mode_cols:\n",
        "    if df[col].isnull().sum() > 0:\n",
        "        mode_val = df[col].mode()[0]\n",
        "        df[col].fillna(mode_val, inplace=True)\n",
        "\n",
        "# 3. Imputasi dengan label 'Unknown'\n",
        "unknown_cols = ['trim', 'body', 'transmission']\n",
        "for col in unknown_cols:\n",
        "    if df[col].isnull().sum() > 0:\n",
        "        df[col].fillna('Unknown', inplace=True)"
      ]
    },
    {
      "cell_type": "code",
      "execution_count": 24,
      "id": "ab2deac5",
      "metadata": {},
      "outputs": [
        {
          "name": "stdout",
          "output_type": "stream",
          "text": [
            "<class 'pandas.core.frame.DataFrame'>\n",
            "RangeIndex: 12000 entries, 0 to 11999\n",
            "Data columns (total 15 columns):\n",
            " #   Column        Non-Null Count  Dtype  \n",
            "---  ------        --------------  -----  \n",
            " 0   year          12000 non-null  int64  \n",
            " 1   make          12000 non-null  object \n",
            " 2   model         12000 non-null  object \n",
            " 3   trim          12000 non-null  object \n",
            " 4   body          12000 non-null  object \n",
            " 5   transmission  12000 non-null  object \n",
            " 6   vin           12000 non-null  object \n",
            " 7   branch        12000 non-null  object \n",
            " 8   condition     12000 non-null  float64\n",
            " 9   odometer      12000 non-null  float64\n",
            " 10  color         12000 non-null  object \n",
            " 11  interior      12000 non-null  object \n",
            " 12  seller        12000 non-null  object \n",
            " 13  marketprice   12000 non-null  float64\n",
            " 14  sellingprice  12000 non-null  float64\n",
            "dtypes: float64(4), int64(1), object(10)\n",
            "memory usage: 1.4+ MB\n"
          ]
        }
      ],
      "source": [
        "df.info()"
      ]
    },
    {
      "cell_type": "markdown",
      "id": "eb596e56",
      "metadata": {},
      "source": [
        "Selanjutnya saya akan melakukan Great Expectation dari data ini."
      ]
    },
    {
      "cell_type": "markdown",
      "id": "99306868",
      "metadata": {},
      "source": [
        "___\n",
        "## 4. Great Expectation"
      ]
    },
    {
      "cell_type": "markdown",
      "id": "b59400ac",
      "metadata": {},
      "source": [
        "Dalam GE (Great Expecations), langkah pertama adalah membuat konteks data yang diolah, lalu menamakan data yang digunakan, serta mengatur lokasi dari data yang diolah, supaya datanya dapat siap untuk divalidasi menggunakan validator Great Expectations."
      ]
    },
    {
      "cell_type": "code",
      "execution_count": 25,
      "id": "37539747",
      "metadata": {},
      "outputs": [],
      "source": [
        "# Create a data context\n",
        "context = FileDataContext.create(project_root_dir='./')"
      ]
    },
    {
      "cell_type": "code",
      "execution_count": 26,
      "id": "c452d4fc",
      "metadata": {},
      "outputs": [],
      "source": [
        "datasource_name = 'csv-data-ti-1,'\n",
        "datasource = context.sources.add_pandas(datasource_name)\n",
        "\n",
        "asset_name = 'ti-1-asset'\n",
        "\n",
        "path_to_data = r'D:\\1. Data Science\\2. Lamaran Kerja\\Technical Test\\September\\Indotruck Utama\\car_sales.csv'\n",
        "asset = datasource.add_csv_asset(asset_name, filepath_or_buffer=path_to_data)\n",
        "\n",
        "batch_request = asset.build_batch_request()"
      ]
    },
    {
      "cell_type": "code",
      "execution_count": 27,
      "id": "64db1521",
      "metadata": {},
      "outputs": [
        {
          "data": {
            "application/vnd.jupyter.widget-view+json": {
              "model_id": "bcfc13e3b3bc4c648eceab7749723a9e",
              "version_major": 2,
              "version_minor": 0
            },
            "text/plain": [
              "Calculating Metrics:   0%|          | 0/1 [00:00<?, ?it/s]"
            ]
          },
          "metadata": {},
          "output_type": "display_data"
        },
        {
          "data": {
            "text/html": [
              "<div>\n",
              "<style scoped>\n",
              "    .dataframe tbody tr th:only-of-type {\n",
              "        vertical-align: middle;\n",
              "    }\n",
              "\n",
              "    .dataframe tbody tr th {\n",
              "        vertical-align: top;\n",
              "    }\n",
              "\n",
              "    .dataframe thead th {\n",
              "        text-align: right;\n",
              "    }\n",
              "</style>\n",
              "<table border=\"1\" class=\"dataframe\">\n",
              "  <thead>\n",
              "    <tr style=\"text-align: right;\">\n",
              "      <th></th>\n",
              "      <th>year</th>\n",
              "      <th>make</th>\n",
              "      <th>model</th>\n",
              "      <th>trim</th>\n",
              "      <th>body</th>\n",
              "      <th>transmission</th>\n",
              "      <th>vin</th>\n",
              "      <th>branch</th>\n",
              "      <th>condition</th>\n",
              "      <th>odometer</th>\n",
              "      <th>color</th>\n",
              "      <th>interior</th>\n",
              "      <th>seller</th>\n",
              "      <th>marketprice</th>\n",
              "      <th>sellingprice</th>\n",
              "      <th>saledate</th>\n",
              "    </tr>\n",
              "  </thead>\n",
              "  <tbody>\n",
              "    <tr>\n",
              "      <th>0</th>\n",
              "      <td>2013</td>\n",
              "      <td>Hyundai</td>\n",
              "      <td>Elantra</td>\n",
              "      <td>GLS</td>\n",
              "      <td>sedan</td>\n",
              "      <td>automatic</td>\n",
              "      <td>5npdh4ae0dh326532</td>\n",
              "      <td>JAKARTA</td>\n",
              "      <td>48.0</td>\n",
              "      <td>33610.0</td>\n",
              "      <td>black</td>\n",
              "      <td>beige</td>\n",
              "      <td>hyundai motor finance</td>\n",
              "      <td>227900000.0</td>\n",
              "      <td>236500000.0</td>\n",
              "      <td>Tue Jun 16 2018 02:30:00 GMT-0700 (PDT)</td>\n",
              "    </tr>\n",
              "    <tr>\n",
              "      <th>1</th>\n",
              "      <td>2014</td>\n",
              "      <td>Jeep</td>\n",
              "      <td>Patriot</td>\n",
              "      <td>Limited</td>\n",
              "      <td>SUV</td>\n",
              "      <td>automatic</td>\n",
              "      <td>1c4njrcb6ed842622</td>\n",
              "      <td>JAKARTA</td>\n",
              "      <td>47.0</td>\n",
              "      <td>27249.0</td>\n",
              "      <td>white</td>\n",
              "      <td>tan</td>\n",
              "      <td>budget rent a car/kansas city funding llc</td>\n",
              "      <td>389150000.0</td>\n",
              "      <td>389150000.0</td>\n",
              "      <td>Wed Mar 04 2018 02:30:00 GMT-0800 (PST)</td>\n",
              "    </tr>\n",
              "    <tr>\n",
              "      <th>2</th>\n",
              "      <td>2013</td>\n",
              "      <td>Ford</td>\n",
              "      <td>Edge</td>\n",
              "      <td>Limited</td>\n",
              "      <td>SUV</td>\n",
              "      <td>automatic</td>\n",
              "      <td>2fmdk4kc0dbc22340</td>\n",
              "      <td>SURABAYA</td>\n",
              "      <td>29.0</td>\n",
              "      <td>56447.0</td>\n",
              "      <td>gray</td>\n",
              "      <td>black</td>\n",
              "      <td>the hertz corporation</td>\n",
              "      <td>396675000.0</td>\n",
              "      <td>397750000.0</td>\n",
              "      <td>Wed Jan 07 2019 12:30:00 GMT-0800 (PST)</td>\n",
              "    </tr>\n",
              "    <tr>\n",
              "      <th>3</th>\n",
              "      <td>2009</td>\n",
              "      <td>Chevrolet</td>\n",
              "      <td>Impala</td>\n",
              "      <td>LS</td>\n",
              "      <td>Sedan</td>\n",
              "      <td>automatic</td>\n",
              "      <td>2g1wb57k291189849</td>\n",
              "      <td>MEDAN</td>\n",
              "      <td>2.0</td>\n",
              "      <td>14916.0</td>\n",
              "      <td>gray</td>\n",
              "      <td>gray</td>\n",
              "      <td>westlake financial services</td>\n",
              "      <td>180600000.0</td>\n",
              "      <td>150500000.0</td>\n",
              "      <td>Tue Jan 13 2018 10:00:00 GMT-0800 (PST)</td>\n",
              "    </tr>\n",
              "    <tr>\n",
              "      <th>4</th>\n",
              "      <td>2014</td>\n",
              "      <td>Ford</td>\n",
              "      <td>Fusion</td>\n",
              "      <td>SE</td>\n",
              "      <td>Sedan</td>\n",
              "      <td>automatic</td>\n",
              "      <td>3fa6p0hd2er160035</td>\n",
              "      <td>MEDAN</td>\n",
              "      <td>46.0</td>\n",
              "      <td>37674.0</td>\n",
              "      <td>brown</td>\n",
              "      <td>black</td>\n",
              "      <td>avis corporation</td>\n",
              "      <td>324650000.0</td>\n",
              "      <td>320350000.0</td>\n",
              "      <td>Wed Feb 18 2019 02:00:00 GMT-0800 (PST)</td>\n",
              "    </tr>\n",
              "  </tbody>\n",
              "</table>\n",
              "</div>"
            ],
            "text/plain": [
              "   year       make    model     trim   body transmission                vin  \\\n",
              "0  2013    Hyundai  Elantra      GLS  sedan    automatic  5npdh4ae0dh326532   \n",
              "1  2014       Jeep  Patriot  Limited    SUV    automatic  1c4njrcb6ed842622   \n",
              "2  2013       Ford     Edge  Limited    SUV    automatic  2fmdk4kc0dbc22340   \n",
              "3  2009  Chevrolet   Impala       LS  Sedan    automatic  2g1wb57k291189849   \n",
              "4  2014       Ford   Fusion       SE  Sedan    automatic  3fa6p0hd2er160035   \n",
              "\n",
              "     branch  condition  odometer  color interior  \\\n",
              "0   JAKARTA       48.0   33610.0  black    beige   \n",
              "1   JAKARTA       47.0   27249.0  white      tan   \n",
              "2  SURABAYA       29.0   56447.0   gray    black   \n",
              "3     MEDAN        2.0   14916.0   gray     gray   \n",
              "4     MEDAN       46.0   37674.0  brown    black   \n",
              "\n",
              "                                      seller  marketprice  sellingprice  \\\n",
              "0                      hyundai motor finance  227900000.0   236500000.0   \n",
              "1  budget rent a car/kansas city funding llc  389150000.0   389150000.0   \n",
              "2                      the hertz corporation  396675000.0   397750000.0   \n",
              "3                westlake financial services  180600000.0   150500000.0   \n",
              "4                           avis corporation  324650000.0   320350000.0   \n",
              "\n",
              "                                  saledate  \n",
              "0  Tue Jun 16 2018 02:30:00 GMT-0700 (PDT)  \n",
              "1  Wed Mar 04 2018 02:30:00 GMT-0800 (PST)  \n",
              "2  Wed Jan 07 2019 12:30:00 GMT-0800 (PST)  \n",
              "3  Tue Jan 13 2018 10:00:00 GMT-0800 (PST)  \n",
              "4  Wed Feb 18 2019 02:00:00 GMT-0800 (PST)  "
            ]
          },
          "execution_count": 27,
          "metadata": {},
          "output_type": "execute_result"
        }
      ],
      "source": [
        "expectation_suite_name = 'expectation-data-ti'\n",
        "context.add_or_update_expectation_suite(expectation_suite_name)\n",
        "\n",
        "validator = context.get_validator(\n",
        "    batch_request = batch_request,\n",
        "    expectation_suite_name = expectation_suite_name)\n",
        "\n",
        "validator.head()"
      ]
    },
    {
      "cell_type": "markdown",
      "id": "dd022203",
      "metadata": {},
      "source": [
        "Setelah data sudah berhasil disiapkan dan validatornya sudah dihubungkan dengan data, maka kita masuk ke sesi validasinya, dimana saya melakukan 6 ekspektasi dalam data ini."
      ]
    },
    {
      "cell_type": "markdown",
      "id": "256ce94d",
      "metadata": {},
      "source": [
        "___\n",
        "### GE 1: To Be Unique"
      ]
    },
    {
      "cell_type": "markdown",
      "id": "0a0f79b1",
      "metadata": {},
      "source": [
        "Espektasi 'expect_compound_columns_to_be_unique' digunakan untuk memastikan bahwa gabungan nilai-nilai dari seluruh kolom dalam data tidak ada yang sama persis antar baris. "
      ]
    },
    {
      "cell_type": "code",
      "execution_count": 28,
      "id": "a3b04f50",
      "metadata": {},
      "outputs": [
        {
          "data": {
            "application/vnd.jupyter.widget-view+json": {
              "model_id": "1104cbf41e0846cc9d61861454be5755",
              "version_major": 2,
              "version_minor": 0
            },
            "text/plain": [
              "Calculating Metrics:   0%|          | 0/7 [00:00<?, ?it/s]"
            ]
          },
          "metadata": {},
          "output_type": "display_data"
        },
        {
          "data": {
            "text/plain": [
              "{\n",
              "  \"success\": true,\n",
              "  \"result\": {\n",
              "    \"element_count\": 12000,\n",
              "    \"unexpected_count\": 0,\n",
              "    \"unexpected_percent\": 0.0,\n",
              "    \"partial_unexpected_list\": [],\n",
              "    \"missing_count\": 0,\n",
              "    \"missing_percent\": 0.0,\n",
              "    \"unexpected_percent_total\": 0.0,\n",
              "    \"unexpected_percent_nonmissing\": 0.0\n",
              "  },\n",
              "  \"meta\": {},\n",
              "  \"exception_info\": {\n",
              "    \"raised_exception\": false,\n",
              "    \"exception_traceback\": null,\n",
              "    \"exception_message\": null\n",
              "  }\n",
              "}"
            ]
          },
          "execution_count": 28,
          "metadata": {},
          "output_type": "execute_result"
        }
      ],
      "source": [
        "# Expectation 1:\n",
        "\n",
        "validator.expect_compound_columns_to_be_unique(\n",
        "    column_list = [\n",
        "    \"year\", \n",
        "    \"make\", \n",
        "    \"model\", \n",
        "    \"trim\", \n",
        "    \"body\", \n",
        "    \"transmission\",\n",
        "    \"vin\", \n",
        "    \"branch\", \n",
        "    \"condition\", \n",
        "    \"odometer\",\n",
        "    \"color\", \n",
        "    \"interior\", \n",
        "    \"seller\", \n",
        "    \"marketprice\",\n",
        "    \"sellingprice\", \n",
        "    \"saledate\"])"
      ]
    },
    {
      "cell_type": "markdown",
      "id": "12952f54",
      "metadata": {},
      "source": [
        "Dari pengecekan, semua gabungan nilai-nilai dari seluruh kolom dalam data tidak ada yang sama persis antar baris. \n",
        "\n",
        "- Total pengecekan baris: 12.000 baris\n",
        "- Nilai duplikat yang tidak terduga: 0\n",
        "- Nilai hilang: 0\n",
        "- Persentase tak terduga: 0,0%"
      ]
    },
    {
      "cell_type": "markdown",
      "id": "6ff7afc0",
      "metadata": {},
      "source": [
        "___\n",
        "### GE 2: To Be Between"
      ]
    },
    {
      "cell_type": "markdown",
      "id": "f248bdcc",
      "metadata": {},
      "source": [
        "Ekspektasi 'expect_column_values_to_be_between' digunakan untuk memastikan nilai value dalam suatu kolom berada dalam suatu rentan yang ada.\n",
        "\n",
        "Dalam data ini, saya ingin memvalidasi apakah data 'sellingprice' terdapat dalam rentan 4 juta hingga 4 milyar."
      ]
    },
    {
      "cell_type": "code",
      "execution_count": 29,
      "id": "e7b76345",
      "metadata": {},
      "outputs": [
        {
          "data": {
            "application/vnd.jupyter.widget-view+json": {
              "model_id": "4961ad3fe0df4a2495b5ec08e0adaea5",
              "version_major": 2,
              "version_minor": 0
            },
            "text/plain": [
              "Calculating Metrics:   0%|          | 0/8 [00:00<?, ?it/s]"
            ]
          },
          "metadata": {},
          "output_type": "display_data"
        },
        {
          "data": {
            "text/plain": [
              "{\n",
              "  \"success\": true,\n",
              "  \"result\": {\n",
              "    \"element_count\": 12000,\n",
              "    \"unexpected_count\": 0,\n",
              "    \"unexpected_percent\": 0.0,\n",
              "    \"partial_unexpected_list\": [],\n",
              "    \"missing_count\": 1,\n",
              "    \"missing_percent\": 0.008333333333333333,\n",
              "    \"unexpected_percent_total\": 0.0,\n",
              "    \"unexpected_percent_nonmissing\": 0.0\n",
              "  },\n",
              "  \"meta\": {},\n",
              "  \"exception_info\": {\n",
              "    \"raised_exception\": false,\n",
              "    \"exception_traceback\": null,\n",
              "    \"exception_message\": null\n",
              "  }\n",
              "}"
            ]
          },
          "execution_count": 29,
          "metadata": {},
          "output_type": "execute_result"
        }
      ],
      "source": [
        "# Expectation 2:\n",
        "\n",
        "validator.expect_column_values_to_be_between(\n",
        "    column=\"sellingprice\",\n",
        "    min_value=4000000,\n",
        "    max_value=4000000000\n",
        ")"
      ]
    },
    {
      "cell_type": "markdown",
      "id": "6f4a454a",
      "metadata": {},
      "source": [
        "Dalam pengecekan, dapat disimpulkan kebenaran dari harga jual mobil berada dalam rentan 4 juta hingga 4 milyar.\n",
        "\n",
        "- Total pengecekan baris: 12.000 baris\n",
        "- Persentase tak terduga: 0,0%\n",
        "- Nilai hilang: 0\n",
        "- Total persentase tak terduga: 0,0%"
      ]
    },
    {
      "cell_type": "markdown",
      "id": "788122ac",
      "metadata": {},
      "source": [
        "___\n",
        "### GE 3: Most Common Value To Be In Set"
      ]
    },
    {
      "cell_type": "markdown",
      "id": "ef1857de",
      "metadata": {},
      "source": [
        "Ekspektasi 'expect_column_most_common_value_to_be_in_set' digunakan untuk memvalidasi nilai atau value data yang paling sering muncul dalam suatu kolom.\n",
        "\n",
        "Pada ekspektasi ini, saya memvalidasi manakah merk mobil yang paling banyak dalam data ini, apakah 'Hyundai' atau 'Ford'."
      ]
    },
    {
      "cell_type": "code",
      "execution_count": 30,
      "id": "647758cd",
      "metadata": {},
      "outputs": [
        {
          "data": {
            "application/vnd.jupyter.widget-view+json": {
              "model_id": "56323f356ce94030ad9e2eecf2be9b8f",
              "version_major": 2,
              "version_minor": 0
            },
            "text/plain": [
              "Calculating Metrics:   0%|          | 0/4 [00:00<?, ?it/s]"
            ]
          },
          "metadata": {},
          "output_type": "display_data"
        },
        {
          "data": {
            "text/plain": [
              "{\n",
              "  \"success\": true,\n",
              "  \"result\": {\n",
              "    \"observed_value\": [\n",
              "      \"Ford\"\n",
              "    ]\n",
              "  },\n",
              "  \"meta\": {},\n",
              "  \"exception_info\": {\n",
              "    \"raised_exception\": false,\n",
              "    \"exception_traceback\": null,\n",
              "    \"exception_message\": null\n",
              "  }\n",
              "}"
            ]
          },
          "execution_count": 30,
          "metadata": {},
          "output_type": "execute_result"
        }
      ],
      "source": [
        "# Expectation 3:\n",
        "\n",
        "validator.expect_column_most_common_value_to_be_in_set(\n",
        "    column='make',\n",
        "    value_set=['Hyundai', 'Ford'],\n",
        "    ties_okay=True\n",
        ")\n"
      ]
    },
    {
      "cell_type": "markdown",
      "id": "6d43d1a0",
      "metadata": {},
      "source": [
        "Dalam pengecekan, data merk mobil 'Ford' lebih banyak dibanding mobil 'Hyundai'.\n",
        "\n",
        "- Nilai obseravasi: Ford"
      ]
    },
    {
      "cell_type": "markdown",
      "id": "993c87a6",
      "metadata": {},
      "source": [
        "___\n",
        "### GE 4: Column Values To Be In Set"
      ]
    },
    {
      "cell_type": "markdown",
      "id": "606a4dde",
      "metadata": {},
      "source": [
        "Ekspektasi 'expect_column_values_to_be_in_set' digunakan untuk melakukan validasi nilai dalam suatu kolom apakah benar berisi nilai-nilai yang divalidasi atau tidak.\n",
        "\n",
        "Dalam ekspektasi ini, saya memvalidasi apakah hanya terdapat transmisi mobil automatic, manual, dan unknown dalam data."
      ]
    },
    {
      "cell_type": "code",
      "execution_count": 31,
      "id": "ae7ddfdc",
      "metadata": {},
      "outputs": [
        {
          "data": {
            "application/vnd.jupyter.widget-view+json": {
              "model_id": "aa0daf8f949a4114b47605723b35b99d",
              "version_major": 2,
              "version_minor": 0
            },
            "text/plain": [
              "Calculating Metrics:   0%|          | 0/8 [00:00<?, ?it/s]"
            ]
          },
          "metadata": {},
          "output_type": "display_data"
        },
        {
          "data": {
            "text/plain": [
              "{\n",
              "  \"success\": true,\n",
              "  \"result\": {\n",
              "    \"element_count\": 12000,\n",
              "    \"unexpected_count\": 0,\n",
              "    \"unexpected_percent\": 0.0,\n",
              "    \"partial_unexpected_list\": [],\n",
              "    \"missing_count\": 1448,\n",
              "    \"missing_percent\": 12.066666666666666,\n",
              "    \"unexpected_percent_total\": 0.0,\n",
              "    \"unexpected_percent_nonmissing\": 0.0\n",
              "  },\n",
              "  \"meta\": {},\n",
              "  \"exception_info\": {\n",
              "    \"raised_exception\": false,\n",
              "    \"exception_traceback\": null,\n",
              "    \"exception_message\": null\n",
              "  }\n",
              "}"
            ]
          },
          "execution_count": 31,
          "metadata": {},
          "output_type": "execute_result"
        }
      ],
      "source": [
        "# Expectation 4:\n",
        "\n",
        "validator.expect_column_values_to_be_in_set(\n",
        "    column=\"transmission\",\n",
        "    value_set=['automatic', 'manual', 'unknown']\n",
        ")"
      ]
    },
    {
      "cell_type": "markdown",
      "id": "215f241b",
      "metadata": {},
      "source": [
        "Dalam pengecekan, betul adanya bahwa hanya terdapat transmisi mobil automatic, manual, dan unknown dalam data.\n",
        "\n",
        "- Total pengecekan baris: 12.000 baris\n",
        "- Persentase tak terduga: 0,0%\n",
        "- Nilai hilang: 1448\n",
        "- Total persentase tak terduga: 0,0%"
      ]
    },
    {
      "cell_type": "markdown",
      "id": "5a409076",
      "metadata": {},
      "source": [
        "___\n",
        "### GE 5: Column Values To Not Be Null"
      ]
    },
    {
      "cell_type": "markdown",
      "id": "d7c23bd9",
      "metadata": {},
      "source": [
        "Ekspektasi 'expect_column_values_to_not_be_null' diperlukan untuk mengecek atau memvalidasi apakah terdapat data hilang dalam suatu kolom atau tidak.\n",
        "\n",
        "Disini saya ingin mengecek apakah semua tempat dealer 'branch' mobil sudah terisi semua atau belum."
      ]
    },
    {
      "cell_type": "code",
      "execution_count": 32,
      "id": "fa68452d",
      "metadata": {},
      "outputs": [
        {
          "data": {
            "application/vnd.jupyter.widget-view+json": {
              "model_id": "33921b4fca3b438b859008154998db4e",
              "version_major": 2,
              "version_minor": 0
            },
            "text/plain": [
              "Calculating Metrics:   0%|          | 0/6 [00:00<?, ?it/s]"
            ]
          },
          "metadata": {},
          "output_type": "display_data"
        },
        {
          "data": {
            "text/plain": [
              "{\n",
              "  \"success\": true,\n",
              "  \"result\": {\n",
              "    \"element_count\": 12000,\n",
              "    \"unexpected_count\": 0,\n",
              "    \"unexpected_percent\": 0.0,\n",
              "    \"partial_unexpected_list\": []\n",
              "  },\n",
              "  \"meta\": {},\n",
              "  \"exception_info\": {\n",
              "    \"raised_exception\": false,\n",
              "    \"exception_traceback\": null,\n",
              "    \"exception_message\": null\n",
              "  }\n",
              "}"
            ]
          },
          "execution_count": 32,
          "metadata": {},
          "output_type": "execute_result"
        }
      ],
      "source": [
        "# Expectation 5:\n",
        "\n",
        "validator.expect_column_values_to_not_be_null(column=\"branch\")"
      ]
    },
    {
      "cell_type": "markdown",
      "id": "6c857156",
      "metadata": {},
      "source": [
        "Dalam pengecekan, betul bahwa semua data dealer mobil sudah terisi.\n",
        "\n",
        "- Total pengecekan baris: 12.000 baris\n",
        "- Persentase tak terduga: 0,0%"
      ]
    },
    {
      "cell_type": "markdown",
      "id": "90ed1d79",
      "metadata": {},
      "source": [
        "___\n",
        "### GE 6: Table Column Count To Equal"
      ]
    },
    {
      "cell_type": "markdown",
      "id": "3c450175",
      "metadata": {},
      "source": [
        "Ekspektasi 'expect_table_column_count_to_equal' digunakan untuk mengecek atau memvalidasi apakah benar jumlah data yang sedang digunakan, benar berjumlah sekian kolom atau sekian data.\n",
        "\n",
        "Pada data ini, jumlah data mobil yang seharusnya dimiliki adalah 16 tipe data atau 16 kolom data."
      ]
    },
    {
      "cell_type": "code",
      "execution_count": 33,
      "id": "65e451a7",
      "metadata": {},
      "outputs": [
        {
          "data": {
            "application/vnd.jupyter.widget-view+json": {
              "model_id": "e55684f35c8c48688543aec3055d9c96",
              "version_major": 2,
              "version_minor": 0
            },
            "text/plain": [
              "Calculating Metrics:   0%|          | 0/3 [00:00<?, ?it/s]"
            ]
          },
          "metadata": {},
          "output_type": "display_data"
        },
        {
          "data": {
            "text/plain": [
              "{\n",
              "  \"success\": true,\n",
              "  \"result\": {\n",
              "    \"observed_value\": 16\n",
              "  },\n",
              "  \"meta\": {},\n",
              "  \"exception_info\": {\n",
              "    \"raised_exception\": false,\n",
              "    \"exception_traceback\": null,\n",
              "    \"exception_message\": null\n",
              "  }\n",
              "}"
            ]
          },
          "execution_count": 33,
          "metadata": {},
          "output_type": "execute_result"
        }
      ],
      "source": [
        "# Expectation 6:\n",
        "\n",
        "validator.expect_table_column_count_to_equal(value=16)"
      ]
    },
    {
      "cell_type": "markdown",
      "id": "df5b7d68",
      "metadata": {},
      "source": [
        "Dalam pengecekan, betul bahwa data yang digunakan dalam observasi berjumlah 16 kolom data atau 16 tipe data mobil.\n",
        "\n",
        "- Kolom yang diobservasi: 16 kolom"
      ]
    },
    {
      "cell_type": "markdown",
      "id": "aece1e72",
      "metadata": {},
      "source": [
        "Selanjutnya saya akan masuk ke bagian eksplorasi data."
      ]
    },
    {
      "cell_type": "markdown",
      "id": "462bcf86",
      "metadata": {
        "id": "462bcf86"
      },
      "source": [
        "___\n",
        "## 5. Exploratory Data Analysis (EDA)"
      ]
    },
    {
      "cell_type": "markdown",
      "id": "0372aaf8",
      "metadata": {
        "id": "0372aaf8"
      },
      "source": [
        "Dalam EDA, terdapat beberapa hal yang perlu untuk saya selesaikan, yaitu:\n",
        "\n",
        "1. Apakah menjual mobil-mobil tua masih menguntungkan secara bisnis?\n",
        "\n",
        "2. Merk mobil beserta tipe apa saja yang paling sering terjual?\n",
        "\n",
        "3. Apakah ada hubungan antara tahun produksi dengan harga pasaran mobil saat ini?\n",
        "\n",
        "4. Bagaimana caranya memperkirakan harga pasar dari tipe mobil yang belum masuk di dalam dataset?\n",
        "\n",
        "___"
      ]
    },
    {
      "cell_type": "markdown",
      "id": "141ae57d",
      "metadata": {
        "id": "141ae57d"
      },
      "source": [
        "### 5.1 EDA 1. Apakah menjual mobil-mobil tua masih menguntungkan secara bisnis?"
      ]
    },
    {
      "cell_type": "markdown",
      "id": "45b88d33",
      "metadata": {},
      "source": [
        "Untuk memahami apakah mobil tua masih menguntungkan secara bisnis, saya menghitung margin penjualan (selisih antara harga jual dan harga pasar) dan mengelompokkan data berdasarkan tahun produksi. Hasilnya akan menunjukkan apakah mobil dari era tertentu cenderung menghasilkan keuntungan atau kerugian.\n",
        "\n",
        "Saya mengelompokkan kategori tahun mobil kepada 3 kelompok, yaitu mobil 'tua', mobil 'menengah', dan mobil 'baru'."
      ]
    },
    {
      "cell_type": "code",
      "execution_count": 46,
      "id": "59f4602e",
      "metadata": {},
      "outputs": [
        {
          "data": {
            "text/plain": [
              "year_group\n",
              "Tua        -4.002660e+04\n",
              "Menengah   -1.779453e+06\n",
              "Baru       -3.920772e+06\n",
              "Name: margin, dtype: float64"
            ]
          },
          "execution_count": 46,
          "metadata": {},
          "output_type": "execute_result"
        }
      ],
      "source": [
        "df['margin'] = df['sellingprice'] - df['marketprice']\n",
        "df['year_group'] = pd.cut(df['year'], bins=[1986, 1999, 2009, 2015],\n",
        "                          labels=['Tua', 'Menengah', 'Baru'])\n",
        "df.groupby('year_group')['margin'].mean()"
      ]
    },
    {
      "cell_type": "markdown",
      "id": "9c4593f8",
      "metadata": {},
      "source": [
        "Semua kelompok tahun menunjukkan margin negatif, artinya mobil dijual di bawah harga pasar rata-rata.\n",
        "\n",
        "Ini bisa mencerminkan strategi diskon dan sebuah depresiasi pasar.\n",
        "\n",
        "- Mobil tua (1987–1999) memiliki margin paling kecil secara negatif, yaitu rata-rata rugi hanya sekitar 40 ribu, hampir impas. Ini menunjukkan bahwa mobil tua masih bisa dijual dengan harga mendekati nilai pasar, terutama jika menyasar segmen mobil klasik atau second-hand murah.\n",
        "\n",
        "- Mobil menengah (2000–2009) dan baru (2010–2015) justru menunjukkan kerugian lebih besar. Mobil baru rugi rata-rata 3.9 juta, kemungkinan karena harga pasar terlalu tinggi dibanding harga jual aktual, penjual memberi diskon besar untuk menarik pembeli dan depresiasi cepat pada mobil baru.\n",
        "\n",
        "Mobil tua menunjukkan potensi margin yang lebih stabil dibanding mobil baru, meskipun volumenya lebih rendah. Ini membuka peluang untuk strategi penjualan mobil bekas tua sebagai segmen pasar yang minim depresiasi walaupun dari data masih merugikan perusahaan."
      ]
    },
    {
      "cell_type": "markdown",
      "id": "59b72b3e",
      "metadata": {},
      "source": [
        "___\n",
        "### 5.2 EDA 2. Merk mobil beserta tipe apa saja yang paling sering terjual?"
      ]
    },
    {
      "cell_type": "markdown",
      "id": "a70038d7",
      "metadata": {},
      "source": [
        "Saya akan membuat grafik pie dalam merk dan tipe mobil yang paling sering terjual."
      ]
    },
    {
      "cell_type": "code",
      "execution_count": 35,
      "id": "e8d9e41d",
      "metadata": {},
      "outputs": [
        {
          "data": {
            "application/vnd.plotly.v1+json": {
              "config": {
                "plotlyServerURL": "https://plot.ly"
              },
              "data": [
                {
                  "domain": {
                    "x": [
                      0,
                      1
                    ],
                    "y": [
                      0,
                      1
                    ]
                  },
                  "hovertemplate": "make=%{label}<br>count=%{value}<extra></extra>",
                  "labels": [
                    "Ford",
                    "Chevrolet",
                    "Nissan",
                    "Toyota",
                    "Dodge",
                    "Honda",
                    "Hyundai",
                    "BMW",
                    "Kia",
                    "Mercedes-Benz"
                  ],
                  "legendgroup": "",
                  "name": "",
                  "pull": [
                    0.05,
                    0.05,
                    0.05,
                    0.05,
                    0.05,
                    0.05,
                    0.05,
                    0.05,
                    0.05,
                    0.05
                  ],
                  "showlegend": true,
                  "textinfo": "percent+label",
                  "type": "pie",
                  "values": [
                    2230,
                    1308,
                    1163,
                    833,
                    652,
                    637,
                    455,
                    452,
                    374,
                    368
                  ]
                }
              ],
              "layout": {
                "legend": {
                  "tracegroupgap": 0
                },
                "piecolorway": [
                  "rgb(141,211,199)",
                  "rgb(255,255,179)",
                  "rgb(190,186,218)",
                  "rgb(251,128,114)",
                  "rgb(128,177,211)",
                  "rgb(253,180,98)",
                  "rgb(179,222,105)",
                  "rgb(252,205,229)",
                  "rgb(217,217,217)",
                  "rgb(188,128,189)",
                  "rgb(204,235,197)",
                  "rgb(255,237,111)"
                ],
                "template": {
                  "data": {
                    "bar": [
                      {
                        "error_x": {
                          "color": "#2a3f5f"
                        },
                        "error_y": {
                          "color": "#2a3f5f"
                        },
                        "marker": {
                          "line": {
                            "color": "#E5ECF6",
                            "width": 0.5
                          },
                          "pattern": {
                            "fillmode": "overlay",
                            "size": 10,
                            "solidity": 0.2
                          }
                        },
                        "type": "bar"
                      }
                    ],
                    "barpolar": [
                      {
                        "marker": {
                          "line": {
                            "color": "#E5ECF6",
                            "width": 0.5
                          },
                          "pattern": {
                            "fillmode": "overlay",
                            "size": 10,
                            "solidity": 0.2
                          }
                        },
                        "type": "barpolar"
                      }
                    ],
                    "carpet": [
                      {
                        "aaxis": {
                          "endlinecolor": "#2a3f5f",
                          "gridcolor": "white",
                          "linecolor": "white",
                          "minorgridcolor": "white",
                          "startlinecolor": "#2a3f5f"
                        },
                        "baxis": {
                          "endlinecolor": "#2a3f5f",
                          "gridcolor": "white",
                          "linecolor": "white",
                          "minorgridcolor": "white",
                          "startlinecolor": "#2a3f5f"
                        },
                        "type": "carpet"
                      }
                    ],
                    "choropleth": [
                      {
                        "colorbar": {
                          "outlinewidth": 0,
                          "ticks": ""
                        },
                        "type": "choropleth"
                      }
                    ],
                    "contour": [
                      {
                        "colorbar": {
                          "outlinewidth": 0,
                          "ticks": ""
                        },
                        "colorscale": [
                          [
                            0,
                            "#0d0887"
                          ],
                          [
                            0.1111111111111111,
                            "#46039f"
                          ],
                          [
                            0.2222222222222222,
                            "#7201a8"
                          ],
                          [
                            0.3333333333333333,
                            "#9c179e"
                          ],
                          [
                            0.4444444444444444,
                            "#bd3786"
                          ],
                          [
                            0.5555555555555556,
                            "#d8576b"
                          ],
                          [
                            0.6666666666666666,
                            "#ed7953"
                          ],
                          [
                            0.7777777777777778,
                            "#fb9f3a"
                          ],
                          [
                            0.8888888888888888,
                            "#fdca26"
                          ],
                          [
                            1,
                            "#f0f921"
                          ]
                        ],
                        "type": "contour"
                      }
                    ],
                    "contourcarpet": [
                      {
                        "colorbar": {
                          "outlinewidth": 0,
                          "ticks": ""
                        },
                        "type": "contourcarpet"
                      }
                    ],
                    "heatmap": [
                      {
                        "colorbar": {
                          "outlinewidth": 0,
                          "ticks": ""
                        },
                        "colorscale": [
                          [
                            0,
                            "#0d0887"
                          ],
                          [
                            0.1111111111111111,
                            "#46039f"
                          ],
                          [
                            0.2222222222222222,
                            "#7201a8"
                          ],
                          [
                            0.3333333333333333,
                            "#9c179e"
                          ],
                          [
                            0.4444444444444444,
                            "#bd3786"
                          ],
                          [
                            0.5555555555555556,
                            "#d8576b"
                          ],
                          [
                            0.6666666666666666,
                            "#ed7953"
                          ],
                          [
                            0.7777777777777778,
                            "#fb9f3a"
                          ],
                          [
                            0.8888888888888888,
                            "#fdca26"
                          ],
                          [
                            1,
                            "#f0f921"
                          ]
                        ],
                        "type": "heatmap"
                      }
                    ],
                    "heatmapgl": [
                      {
                        "colorbar": {
                          "outlinewidth": 0,
                          "ticks": ""
                        },
                        "colorscale": [
                          [
                            0,
                            "#0d0887"
                          ],
                          [
                            0.1111111111111111,
                            "#46039f"
                          ],
                          [
                            0.2222222222222222,
                            "#7201a8"
                          ],
                          [
                            0.3333333333333333,
                            "#9c179e"
                          ],
                          [
                            0.4444444444444444,
                            "#bd3786"
                          ],
                          [
                            0.5555555555555556,
                            "#d8576b"
                          ],
                          [
                            0.6666666666666666,
                            "#ed7953"
                          ],
                          [
                            0.7777777777777778,
                            "#fb9f3a"
                          ],
                          [
                            0.8888888888888888,
                            "#fdca26"
                          ],
                          [
                            1,
                            "#f0f921"
                          ]
                        ],
                        "type": "heatmapgl"
                      }
                    ],
                    "histogram": [
                      {
                        "marker": {
                          "pattern": {
                            "fillmode": "overlay",
                            "size": 10,
                            "solidity": 0.2
                          }
                        },
                        "type": "histogram"
                      }
                    ],
                    "histogram2d": [
                      {
                        "colorbar": {
                          "outlinewidth": 0,
                          "ticks": ""
                        },
                        "colorscale": [
                          [
                            0,
                            "#0d0887"
                          ],
                          [
                            0.1111111111111111,
                            "#46039f"
                          ],
                          [
                            0.2222222222222222,
                            "#7201a8"
                          ],
                          [
                            0.3333333333333333,
                            "#9c179e"
                          ],
                          [
                            0.4444444444444444,
                            "#bd3786"
                          ],
                          [
                            0.5555555555555556,
                            "#d8576b"
                          ],
                          [
                            0.6666666666666666,
                            "#ed7953"
                          ],
                          [
                            0.7777777777777778,
                            "#fb9f3a"
                          ],
                          [
                            0.8888888888888888,
                            "#fdca26"
                          ],
                          [
                            1,
                            "#f0f921"
                          ]
                        ],
                        "type": "histogram2d"
                      }
                    ],
                    "histogram2dcontour": [
                      {
                        "colorbar": {
                          "outlinewidth": 0,
                          "ticks": ""
                        },
                        "colorscale": [
                          [
                            0,
                            "#0d0887"
                          ],
                          [
                            0.1111111111111111,
                            "#46039f"
                          ],
                          [
                            0.2222222222222222,
                            "#7201a8"
                          ],
                          [
                            0.3333333333333333,
                            "#9c179e"
                          ],
                          [
                            0.4444444444444444,
                            "#bd3786"
                          ],
                          [
                            0.5555555555555556,
                            "#d8576b"
                          ],
                          [
                            0.6666666666666666,
                            "#ed7953"
                          ],
                          [
                            0.7777777777777778,
                            "#fb9f3a"
                          ],
                          [
                            0.8888888888888888,
                            "#fdca26"
                          ],
                          [
                            1,
                            "#f0f921"
                          ]
                        ],
                        "type": "histogram2dcontour"
                      }
                    ],
                    "mesh3d": [
                      {
                        "colorbar": {
                          "outlinewidth": 0,
                          "ticks": ""
                        },
                        "type": "mesh3d"
                      }
                    ],
                    "parcoords": [
                      {
                        "line": {
                          "colorbar": {
                            "outlinewidth": 0,
                            "ticks": ""
                          }
                        },
                        "type": "parcoords"
                      }
                    ],
                    "pie": [
                      {
                        "automargin": true,
                        "type": "pie"
                      }
                    ],
                    "scatter": [
                      {
                        "fillpattern": {
                          "fillmode": "overlay",
                          "size": 10,
                          "solidity": 0.2
                        },
                        "type": "scatter"
                      }
                    ],
                    "scatter3d": [
                      {
                        "line": {
                          "colorbar": {
                            "outlinewidth": 0,
                            "ticks": ""
                          }
                        },
                        "marker": {
                          "colorbar": {
                            "outlinewidth": 0,
                            "ticks": ""
                          }
                        },
                        "type": "scatter3d"
                      }
                    ],
                    "scattercarpet": [
                      {
                        "marker": {
                          "colorbar": {
                            "outlinewidth": 0,
                            "ticks": ""
                          }
                        },
                        "type": "scattercarpet"
                      }
                    ],
                    "scattergeo": [
                      {
                        "marker": {
                          "colorbar": {
                            "outlinewidth": 0,
                            "ticks": ""
                          }
                        },
                        "type": "scattergeo"
                      }
                    ],
                    "scattergl": [
                      {
                        "marker": {
                          "colorbar": {
                            "outlinewidth": 0,
                            "ticks": ""
                          }
                        },
                        "type": "scattergl"
                      }
                    ],
                    "scattermapbox": [
                      {
                        "marker": {
                          "colorbar": {
                            "outlinewidth": 0,
                            "ticks": ""
                          }
                        },
                        "type": "scattermapbox"
                      }
                    ],
                    "scatterpolar": [
                      {
                        "marker": {
                          "colorbar": {
                            "outlinewidth": 0,
                            "ticks": ""
                          }
                        },
                        "type": "scatterpolar"
                      }
                    ],
                    "scatterpolargl": [
                      {
                        "marker": {
                          "colorbar": {
                            "outlinewidth": 0,
                            "ticks": ""
                          }
                        },
                        "type": "scatterpolargl"
                      }
                    ],
                    "scatterternary": [
                      {
                        "marker": {
                          "colorbar": {
                            "outlinewidth": 0,
                            "ticks": ""
                          }
                        },
                        "type": "scatterternary"
                      }
                    ],
                    "surface": [
                      {
                        "colorbar": {
                          "outlinewidth": 0,
                          "ticks": ""
                        },
                        "colorscale": [
                          [
                            0,
                            "#0d0887"
                          ],
                          [
                            0.1111111111111111,
                            "#46039f"
                          ],
                          [
                            0.2222222222222222,
                            "#7201a8"
                          ],
                          [
                            0.3333333333333333,
                            "#9c179e"
                          ],
                          [
                            0.4444444444444444,
                            "#bd3786"
                          ],
                          [
                            0.5555555555555556,
                            "#d8576b"
                          ],
                          [
                            0.6666666666666666,
                            "#ed7953"
                          ],
                          [
                            0.7777777777777778,
                            "#fb9f3a"
                          ],
                          [
                            0.8888888888888888,
                            "#fdca26"
                          ],
                          [
                            1,
                            "#f0f921"
                          ]
                        ],
                        "type": "surface"
                      }
                    ],
                    "table": [
                      {
                        "cells": {
                          "fill": {
                            "color": "#EBF0F8"
                          },
                          "line": {
                            "color": "white"
                          }
                        },
                        "header": {
                          "fill": {
                            "color": "#C8D4E3"
                          },
                          "line": {
                            "color": "white"
                          }
                        },
                        "type": "table"
                      }
                    ]
                  },
                  "layout": {
                    "annotationdefaults": {
                      "arrowcolor": "#2a3f5f",
                      "arrowhead": 0,
                      "arrowwidth": 1
                    },
                    "autotypenumbers": "strict",
                    "coloraxis": {
                      "colorbar": {
                        "outlinewidth": 0,
                        "ticks": ""
                      }
                    },
                    "colorscale": {
                      "diverging": [
                        [
                          0,
                          "#8e0152"
                        ],
                        [
                          0.1,
                          "#c51b7d"
                        ],
                        [
                          0.2,
                          "#de77ae"
                        ],
                        [
                          0.3,
                          "#f1b6da"
                        ],
                        [
                          0.4,
                          "#fde0ef"
                        ],
                        [
                          0.5,
                          "#f7f7f7"
                        ],
                        [
                          0.6,
                          "#e6f5d0"
                        ],
                        [
                          0.7,
                          "#b8e186"
                        ],
                        [
                          0.8,
                          "#7fbc41"
                        ],
                        [
                          0.9,
                          "#4d9221"
                        ],
                        [
                          1,
                          "#276419"
                        ]
                      ],
                      "sequential": [
                        [
                          0,
                          "#0d0887"
                        ],
                        [
                          0.1111111111111111,
                          "#46039f"
                        ],
                        [
                          0.2222222222222222,
                          "#7201a8"
                        ],
                        [
                          0.3333333333333333,
                          "#9c179e"
                        ],
                        [
                          0.4444444444444444,
                          "#bd3786"
                        ],
                        [
                          0.5555555555555556,
                          "#d8576b"
                        ],
                        [
                          0.6666666666666666,
                          "#ed7953"
                        ],
                        [
                          0.7777777777777778,
                          "#fb9f3a"
                        ],
                        [
                          0.8888888888888888,
                          "#fdca26"
                        ],
                        [
                          1,
                          "#f0f921"
                        ]
                      ],
                      "sequentialminus": [
                        [
                          0,
                          "#0d0887"
                        ],
                        [
                          0.1111111111111111,
                          "#46039f"
                        ],
                        [
                          0.2222222222222222,
                          "#7201a8"
                        ],
                        [
                          0.3333333333333333,
                          "#9c179e"
                        ],
                        [
                          0.4444444444444444,
                          "#bd3786"
                        ],
                        [
                          0.5555555555555556,
                          "#d8576b"
                        ],
                        [
                          0.6666666666666666,
                          "#ed7953"
                        ],
                        [
                          0.7777777777777778,
                          "#fb9f3a"
                        ],
                        [
                          0.8888888888888888,
                          "#fdca26"
                        ],
                        [
                          1,
                          "#f0f921"
                        ]
                      ]
                    },
                    "colorway": [
                      "#636efa",
                      "#EF553B",
                      "#00cc96",
                      "#ab63fa",
                      "#FFA15A",
                      "#19d3f3",
                      "#FF6692",
                      "#B6E880",
                      "#FF97FF",
                      "#FECB52"
                    ],
                    "font": {
                      "color": "#2a3f5f"
                    },
                    "geo": {
                      "bgcolor": "white",
                      "lakecolor": "white",
                      "landcolor": "#E5ECF6",
                      "showlakes": true,
                      "showland": true,
                      "subunitcolor": "white"
                    },
                    "hoverlabel": {
                      "align": "left"
                    },
                    "hovermode": "closest",
                    "mapbox": {
                      "style": "light"
                    },
                    "paper_bgcolor": "white",
                    "plot_bgcolor": "#E5ECF6",
                    "polar": {
                      "angularaxis": {
                        "gridcolor": "white",
                        "linecolor": "white",
                        "ticks": ""
                      },
                      "bgcolor": "#E5ECF6",
                      "radialaxis": {
                        "gridcolor": "white",
                        "linecolor": "white",
                        "ticks": ""
                      }
                    },
                    "scene": {
                      "xaxis": {
                        "backgroundcolor": "#E5ECF6",
                        "gridcolor": "white",
                        "gridwidth": 2,
                        "linecolor": "white",
                        "showbackground": true,
                        "ticks": "",
                        "zerolinecolor": "white"
                      },
                      "yaxis": {
                        "backgroundcolor": "#E5ECF6",
                        "gridcolor": "white",
                        "gridwidth": 2,
                        "linecolor": "white",
                        "showbackground": true,
                        "ticks": "",
                        "zerolinecolor": "white"
                      },
                      "zaxis": {
                        "backgroundcolor": "#E5ECF6",
                        "gridcolor": "white",
                        "gridwidth": 2,
                        "linecolor": "white",
                        "showbackground": true,
                        "ticks": "",
                        "zerolinecolor": "white"
                      }
                    },
                    "shapedefaults": {
                      "line": {
                        "color": "#2a3f5f"
                      }
                    },
                    "ternary": {
                      "aaxis": {
                        "gridcolor": "white",
                        "linecolor": "white",
                        "ticks": ""
                      },
                      "baxis": {
                        "gridcolor": "white",
                        "linecolor": "white",
                        "ticks": ""
                      },
                      "bgcolor": "#E5ECF6",
                      "caxis": {
                        "gridcolor": "white",
                        "linecolor": "white",
                        "ticks": ""
                      }
                    },
                    "title": {
                      "x": 0.05
                    },
                    "xaxis": {
                      "automargin": true,
                      "gridcolor": "white",
                      "linecolor": "white",
                      "ticks": "",
                      "title": {
                        "standoff": 15
                      },
                      "zerolinecolor": "white",
                      "zerolinewidth": 2
                    },
                    "yaxis": {
                      "automargin": true,
                      "gridcolor": "white",
                      "linecolor": "white",
                      "ticks": "",
                      "title": {
                        "standoff": 15
                      },
                      "zerolinecolor": "white",
                      "zerolinewidth": 2
                    }
                  }
                },
                "title": {
                  "text": "Top 10 Merk Mobil Terlaris",
                  "x": 0.5
                }
              }
            }
          },
          "metadata": {},
          "output_type": "display_data"
        }
      ],
      "source": [
        "make_counts = df['make'].value_counts().head(10).reset_index()\n",
        "make_counts.columns = ['make', 'count']\n",
        "\n",
        "# Plot pie chart\n",
        "fig = px.pie(make_counts, names='make', values='count',\n",
        "             title='Top 10 Merk Mobil Terlaris',\n",
        "             color_discrete_sequence=px.colors.qualitative.Set3)\n",
        "\n",
        "fig.update_layout(title_x=0.5)\n",
        "fig.update_traces(textinfo='percent+label', pull=[0.05]*10)\n",
        "fig.show()"
      ]
    },
    {
      "cell_type": "markdown",
      "id": "3fb26543",
      "metadata": {},
      "source": [
        "Untuk merk mobil yang paling terlaris dari dalam data ini adalah Ford."
      ]
    },
    {
      "cell_type": "code",
      "execution_count": 36,
      "id": "3c1aacce",
      "metadata": {},
      "outputs": [
        {
          "data": {
            "application/vnd.plotly.v1+json": {
              "config": {
                "plotlyServerURL": "https://plot.ly"
              },
              "data": [
                {
                  "domain": {
                    "x": [
                      0,
                      1
                    ],
                    "y": [
                      0,
                      1
                    ]
                  },
                  "hovertemplate": "model=%{label}<br>count=%{value}<extra></extra>",
                  "labels": [
                    "Altima",
                    "F-150",
                    "Fusion",
                    "Camry",
                    "Focus",
                    "Escape",
                    "Accord",
                    "3 Series",
                    "G Sedan",
                    "Grand Caravan"
                  ],
                  "legendgroup": "",
                  "name": "",
                  "pull": [
                    0.05,
                    0.05,
                    0.05,
                    0.05,
                    0.05,
                    0.05,
                    0.05,
                    0.05,
                    0.05,
                    0.05
                  ],
                  "showlegend": true,
                  "textinfo": "percent+label",
                  "type": "pie",
                  "values": [
                    631,
                    339,
                    275,
                    260,
                    237,
                    233,
                    218,
                    188,
                    184,
                    174
                  ]
                }
              ],
              "layout": {
                "legend": {
                  "tracegroupgap": 0
                },
                "piecolorway": [
                  "rgb(141,211,199)",
                  "rgb(255,255,179)",
                  "rgb(190,186,218)",
                  "rgb(251,128,114)",
                  "rgb(128,177,211)",
                  "rgb(253,180,98)",
                  "rgb(179,222,105)",
                  "rgb(252,205,229)",
                  "rgb(217,217,217)",
                  "rgb(188,128,189)",
                  "rgb(204,235,197)",
                  "rgb(255,237,111)"
                ],
                "template": {
                  "data": {
                    "bar": [
                      {
                        "error_x": {
                          "color": "#2a3f5f"
                        },
                        "error_y": {
                          "color": "#2a3f5f"
                        },
                        "marker": {
                          "line": {
                            "color": "#E5ECF6",
                            "width": 0.5
                          },
                          "pattern": {
                            "fillmode": "overlay",
                            "size": 10,
                            "solidity": 0.2
                          }
                        },
                        "type": "bar"
                      }
                    ],
                    "barpolar": [
                      {
                        "marker": {
                          "line": {
                            "color": "#E5ECF6",
                            "width": 0.5
                          },
                          "pattern": {
                            "fillmode": "overlay",
                            "size": 10,
                            "solidity": 0.2
                          }
                        },
                        "type": "barpolar"
                      }
                    ],
                    "carpet": [
                      {
                        "aaxis": {
                          "endlinecolor": "#2a3f5f",
                          "gridcolor": "white",
                          "linecolor": "white",
                          "minorgridcolor": "white",
                          "startlinecolor": "#2a3f5f"
                        },
                        "baxis": {
                          "endlinecolor": "#2a3f5f",
                          "gridcolor": "white",
                          "linecolor": "white",
                          "minorgridcolor": "white",
                          "startlinecolor": "#2a3f5f"
                        },
                        "type": "carpet"
                      }
                    ],
                    "choropleth": [
                      {
                        "colorbar": {
                          "outlinewidth": 0,
                          "ticks": ""
                        },
                        "type": "choropleth"
                      }
                    ],
                    "contour": [
                      {
                        "colorbar": {
                          "outlinewidth": 0,
                          "ticks": ""
                        },
                        "colorscale": [
                          [
                            0,
                            "#0d0887"
                          ],
                          [
                            0.1111111111111111,
                            "#46039f"
                          ],
                          [
                            0.2222222222222222,
                            "#7201a8"
                          ],
                          [
                            0.3333333333333333,
                            "#9c179e"
                          ],
                          [
                            0.4444444444444444,
                            "#bd3786"
                          ],
                          [
                            0.5555555555555556,
                            "#d8576b"
                          ],
                          [
                            0.6666666666666666,
                            "#ed7953"
                          ],
                          [
                            0.7777777777777778,
                            "#fb9f3a"
                          ],
                          [
                            0.8888888888888888,
                            "#fdca26"
                          ],
                          [
                            1,
                            "#f0f921"
                          ]
                        ],
                        "type": "contour"
                      }
                    ],
                    "contourcarpet": [
                      {
                        "colorbar": {
                          "outlinewidth": 0,
                          "ticks": ""
                        },
                        "type": "contourcarpet"
                      }
                    ],
                    "heatmap": [
                      {
                        "colorbar": {
                          "outlinewidth": 0,
                          "ticks": ""
                        },
                        "colorscale": [
                          [
                            0,
                            "#0d0887"
                          ],
                          [
                            0.1111111111111111,
                            "#46039f"
                          ],
                          [
                            0.2222222222222222,
                            "#7201a8"
                          ],
                          [
                            0.3333333333333333,
                            "#9c179e"
                          ],
                          [
                            0.4444444444444444,
                            "#bd3786"
                          ],
                          [
                            0.5555555555555556,
                            "#d8576b"
                          ],
                          [
                            0.6666666666666666,
                            "#ed7953"
                          ],
                          [
                            0.7777777777777778,
                            "#fb9f3a"
                          ],
                          [
                            0.8888888888888888,
                            "#fdca26"
                          ],
                          [
                            1,
                            "#f0f921"
                          ]
                        ],
                        "type": "heatmap"
                      }
                    ],
                    "heatmapgl": [
                      {
                        "colorbar": {
                          "outlinewidth": 0,
                          "ticks": ""
                        },
                        "colorscale": [
                          [
                            0,
                            "#0d0887"
                          ],
                          [
                            0.1111111111111111,
                            "#46039f"
                          ],
                          [
                            0.2222222222222222,
                            "#7201a8"
                          ],
                          [
                            0.3333333333333333,
                            "#9c179e"
                          ],
                          [
                            0.4444444444444444,
                            "#bd3786"
                          ],
                          [
                            0.5555555555555556,
                            "#d8576b"
                          ],
                          [
                            0.6666666666666666,
                            "#ed7953"
                          ],
                          [
                            0.7777777777777778,
                            "#fb9f3a"
                          ],
                          [
                            0.8888888888888888,
                            "#fdca26"
                          ],
                          [
                            1,
                            "#f0f921"
                          ]
                        ],
                        "type": "heatmapgl"
                      }
                    ],
                    "histogram": [
                      {
                        "marker": {
                          "pattern": {
                            "fillmode": "overlay",
                            "size": 10,
                            "solidity": 0.2
                          }
                        },
                        "type": "histogram"
                      }
                    ],
                    "histogram2d": [
                      {
                        "colorbar": {
                          "outlinewidth": 0,
                          "ticks": ""
                        },
                        "colorscale": [
                          [
                            0,
                            "#0d0887"
                          ],
                          [
                            0.1111111111111111,
                            "#46039f"
                          ],
                          [
                            0.2222222222222222,
                            "#7201a8"
                          ],
                          [
                            0.3333333333333333,
                            "#9c179e"
                          ],
                          [
                            0.4444444444444444,
                            "#bd3786"
                          ],
                          [
                            0.5555555555555556,
                            "#d8576b"
                          ],
                          [
                            0.6666666666666666,
                            "#ed7953"
                          ],
                          [
                            0.7777777777777778,
                            "#fb9f3a"
                          ],
                          [
                            0.8888888888888888,
                            "#fdca26"
                          ],
                          [
                            1,
                            "#f0f921"
                          ]
                        ],
                        "type": "histogram2d"
                      }
                    ],
                    "histogram2dcontour": [
                      {
                        "colorbar": {
                          "outlinewidth": 0,
                          "ticks": ""
                        },
                        "colorscale": [
                          [
                            0,
                            "#0d0887"
                          ],
                          [
                            0.1111111111111111,
                            "#46039f"
                          ],
                          [
                            0.2222222222222222,
                            "#7201a8"
                          ],
                          [
                            0.3333333333333333,
                            "#9c179e"
                          ],
                          [
                            0.4444444444444444,
                            "#bd3786"
                          ],
                          [
                            0.5555555555555556,
                            "#d8576b"
                          ],
                          [
                            0.6666666666666666,
                            "#ed7953"
                          ],
                          [
                            0.7777777777777778,
                            "#fb9f3a"
                          ],
                          [
                            0.8888888888888888,
                            "#fdca26"
                          ],
                          [
                            1,
                            "#f0f921"
                          ]
                        ],
                        "type": "histogram2dcontour"
                      }
                    ],
                    "mesh3d": [
                      {
                        "colorbar": {
                          "outlinewidth": 0,
                          "ticks": ""
                        },
                        "type": "mesh3d"
                      }
                    ],
                    "parcoords": [
                      {
                        "line": {
                          "colorbar": {
                            "outlinewidth": 0,
                            "ticks": ""
                          }
                        },
                        "type": "parcoords"
                      }
                    ],
                    "pie": [
                      {
                        "automargin": true,
                        "type": "pie"
                      }
                    ],
                    "scatter": [
                      {
                        "fillpattern": {
                          "fillmode": "overlay",
                          "size": 10,
                          "solidity": 0.2
                        },
                        "type": "scatter"
                      }
                    ],
                    "scatter3d": [
                      {
                        "line": {
                          "colorbar": {
                            "outlinewidth": 0,
                            "ticks": ""
                          }
                        },
                        "marker": {
                          "colorbar": {
                            "outlinewidth": 0,
                            "ticks": ""
                          }
                        },
                        "type": "scatter3d"
                      }
                    ],
                    "scattercarpet": [
                      {
                        "marker": {
                          "colorbar": {
                            "outlinewidth": 0,
                            "ticks": ""
                          }
                        },
                        "type": "scattercarpet"
                      }
                    ],
                    "scattergeo": [
                      {
                        "marker": {
                          "colorbar": {
                            "outlinewidth": 0,
                            "ticks": ""
                          }
                        },
                        "type": "scattergeo"
                      }
                    ],
                    "scattergl": [
                      {
                        "marker": {
                          "colorbar": {
                            "outlinewidth": 0,
                            "ticks": ""
                          }
                        },
                        "type": "scattergl"
                      }
                    ],
                    "scattermapbox": [
                      {
                        "marker": {
                          "colorbar": {
                            "outlinewidth": 0,
                            "ticks": ""
                          }
                        },
                        "type": "scattermapbox"
                      }
                    ],
                    "scatterpolar": [
                      {
                        "marker": {
                          "colorbar": {
                            "outlinewidth": 0,
                            "ticks": ""
                          }
                        },
                        "type": "scatterpolar"
                      }
                    ],
                    "scatterpolargl": [
                      {
                        "marker": {
                          "colorbar": {
                            "outlinewidth": 0,
                            "ticks": ""
                          }
                        },
                        "type": "scatterpolargl"
                      }
                    ],
                    "scatterternary": [
                      {
                        "marker": {
                          "colorbar": {
                            "outlinewidth": 0,
                            "ticks": ""
                          }
                        },
                        "type": "scatterternary"
                      }
                    ],
                    "surface": [
                      {
                        "colorbar": {
                          "outlinewidth": 0,
                          "ticks": ""
                        },
                        "colorscale": [
                          [
                            0,
                            "#0d0887"
                          ],
                          [
                            0.1111111111111111,
                            "#46039f"
                          ],
                          [
                            0.2222222222222222,
                            "#7201a8"
                          ],
                          [
                            0.3333333333333333,
                            "#9c179e"
                          ],
                          [
                            0.4444444444444444,
                            "#bd3786"
                          ],
                          [
                            0.5555555555555556,
                            "#d8576b"
                          ],
                          [
                            0.6666666666666666,
                            "#ed7953"
                          ],
                          [
                            0.7777777777777778,
                            "#fb9f3a"
                          ],
                          [
                            0.8888888888888888,
                            "#fdca26"
                          ],
                          [
                            1,
                            "#f0f921"
                          ]
                        ],
                        "type": "surface"
                      }
                    ],
                    "table": [
                      {
                        "cells": {
                          "fill": {
                            "color": "#EBF0F8"
                          },
                          "line": {
                            "color": "white"
                          }
                        },
                        "header": {
                          "fill": {
                            "color": "#C8D4E3"
                          },
                          "line": {
                            "color": "white"
                          }
                        },
                        "type": "table"
                      }
                    ]
                  },
                  "layout": {
                    "annotationdefaults": {
                      "arrowcolor": "#2a3f5f",
                      "arrowhead": 0,
                      "arrowwidth": 1
                    },
                    "autotypenumbers": "strict",
                    "coloraxis": {
                      "colorbar": {
                        "outlinewidth": 0,
                        "ticks": ""
                      }
                    },
                    "colorscale": {
                      "diverging": [
                        [
                          0,
                          "#8e0152"
                        ],
                        [
                          0.1,
                          "#c51b7d"
                        ],
                        [
                          0.2,
                          "#de77ae"
                        ],
                        [
                          0.3,
                          "#f1b6da"
                        ],
                        [
                          0.4,
                          "#fde0ef"
                        ],
                        [
                          0.5,
                          "#f7f7f7"
                        ],
                        [
                          0.6,
                          "#e6f5d0"
                        ],
                        [
                          0.7,
                          "#b8e186"
                        ],
                        [
                          0.8,
                          "#7fbc41"
                        ],
                        [
                          0.9,
                          "#4d9221"
                        ],
                        [
                          1,
                          "#276419"
                        ]
                      ],
                      "sequential": [
                        [
                          0,
                          "#0d0887"
                        ],
                        [
                          0.1111111111111111,
                          "#46039f"
                        ],
                        [
                          0.2222222222222222,
                          "#7201a8"
                        ],
                        [
                          0.3333333333333333,
                          "#9c179e"
                        ],
                        [
                          0.4444444444444444,
                          "#bd3786"
                        ],
                        [
                          0.5555555555555556,
                          "#d8576b"
                        ],
                        [
                          0.6666666666666666,
                          "#ed7953"
                        ],
                        [
                          0.7777777777777778,
                          "#fb9f3a"
                        ],
                        [
                          0.8888888888888888,
                          "#fdca26"
                        ],
                        [
                          1,
                          "#f0f921"
                        ]
                      ],
                      "sequentialminus": [
                        [
                          0,
                          "#0d0887"
                        ],
                        [
                          0.1111111111111111,
                          "#46039f"
                        ],
                        [
                          0.2222222222222222,
                          "#7201a8"
                        ],
                        [
                          0.3333333333333333,
                          "#9c179e"
                        ],
                        [
                          0.4444444444444444,
                          "#bd3786"
                        ],
                        [
                          0.5555555555555556,
                          "#d8576b"
                        ],
                        [
                          0.6666666666666666,
                          "#ed7953"
                        ],
                        [
                          0.7777777777777778,
                          "#fb9f3a"
                        ],
                        [
                          0.8888888888888888,
                          "#fdca26"
                        ],
                        [
                          1,
                          "#f0f921"
                        ]
                      ]
                    },
                    "colorway": [
                      "#636efa",
                      "#EF553B",
                      "#00cc96",
                      "#ab63fa",
                      "#FFA15A",
                      "#19d3f3",
                      "#FF6692",
                      "#B6E880",
                      "#FF97FF",
                      "#FECB52"
                    ],
                    "font": {
                      "color": "#2a3f5f"
                    },
                    "geo": {
                      "bgcolor": "white",
                      "lakecolor": "white",
                      "landcolor": "#E5ECF6",
                      "showlakes": true,
                      "showland": true,
                      "subunitcolor": "white"
                    },
                    "hoverlabel": {
                      "align": "left"
                    },
                    "hovermode": "closest",
                    "mapbox": {
                      "style": "light"
                    },
                    "paper_bgcolor": "white",
                    "plot_bgcolor": "#E5ECF6",
                    "polar": {
                      "angularaxis": {
                        "gridcolor": "white",
                        "linecolor": "white",
                        "ticks": ""
                      },
                      "bgcolor": "#E5ECF6",
                      "radialaxis": {
                        "gridcolor": "white",
                        "linecolor": "white",
                        "ticks": ""
                      }
                    },
                    "scene": {
                      "xaxis": {
                        "backgroundcolor": "#E5ECF6",
                        "gridcolor": "white",
                        "gridwidth": 2,
                        "linecolor": "white",
                        "showbackground": true,
                        "ticks": "",
                        "zerolinecolor": "white"
                      },
                      "yaxis": {
                        "backgroundcolor": "#E5ECF6",
                        "gridcolor": "white",
                        "gridwidth": 2,
                        "linecolor": "white",
                        "showbackground": true,
                        "ticks": "",
                        "zerolinecolor": "white"
                      },
                      "zaxis": {
                        "backgroundcolor": "#E5ECF6",
                        "gridcolor": "white",
                        "gridwidth": 2,
                        "linecolor": "white",
                        "showbackground": true,
                        "ticks": "",
                        "zerolinecolor": "white"
                      }
                    },
                    "shapedefaults": {
                      "line": {
                        "color": "#2a3f5f"
                      }
                    },
                    "ternary": {
                      "aaxis": {
                        "gridcolor": "white",
                        "linecolor": "white",
                        "ticks": ""
                      },
                      "baxis": {
                        "gridcolor": "white",
                        "linecolor": "white",
                        "ticks": ""
                      },
                      "bgcolor": "#E5ECF6",
                      "caxis": {
                        "gridcolor": "white",
                        "linecolor": "white",
                        "ticks": ""
                      }
                    },
                    "title": {
                      "x": 0.05
                    },
                    "xaxis": {
                      "automargin": true,
                      "gridcolor": "white",
                      "linecolor": "white",
                      "ticks": "",
                      "title": {
                        "standoff": 15
                      },
                      "zerolinecolor": "white",
                      "zerolinewidth": 2
                    },
                    "yaxis": {
                      "automargin": true,
                      "gridcolor": "white",
                      "linecolor": "white",
                      "ticks": "",
                      "title": {
                        "standoff": 15
                      },
                      "zerolinecolor": "white",
                      "zerolinewidth": 2
                    }
                  }
                },
                "title": {
                  "text": "Top 10 Tipe Mobil Terlaris",
                  "x": 0.5
                }
              }
            }
          },
          "metadata": {},
          "output_type": "display_data"
        }
      ],
      "source": [
        "model_counts = df['model'].value_counts().head(10).reset_index()\n",
        "model_counts.columns = ['model', 'count']\n",
        "\n",
        "# Plot pie chart\n",
        "fig = px.pie(model_counts, names='model', values='count',\n",
        "             title='Top 10 Tipe Mobil Terlaris',\n",
        "             color_discrete_sequence=px.colors.qualitative.Set3)\n",
        "\n",
        "fig.update_layout(title_x=0.5)\n",
        "fig.update_traces(textinfo='percent+label', pull=[0.05]*10)\n",
        "fig.show()"
      ]
    },
    {
      "cell_type": "markdown",
      "id": "1ccb1a3e",
      "metadata": {},
      "source": [
        "Untuk model mobil yang paling terlaris dari dalam data ini adalah Altima."
      ]
    },
    {
      "cell_type": "markdown",
      "id": "b22824d1",
      "metadata": {},
      "source": [
        "___\n",
        "### 5.3 EDA 3. Apakah ada hubungan antara tahun produksi dengan harga pasaran mobil saat ini?"
      ]
    },
    {
      "cell_type": "markdown",
      "id": "fa20d3a8",
      "metadata": {},
      "source": [
        "Tahun produksi memiliki pengaruh signifikan terhadap harga pasar mobil. Mobil yang lebih baru cenderung memiliki nilai jual lebih tinggi, namun mobil tua tertentu bisa tetap bernilai tinggi jika memiliki karakteristik khusus. Ini penting untuk strategi valuasi dan segmentasi pasar."
      ]
    },
    {
      "cell_type": "code",
      "execution_count": 48,
      "id": "d5560919",
      "metadata": {},
      "outputs": [
        {
          "data": {
            "image/png": "[encoded data removed]",
            "text/plain": [
              "<Figure size 800x600 with 1 Axes>"
            ]
          },
          "metadata": {},
          "output_type": "display_data"
        },
        {
          "name": "stdout",
          "output_type": "stream",
          "text": [
            "Korelasi Spearman antara usia kendaraan dan harga pasar: -0.69\n"
          ]
        }
      ],
      "source": [
        "# Menambah kolom usia kendaraan\n",
        "df['vehicle_age'] = 2025 - df['year']\n",
        "\n",
        "# Scatter plot + regresi linier\n",
        "plt.figure(figsize=(8, 6))\n",
        "sns.regplot(x='vehicle_age', y='marketprice', data=df, scatter_kws={'alpha':0.5}, line_kws={'color':'red'})\n",
        "plt.title('Hubungan Usia Kendaraan dan Harga Pasar')\n",
        "plt.xlabel('Usia Kendaraan (tahun)')\n",
        "plt.ylabel('Harga Pasar')\n",
        "plt.grid(True)\n",
        "plt.tight_layout()\n",
        "plt.show()\n",
        "\n",
        "# Hitung korelasi Spearman\n",
        "spearman_corr = df[['vehicle_age', 'marketprice']].corr(method='spearman').iloc[0, 1]\n",
        "print(f\"Korelasi Spearman antara usia kendaraan dan harga pasar: {spearman_corr:.2f}\")"
      ]
    },
    {
      "cell_type": "markdown",
      "id": "3875615f",
      "metadata": {},
      "source": [
        "Terdapat hubungan yang kuat antara tahun produksi dan harga pasar mobil. Semakin tua usia kendaraan, semakin rendah nilai pasarnya. Hal ini terlihat dari tren menurun pada scatter plot antara usia kendaraan dan harga pasar, serta korelasi Spearman sebesar –0.69 yang menunjukkan hubungan negatif yang konsisten.\n",
        "\n",
        "Korelasi tersebut menunjukkan bahwa penurunan harga bersifat linear. Mobil yang lebih tua cenderung memiliki harga pasar lebih rendah, terlepas dari distribusi data atau keberadaan outlier. Temuan ini sejalan dengan prinsip depresiasi kendaraan, dan menunjukkan bahwa usia kendaraan merupakan salah satu fitur penting dalam proses valuasi.\n",
        "\n",
        "Namun, terdapat beberapa mobil tua yang tetap memiliki harga pasar tinggi. Hal ini kemungkinan disebabkan oleh status klasik, kelangkaan, atau kondisi kendaraan yang sangat baik, sehingga tetap menarik bagi para pembeli mobil tua atau kolektor mobil antik.\n"
      ]
    },
    {
      "cell_type": "markdown",
      "id": "12dcf2d8",
      "metadata": {},
      "source": [
        "___\n",
        "### 5.4 EDA 4. Bagaimana caranya memperkirakan harga pasar dari tipe mobil yang belum masuk di dalam dataset?"
      ]
    },
    {
      "cell_type": "markdown",
      "id": "23add0df",
      "metadata": {},
      "source": [
        "Cara memperkirakan harga pasar dari tipe mobil yang belum masuk dalam dataset tentu saja dengan membuat model prediksi harga. Model ini dapat dibangun dengan menggunakan data-data yang sudah ada sebagai acuan dasar model. Berikutnya saya akan membuat model ini dengan membandingkan 5 model machine learning."
      ]
    },
    {
      "cell_type": "markdown",
      "id": "5e46c1b0",
      "metadata": {},
      "source": [
        "___\n",
        "### 5.5 Bagian mobil apa yang paling laku terjual? Seperti warna, trim, body, dan interior mobil."
      ]
    },
    {
      "cell_type": "markdown",
      "id": "945c11d2",
      "metadata": {},
      "source": [
        "Untuk menjawab pertanyaan ini, saya akan menggunakan bar chart. "
      ]
    },
    {
      "cell_type": "code",
      "execution_count": 4,
      "id": "16314b38",
      "metadata": {},
      "outputs": [
        {
          "data": {
            "application/vnd.plotly.v1+json": {
              "config": {
                "plotlyServerURL": "https://plot.ly"
              },
              "data": [
                {
                  "alignmentgroup": "True",
                  "hovertemplate": "color=%{x}<br>count=%{text}<extra></extra>",
                  "legendgroup": "black",
                  "marker": {
                    "color": "rgb(141,211,199)",
                    "pattern": {
                      "shape": ""
                    }
                  },
                  "name": "black",
                  "offsetgroup": "black",
                  "orientation": "v",
                  "showlegend": true,
                  "text": [
                    2354
                  ],
                  "textposition": "outside",
                  "type": "bar",
                  "x": [
                    "black"
                  ],
                  "xaxis": "x",
                  "y": [
                    2354
                  ],
                  "yaxis": "y"
                },
                {
                  "alignmentgroup": "True",
                  "hovertemplate": "color=%{x}<br>count=%{text}<extra></extra>",
                  "legendgroup": "white",
                  "marker": {
                    "color": "rgb(255,255,179)",
                    "pattern": {
                      "shape": ""
                    }
                  },
                  "name": "white",
                  "offsetgroup": "white",
                  "orientation": "v",
                  "showlegend": true,
                  "text": [
                    2294
                  ],
                  "textposition": "outside",
                  "type": "bar",
                  "x": [
                    "white"
                  ],
                  "xaxis": "x",
                  "y": [
                    2294
                  ],
                  "yaxis": "y"
                },
                {
                  "alignmentgroup": "True",
                  "hovertemplate": "color=%{x}<br>count=%{text}<extra></extra>",
                  "legendgroup": "silver",
                  "marker": {
                    "color": "rgb(190,186,218)",
                    "pattern": {
                      "shape": ""
                    }
                  },
                  "name": "silver",
                  "offsetgroup": "silver",
                  "orientation": "v",
                  "showlegend": true,
                  "text": [
                    1853
                  ],
                  "textposition": "outside",
                  "type": "bar",
                  "x": [
                    "silver"
                  ],
                  "xaxis": "x",
                  "y": [
                    1853
                  ],
                  "yaxis": "y"
                },
                {
                  "alignmentgroup": "True",
                  "hovertemplate": "color=%{x}<br>count=%{text}<extra></extra>",
                  "legendgroup": "gray",
                  "marker": {
                    "color": "rgb(251,128,114)",
                    "pattern": {
                      "shape": ""
                    }
                  },
                  "name": "gray",
                  "offsetgroup": "gray",
                  "orientation": "v",
                  "showlegend": true,
                  "text": [
                    1721
                  ],
                  "textposition": "outside",
                  "type": "bar",
                  "x": [
                    "gray"
                  ],
                  "xaxis": "x",
                  "y": [
                    1721
                  ],
                  "yaxis": "y"
                },
                {
                  "alignmentgroup": "True",
                  "hovertemplate": "color=%{x}<br>count=%{text}<extra></extra>",
                  "legendgroup": "blue",
                  "marker": {
                    "color": "rgb(128,177,211)",
                    "pattern": {
                      "shape": ""
                    }
                  },
                  "name": "blue",
                  "offsetgroup": "blue",
                  "orientation": "v",
                  "showlegend": true,
                  "text": [
                    1140
                  ],
                  "textposition": "outside",
                  "type": "bar",
                  "x": [
                    "blue"
                  ],
                  "xaxis": "x",
                  "y": [
                    1140
                  ],
                  "yaxis": "y"
                },
                {
                  "alignmentgroup": "True",
                  "hovertemplate": "color=%{x}<br>count=%{text}<extra></extra>",
                  "legendgroup": "red",
                  "marker": {
                    "color": "rgb(253,180,98)",
                    "pattern": {
                      "shape": ""
                    }
                  },
                  "name": "red",
                  "offsetgroup": "red",
                  "orientation": "v",
                  "showlegend": true,
                  "text": [
                    941
                  ],
                  "textposition": "outside",
                  "type": "bar",
                  "x": [
                    "red"
                  ],
                  "xaxis": "x",
                  "y": [
                    941
                  ],
                  "yaxis": "y"
                },
                {
                  "alignmentgroup": "True",
                  "hovertemplate": "color=%{x}<br>count=%{text}<extra></extra>",
                  "legendgroup": "—",
                  "marker": {
                    "color": "rgb(179,222,105)",
                    "pattern": {
                      "shape": ""
                    }
                  },
                  "name": "—",
                  "offsetgroup": "—",
                  "orientation": "v",
                  "showlegend": true,
                  "text": [
                    514
                  ],
                  "textposition": "outside",
                  "type": "bar",
                  "x": [
                    "—"
                  ],
                  "xaxis": "x",
                  "y": [
                    514
                  ],
                  "yaxis": "y"
                },
                {
                  "alignmentgroup": "True",
                  "hovertemplate": "color=%{x}<br>count=%{text}<extra></extra>",
                  "legendgroup": "gold",
                  "marker": {
                    "color": "rgb(252,205,229)",
                    "pattern": {
                      "shape": ""
                    }
                  },
                  "name": "gold",
                  "offsetgroup": "gold",
                  "orientation": "v",
                  "showlegend": true,
                  "text": [
                    260
                  ],
                  "textposition": "outside",
                  "type": "bar",
                  "x": [
                    "gold"
                  ],
                  "xaxis": "x",
                  "y": [
                    260
                  ],
                  "yaxis": "y"
                },
                {
                  "alignmentgroup": "True",
                  "hovertemplate": "color=%{x}<br>count=%{text}<extra></extra>",
                  "legendgroup": "green",
                  "marker": {
                    "color": "rgb(217,217,217)",
                    "pattern": {
                      "shape": ""
                    }
                  },
                  "name": "green",
                  "offsetgroup": "green",
                  "orientation": "v",
                  "showlegend": true,
                  "text": [
                    256
                  ],
                  "textposition": "outside",
                  "type": "bar",
                  "x": [
                    "green"
                  ],
                  "xaxis": "x",
                  "y": [
                    256
                  ],
                  "yaxis": "y"
                },
                {
                  "alignmentgroup": "True",
                  "hovertemplate": "color=%{x}<br>count=%{text}<extra></extra>",
                  "legendgroup": "burgundy",
                  "marker": {
                    "color": "rgb(188,128,189)",
                    "pattern": {
                      "shape": ""
                    }
                  },
                  "name": "burgundy",
                  "offsetgroup": "burgundy",
                  "orientation": "v",
                  "showlegend": true,
                  "text": [
                    202
                  ],
                  "textposition": "outside",
                  "type": "bar",
                  "x": [
                    "burgundy"
                  ],
                  "xaxis": "x",
                  "y": [
                    202
                  ],
                  "yaxis": "y"
                }
              ],
              "layout": {
                "barmode": "relative",
                "legend": {
                  "title": {
                    "text": "color"
                  },
                  "tracegroupgap": 0
                },
                "showlegend": false,
                "template": {
                  "data": {
                    "bar": [
                      {
                        "error_x": {
                          "color": "#2a3f5f"
                        },
                        "error_y": {
                          "color": "#2a3f5f"
                        },
                        "marker": {
                          "line": {
                            "color": "#E5ECF6",
                            "width": 0.5
                          },
                          "pattern": {
                            "fillmode": "overlay",
                            "size": 10,
                            "solidity": 0.2
                          }
                        },
                        "type": "bar"
                      }
                    ],
                    "barpolar": [
                      {
                        "marker": {
                          "line": {
                            "color": "#E5ECF6",
                            "width": 0.5
                          },
                          "pattern": {
                            "fillmode": "overlay",
                            "size": 10,
                            "solidity": 0.2
                          }
                        },
                        "type": "barpolar"
                      }
                    ],
                    "carpet": [
                      {
                        "aaxis": {
                          "endlinecolor": "#2a3f5f",
                          "gridcolor": "white",
                          "linecolor": "white",
                          "minorgridcolor": "white",
                          "startlinecolor": "#2a3f5f"
                        },
                        "baxis": {
                          "endlinecolor": "#2a3f5f",
                          "gridcolor": "white",
                          "linecolor": "white",
                          "minorgridcolor": "white",
                          "startlinecolor": "#2a3f5f"
                        },
                        "type": "carpet"
                      }
                    ],
                    "choropleth": [
                      {
                        "colorbar": {
                          "outlinewidth": 0,
                          "ticks": ""
                        },
                        "type": "choropleth"
                      }
                    ],
                    "contour": [
                      {
                        "colorbar": {
                          "outlinewidth": 0,
                          "ticks": ""
                        },
                        "colorscale": [
                          [
                            0,
                            "#0d0887"
                          ],
                          [
                            0.1111111111111111,
                            "#46039f"
                          ],
                          [
                            0.2222222222222222,
                            "#7201a8"
                          ],
                          [
                            0.3333333333333333,
                            "#9c179e"
                          ],
                          [
                            0.4444444444444444,
                            "#bd3786"
                          ],
                          [
                            0.5555555555555556,
                            "#d8576b"
                          ],
                          [
                            0.6666666666666666,
                            "#ed7953"
                          ],
                          [
                            0.7777777777777778,
                            "#fb9f3a"
                          ],
                          [
                            0.8888888888888888,
                            "#fdca26"
                          ],
                          [
                            1,
                            "#f0f921"
                          ]
                        ],
                        "type": "contour"
                      }
                    ],
                    "contourcarpet": [
                      {
                        "colorbar": {
                          "outlinewidth": 0,
                          "ticks": ""
                        },
                        "type": "contourcarpet"
                      }
                    ],
                    "heatmap": [
                      {
                        "colorbar": {
                          "outlinewidth": 0,
                          "ticks": ""
                        },
                        "colorscale": [
                          [
                            0,
                            "#0d0887"
                          ],
                          [
                            0.1111111111111111,
                            "#46039f"
                          ],
                          [
                            0.2222222222222222,
                            "#7201a8"
                          ],
                          [
                            0.3333333333333333,
                            "#9c179e"
                          ],
                          [
                            0.4444444444444444,
                            "#bd3786"
                          ],
                          [
                            0.5555555555555556,
                            "#d8576b"
                          ],
                          [
                            0.6666666666666666,
                            "#ed7953"
                          ],
                          [
                            0.7777777777777778,
                            "#fb9f3a"
                          ],
                          [
                            0.8888888888888888,
                            "#fdca26"
                          ],
                          [
                            1,
                            "#f0f921"
                          ]
                        ],
                        "type": "heatmap"
                      }
                    ],
                    "heatmapgl": [
                      {
                        "colorbar": {
                          "outlinewidth": 0,
                          "ticks": ""
                        },
                        "colorscale": [
                          [
                            0,
                            "#0d0887"
                          ],
                          [
                            0.1111111111111111,
                            "#46039f"
                          ],
                          [
                            0.2222222222222222,
                            "#7201a8"
                          ],
                          [
                            0.3333333333333333,
                            "#9c179e"
                          ],
                          [
                            0.4444444444444444,
                            "#bd3786"
                          ],
                          [
                            0.5555555555555556,
                            "#d8576b"
                          ],
                          [
                            0.6666666666666666,
                            "#ed7953"
                          ],
                          [
                            0.7777777777777778,
                            "#fb9f3a"
                          ],
                          [
                            0.8888888888888888,
                            "#fdca26"
                          ],
                          [
                            1,
                            "#f0f921"
                          ]
                        ],
                        "type": "heatmapgl"
                      }
                    ],
                    "histogram": [
                      {
                        "marker": {
                          "pattern": {
                            "fillmode": "overlay",
                            "size": 10,
                            "solidity": 0.2
                          }
                        },
                        "type": "histogram"
                      }
                    ],
                    "histogram2d": [
                      {
                        "colorbar": {
                          "outlinewidth": 0,
                          "ticks": ""
                        },
                        "colorscale": [
                          [
                            0,
                            "#0d0887"
                          ],
                          [
                            0.1111111111111111,
                            "#46039f"
                          ],
                          [
                            0.2222222222222222,
                            "#7201a8"
                          ],
                          [
                            0.3333333333333333,
                            "#9c179e"
                          ],
                          [
                            0.4444444444444444,
                            "#bd3786"
                          ],
                          [
                            0.5555555555555556,
                            "#d8576b"
                          ],
                          [
                            0.6666666666666666,
                            "#ed7953"
                          ],
                          [
                            0.7777777777777778,
                            "#fb9f3a"
                          ],
                          [
                            0.8888888888888888,
                            "#fdca26"
                          ],
                          [
                            1,
                            "#f0f921"
                          ]
                        ],
                        "type": "histogram2d"
                      }
                    ],
                    "histogram2dcontour": [
                      {
                        "colorbar": {
                          "outlinewidth": 0,
                          "ticks": ""
                        },
                        "colorscale": [
                          [
                            0,
                            "#0d0887"
                          ],
                          [
                            0.1111111111111111,
                            "#46039f"
                          ],
                          [
                            0.2222222222222222,
                            "#7201a8"
                          ],
                          [
                            0.3333333333333333,
                            "#9c179e"
                          ],
                          [
                            0.4444444444444444,
                            "#bd3786"
                          ],
                          [
                            0.5555555555555556,
                            "#d8576b"
                          ],
                          [
                            0.6666666666666666,
                            "#ed7953"
                          ],
                          [
                            0.7777777777777778,
                            "#fb9f3a"
                          ],
                          [
                            0.8888888888888888,
                            "#fdca26"
                          ],
                          [
                            1,
                            "#f0f921"
                          ]
                        ],
                        "type": "histogram2dcontour"
                      }
                    ],
                    "mesh3d": [
                      {
                        "colorbar": {
                          "outlinewidth": 0,
                          "ticks": ""
                        },
                        "type": "mesh3d"
                      }
                    ],
                    "parcoords": [
                      {
                        "line": {
                          "colorbar": {
                            "outlinewidth": 0,
                            "ticks": ""
                          }
                        },
                        "type": "parcoords"
                      }
                    ],
                    "pie": [
                      {
                        "automargin": true,
                        "type": "pie"
                      }
                    ],
                    "scatter": [
                      {
                        "fillpattern": {
                          "fillmode": "overlay",
                          "size": 10,
                          "solidity": 0.2
                        },
                        "type": "scatter"
                      }
                    ],
                    "scatter3d": [
                      {
                        "line": {
                          "colorbar": {
                            "outlinewidth": 0,
                            "ticks": ""
                          }
                        },
                        "marker": {
                          "colorbar": {
                            "outlinewidth": 0,
                            "ticks": ""
                          }
                        },
                        "type": "scatter3d"
                      }
                    ],
                    "scattercarpet": [
                      {
                        "marker": {
                          "colorbar": {
                            "outlinewidth": 0,
                            "ticks": ""
                          }
                        },
                        "type": "scattercarpet"
                      }
                    ],
                    "scattergeo": [
                      {
                        "marker": {
                          "colorbar": {
                            "outlinewidth": 0,
                            "ticks": ""
                          }
                        },
                        "type": "scattergeo"
                      }
                    ],
                    "scattergl": [
                      {
                        "marker": {
                          "colorbar": {
                            "outlinewidth": 0,
                            "ticks": ""
                          }
                        },
                        "type": "scattergl"
                      }
                    ],
                    "scattermapbox": [
                      {
                        "marker": {
                          "colorbar": {
                            "outlinewidth": 0,
                            "ticks": ""
                          }
                        },
                        "type": "scattermapbox"
                      }
                    ],
                    "scatterpolar": [
                      {
                        "marker": {
                          "colorbar": {
                            "outlinewidth": 0,
                            "ticks": ""
                          }
                        },
                        "type": "scatterpolar"
                      }
                    ],
                    "scatterpolargl": [
                      {
                        "marker": {
                          "colorbar": {
                            "outlinewidth": 0,
                            "ticks": ""
                          }
                        },
                        "type": "scatterpolargl"
                      }
                    ],
                    "scatterternary": [
                      {
                        "marker": {
                          "colorbar": {
                            "outlinewidth": 0,
                            "ticks": ""
                          }
                        },
                        "type": "scatterternary"
                      }
                    ],
                    "surface": [
                      {
                        "colorbar": {
                          "outlinewidth": 0,
                          "ticks": ""
                        },
                        "colorscale": [
                          [
                            0,
                            "#0d0887"
                          ],
                          [
                            0.1111111111111111,
                            "#46039f"
                          ],
                          [
                            0.2222222222222222,
                            "#7201a8"
                          ],
                          [
                            0.3333333333333333,
                            "#9c179e"
                          ],
                          [
                            0.4444444444444444,
                            "#bd3786"
                          ],
                          [
                            0.5555555555555556,
                            "#d8576b"
                          ],
                          [
                            0.6666666666666666,
                            "#ed7953"
                          ],
                          [
                            0.7777777777777778,
                            "#fb9f3a"
                          ],
                          [
                            0.8888888888888888,
                            "#fdca26"
                          ],
                          [
                            1,
                            "#f0f921"
                          ]
                        ],
                        "type": "surface"
                      }
                    ],
                    "table": [
                      {
                        "cells": {
                          "fill": {
                            "color": "#EBF0F8"
                          },
                          "line": {
                            "color": "white"
                          }
                        },
                        "header": {
                          "fill": {
                            "color": "#C8D4E3"
                          },
                          "line": {
                            "color": "white"
                          }
                        },
                        "type": "table"
                      }
                    ]
                  },
                  "layout": {
                    "annotationdefaults": {
                      "arrowcolor": "#2a3f5f",
                      "arrowhead": 0,
                      "arrowwidth": 1
                    },
                    "autotypenumbers": "strict",
                    "coloraxis": {
                      "colorbar": {
                        "outlinewidth": 0,
                        "ticks": ""
                      }
                    },
                    "colorscale": {
                      "diverging": [
                        [
                          0,
                          "#8e0152"
                        ],
                        [
                          0.1,
                          "#c51b7d"
                        ],
                        [
                          0.2,
                          "#de77ae"
                        ],
                        [
                          0.3,
                          "#f1b6da"
                        ],
                        [
                          0.4,
                          "#fde0ef"
                        ],
                        [
                          0.5,
                          "#f7f7f7"
                        ],
                        [
                          0.6,
                          "#e6f5d0"
                        ],
                        [
                          0.7,
                          "#b8e186"
                        ],
                        [
                          0.8,
                          "#7fbc41"
                        ],
                        [
                          0.9,
                          "#4d9221"
                        ],
                        [
                          1,
                          "#276419"
                        ]
                      ],
                      "sequential": [
                        [
                          0,
                          "#0d0887"
                        ],
                        [
                          0.1111111111111111,
                          "#46039f"
                        ],
                        [
                          0.2222222222222222,
                          "#7201a8"
                        ],
                        [
                          0.3333333333333333,
                          "#9c179e"
                        ],
                        [
                          0.4444444444444444,
                          "#bd3786"
                        ],
                        [
                          0.5555555555555556,
                          "#d8576b"
                        ],
                        [
                          0.6666666666666666,
                          "#ed7953"
                        ],
                        [
                          0.7777777777777778,
                          "#fb9f3a"
                        ],
                        [
                          0.8888888888888888,
                          "#fdca26"
                        ],
                        [
                          1,
                          "#f0f921"
                        ]
                      ],
                      "sequentialminus": [
                        [
                          0,
                          "#0d0887"
                        ],
                        [
                          0.1111111111111111,
                          "#46039f"
                        ],
                        [
                          0.2222222222222222,
                          "#7201a8"
                        ],
                        [
                          0.3333333333333333,
                          "#9c179e"
                        ],
                        [
                          0.4444444444444444,
                          "#bd3786"
                        ],
                        [
                          0.5555555555555556,
                          "#d8576b"
                        ],
                        [
                          0.6666666666666666,
                          "#ed7953"
                        ],
                        [
                          0.7777777777777778,
                          "#fb9f3a"
                        ],
                        [
                          0.8888888888888888,
                          "#fdca26"
                        ],
                        [
                          1,
                          "#f0f921"
                        ]
                      ]
                    },
                    "colorway": [
                      "#636efa",
                      "#EF553B",
                      "#00cc96",
                      "#ab63fa",
                      "#FFA15A",
                      "#19d3f3",
                      "#FF6692",
                      "#B6E880",
                      "#FF97FF",
                      "#FECB52"
                    ],
                    "font": {
                      "color": "#2a3f5f"
                    },
                    "geo": {
                      "bgcolor": "white",
                      "lakecolor": "white",
                      "landcolor": "#E5ECF6",
                      "showlakes": true,
                      "showland": true,
                      "subunitcolor": "white"
                    },
                    "hoverlabel": {
                      "align": "left"
                    },
                    "hovermode": "closest",
                    "mapbox": {
                      "style": "light"
                    },
                    "paper_bgcolor": "white",
                    "plot_bgcolor": "#E5ECF6",
                    "polar": {
                      "angularaxis": {
                        "gridcolor": "white",
                        "linecolor": "white",
                        "ticks": ""
                      },
                      "bgcolor": "#E5ECF6",
                      "radialaxis": {
                        "gridcolor": "white",
                        "linecolor": "white",
                        "ticks": ""
                      }
                    },
                    "scene": {
                      "xaxis": {
                        "backgroundcolor": "#E5ECF6",
                        "gridcolor": "white",
                        "gridwidth": 2,
                        "linecolor": "white",
                        "showbackground": true,
                        "ticks": "",
                        "zerolinecolor": "white"
                      },
                      "yaxis": {
                        "backgroundcolor": "#E5ECF6",
                        "gridcolor": "white",
                        "gridwidth": 2,
                        "linecolor": "white",
                        "showbackground": true,
                        "ticks": "",
                        "zerolinecolor": "white"
                      },
                      "zaxis": {
                        "backgroundcolor": "#E5ECF6",
                        "gridcolor": "white",
                        "gridwidth": 2,
                        "linecolor": "white",
                        "showbackground": true,
                        "ticks": "",
                        "zerolinecolor": "white"
                      }
                    },
                    "shapedefaults": {
                      "line": {
                        "color": "#2a3f5f"
                      }
                    },
                    "ternary": {
                      "aaxis": {
                        "gridcolor": "white",
                        "linecolor": "white",
                        "ticks": ""
                      },
                      "baxis": {
                        "gridcolor": "white",
                        "linecolor": "white",
                        "ticks": ""
                      },
                      "bgcolor": "#E5ECF6",
                      "caxis": {
                        "gridcolor": "white",
                        "linecolor": "white",
                        "ticks": ""
                      }
                    },
                    "title": {
                      "x": 0.05
                    },
                    "xaxis": {
                      "automargin": true,
                      "gridcolor": "white",
                      "linecolor": "white",
                      "ticks": "",
                      "title": {
                        "standoff": 15
                      },
                      "zerolinecolor": "white",
                      "zerolinewidth": 2
                    },
                    "yaxis": {
                      "automargin": true,
                      "gridcolor": "white",
                      "linecolor": "white",
                      "ticks": "",
                      "title": {
                        "standoff": 15
                      },
                      "zerolinecolor": "white",
                      "zerolinewidth": 2
                    }
                  }
                },
                "title": {
                  "text": "Top 10 Warna Mobil Terlaris",
                  "x": 0.5
                },
                "xaxis": {
                  "anchor": "y",
                  "categoryarray": [
                    "black",
                    "white",
                    "silver",
                    "gray",
                    "blue",
                    "red",
                    "—",
                    "gold",
                    "green",
                    "burgundy"
                  ],
                  "categoryorder": "array",
                  "domain": [
                    0,
                    1
                  ],
                  "title": {
                    "text": "Warna Mobil"
                  }
                },
                "yaxis": {
                  "anchor": "x",
                  "domain": [
                    0,
                    1
                  ],
                  "title": {
                    "text": "Jumlah"
                  }
                }
              }
            }
          },
          "metadata": {},
          "output_type": "display_data"
        }
      ],
      "source": [
        "color_counts = df['color'].value_counts().head(10).reset_index()\n",
        "color_counts.columns = ['color', 'count']\n",
        "\n",
        "# Plot bar chart\n",
        "fig = px.bar(color_counts, x='color', y='count',\n",
        "             title='Top 10 Warna Mobil Terlaris',\n",
        "             color='color',\n",
        "             color_discrete_sequence=px.colors.qualitative.Set3,\n",
        "             text='count')\n",
        "\n",
        "fig.update_layout(title_x=0.5,\n",
        "                  xaxis_title='Warna Mobil',\n",
        "                  yaxis_title='Jumlah',\n",
        "                  showlegend=False)\n",
        "\n",
        "fig.update_traces(textposition='outside')\n",
        "fig.show()\n"
      ]
    },
    {
      "cell_type": "markdown",
      "id": "8d54e304",
      "metadata": {},
      "source": [
        "Warna mobil yang paling laris terjual adalah warna hitam dan putih."
      ]
    },
    {
      "cell_type": "code",
      "execution_count": 9,
      "id": "2984eb07",
      "metadata": {},
      "outputs": [
        {
          "data": {
            "application/vnd.plotly.v1+json": {
              "config": {
                "plotlyServerURL": "https://plot.ly"
              },
              "data": [
                {
                  "alignmentgroup": "True",
                  "hovertemplate": "trim=%{x}<br>count=%{text}<extra></extra>",
                  "legendgroup": "Base",
                  "marker": {
                    "color": "rgb(141,211,199)",
                    "pattern": {
                      "shape": ""
                    }
                  },
                  "name": "Base",
                  "offsetgroup": "Base",
                  "orientation": "v",
                  "showlegend": true,
                  "text": [
                    1156
                  ],
                  "textposition": "outside",
                  "type": "bar",
                  "x": [
                    "Base"
                  ],
                  "xaxis": "x",
                  "y": [
                    1156
                  ],
                  "yaxis": "y"
                },
                {
                  "alignmentgroup": "True",
                  "hovertemplate": "trim=%{x}<br>count=%{text}<extra></extra>",
                  "legendgroup": "SE",
                  "marker": {
                    "color": "rgb(255,255,179)",
                    "pattern": {
                      "shape": ""
                    }
                  },
                  "name": "SE",
                  "offsetgroup": "SE",
                  "orientation": "v",
                  "showlegend": true,
                  "text": [
                    997
                  ],
                  "textposition": "outside",
                  "type": "bar",
                  "x": [
                    "SE"
                  ],
                  "xaxis": "x",
                  "y": [
                    997
                  ],
                  "yaxis": "y"
                },
                {
                  "alignmentgroup": "True",
                  "hovertemplate": "trim=%{x}<br>count=%{text}<extra></extra>",
                  "legendgroup": "LX",
                  "marker": {
                    "color": "rgb(190,186,218)",
                    "pattern": {
                      "shape": ""
                    }
                  },
                  "name": "LX",
                  "offsetgroup": "LX",
                  "orientation": "v",
                  "showlegend": true,
                  "text": [
                    412
                  ],
                  "textposition": "outside",
                  "type": "bar",
                  "x": [
                    "LX"
                  ],
                  "xaxis": "x",
                  "y": [
                    412
                  ],
                  "yaxis": "y"
                },
                {
                  "alignmentgroup": "True",
                  "hovertemplate": "trim=%{x}<br>count=%{text}<extra></extra>",
                  "legendgroup": "XLT",
                  "marker": {
                    "color": "rgb(251,128,114)",
                    "pattern": {
                      "shape": ""
                    }
                  },
                  "name": "XLT",
                  "offsetgroup": "XLT",
                  "orientation": "v",
                  "showlegend": true,
                  "text": [
                    374
                  ],
                  "textposition": "outside",
                  "type": "bar",
                  "x": [
                    "XLT"
                  ],
                  "xaxis": "x",
                  "y": [
                    374
                  ],
                  "yaxis": "y"
                },
                {
                  "alignmentgroup": "True",
                  "hovertemplate": "trim=%{x}<br>count=%{text}<extra></extra>",
                  "legendgroup": "LT",
                  "marker": {
                    "color": "rgb(128,177,211)",
                    "pattern": {
                      "shape": ""
                    }
                  },
                  "name": "LT",
                  "offsetgroup": "LT",
                  "orientation": "v",
                  "showlegend": true,
                  "text": [
                    366
                  ],
                  "textposition": "outside",
                  "type": "bar",
                  "x": [
                    "LT"
                  ],
                  "xaxis": "x",
                  "y": [
                    366
                  ],
                  "yaxis": "y"
                },
                {
                  "alignmentgroup": "True",
                  "hovertemplate": "trim=%{x}<br>count=%{text}<extra></extra>",
                  "legendgroup": "Limited",
                  "marker": {
                    "color": "rgb(253,180,98)",
                    "pattern": {
                      "shape": ""
                    }
                  },
                  "name": "Limited",
                  "offsetgroup": "Limited",
                  "orientation": "v",
                  "showlegend": true,
                  "text": [
                    349
                  ],
                  "textposition": "outside",
                  "type": "bar",
                  "x": [
                    "Limited"
                  ],
                  "xaxis": "x",
                  "y": [
                    349
                  ],
                  "yaxis": "y"
                },
                {
                  "alignmentgroup": "True",
                  "hovertemplate": "trim=%{x}<br>count=%{text}<extra></extra>",
                  "legendgroup": "LS",
                  "marker": {
                    "color": "rgb(179,222,105)",
                    "pattern": {
                      "shape": ""
                    }
                  },
                  "name": "LS",
                  "offsetgroup": "LS",
                  "orientation": "v",
                  "showlegend": true,
                  "text": [
                    287
                  ],
                  "textposition": "outside",
                  "type": "bar",
                  "x": [
                    "LS"
                  ],
                  "xaxis": "x",
                  "y": [
                    287
                  ],
                  "yaxis": "y"
                },
                {
                  "alignmentgroup": "True",
                  "hovertemplate": "trim=%{x}<br>count=%{text}<extra></extra>",
                  "legendgroup": "S",
                  "marker": {
                    "color": "rgb(252,205,229)",
                    "pattern": {
                      "shape": ""
                    }
                  },
                  "name": "S",
                  "offsetgroup": "S",
                  "orientation": "v",
                  "showlegend": true,
                  "text": [
                    282
                  ],
                  "textposition": "outside",
                  "type": "bar",
                  "x": [
                    "S"
                  ],
                  "xaxis": "x",
                  "y": [
                    282
                  ],
                  "yaxis": "y"
                },
                {
                  "alignmentgroup": "True",
                  "hovertemplate": "trim=%{x}<br>count=%{text}<extra></extra>",
                  "legendgroup": "GLS",
                  "marker": {
                    "color": "rgb(217,217,217)",
                    "pattern": {
                      "shape": ""
                    }
                  },
                  "name": "GLS",
                  "offsetgroup": "GLS",
                  "orientation": "v",
                  "showlegend": true,
                  "text": [
                    266
                  ],
                  "textposition": "outside",
                  "type": "bar",
                  "x": [
                    "GLS"
                  ],
                  "xaxis": "x",
                  "y": [
                    266
                  ],
                  "yaxis": "y"
                },
                {
                  "alignmentgroup": "True",
                  "hovertemplate": "trim=%{x}<br>count=%{text}<extra></extra>",
                  "legendgroup": "LE",
                  "marker": {
                    "color": "rgb(188,128,189)",
                    "pattern": {
                      "shape": ""
                    }
                  },
                  "name": "LE",
                  "offsetgroup": "LE",
                  "orientation": "v",
                  "showlegend": true,
                  "text": [
                    255
                  ],
                  "textposition": "outside",
                  "type": "bar",
                  "x": [
                    "LE"
                  ],
                  "xaxis": "x",
                  "y": [
                    255
                  ],
                  "yaxis": "y"
                }
              ],
              "layout": {
                "barmode": "relative",
                "legend": {
                  "title": {
                    "text": "trim"
                  },
                  "tracegroupgap": 0
                },
                "showlegend": false,
                "template": {
                  "data": {
                    "bar": [
                      {
                        "error_x": {
                          "color": "#2a3f5f"
                        },
                        "error_y": {
                          "color": "#2a3f5f"
                        },
                        "marker": {
                          "line": {
                            "color": "#E5ECF6",
                            "width": 0.5
                          },
                          "pattern": {
                            "fillmode": "overlay",
                            "size": 10,
                            "solidity": 0.2
                          }
                        },
                        "type": "bar"
                      }
                    ],
                    "barpolar": [
                      {
                        "marker": {
                          "line": {
                            "color": "#E5ECF6",
                            "width": 0.5
                          },
                          "pattern": {
                            "fillmode": "overlay",
                            "size": 10,
                            "solidity": 0.2
                          }
                        },
                        "type": "barpolar"
                      }
                    ],
                    "carpet": [
                      {
                        "aaxis": {
                          "endlinecolor": "#2a3f5f",
                          "gridcolor": "white",
                          "linecolor": "white",
                          "minorgridcolor": "white",
                          "startlinecolor": "#2a3f5f"
                        },
                        "baxis": {
                          "endlinecolor": "#2a3f5f",
                          "gridcolor": "white",
                          "linecolor": "white",
                          "minorgridcolor": "white",
                          "startlinecolor": "#2a3f5f"
                        },
                        "type": "carpet"
                      }
                    ],
                    "choropleth": [
                      {
                        "colorbar": {
                          "outlinewidth": 0,
                          "ticks": ""
                        },
                        "type": "choropleth"
                      }
                    ],
                    "contour": [
                      {
                        "colorbar": {
                          "outlinewidth": 0,
                          "ticks": ""
                        },
                        "colorscale": [
                          [
                            0,
                            "#0d0887"
                          ],
                          [
                            0.1111111111111111,
                            "#46039f"
                          ],
                          [
                            0.2222222222222222,
                            "#7201a8"
                          ],
                          [
                            0.3333333333333333,
                            "#9c179e"
                          ],
                          [
                            0.4444444444444444,
                            "#bd3786"
                          ],
                          [
                            0.5555555555555556,
                            "#d8576b"
                          ],
                          [
                            0.6666666666666666,
                            "#ed7953"
                          ],
                          [
                            0.7777777777777778,
                            "#fb9f3a"
                          ],
                          [
                            0.8888888888888888,
                            "#fdca26"
                          ],
                          [
                            1,
                            "#f0f921"
                          ]
                        ],
                        "type": "contour"
                      }
                    ],
                    "contourcarpet": [
                      {
                        "colorbar": {
                          "outlinewidth": 0,
                          "ticks": ""
                        },
                        "type": "contourcarpet"
                      }
                    ],
                    "heatmap": [
                      {
                        "colorbar": {
                          "outlinewidth": 0,
                          "ticks": ""
                        },
                        "colorscale": [
                          [
                            0,
                            "#0d0887"
                          ],
                          [
                            0.1111111111111111,
                            "#46039f"
                          ],
                          [
                            0.2222222222222222,
                            "#7201a8"
                          ],
                          [
                            0.3333333333333333,
                            "#9c179e"
                          ],
                          [
                            0.4444444444444444,
                            "#bd3786"
                          ],
                          [
                            0.5555555555555556,
                            "#d8576b"
                          ],
                          [
                            0.6666666666666666,
                            "#ed7953"
                          ],
                          [
                            0.7777777777777778,
                            "#fb9f3a"
                          ],
                          [
                            0.8888888888888888,
                            "#fdca26"
                          ],
                          [
                            1,
                            "#f0f921"
                          ]
                        ],
                        "type": "heatmap"
                      }
                    ],
                    "heatmapgl": [
                      {
                        "colorbar": {
                          "outlinewidth": 0,
                          "ticks": ""
                        },
                        "colorscale": [
                          [
                            0,
                            "#0d0887"
                          ],
                          [
                            0.1111111111111111,
                            "#46039f"
                          ],
                          [
                            0.2222222222222222,
                            "#7201a8"
                          ],
                          [
                            0.3333333333333333,
                            "#9c179e"
                          ],
                          [
                            0.4444444444444444,
                            "#bd3786"
                          ],
                          [
                            0.5555555555555556,
                            "#d8576b"
                          ],
                          [
                            0.6666666666666666,
                            "#ed7953"
                          ],
                          [
                            0.7777777777777778,
                            "#fb9f3a"
                          ],
                          [
                            0.8888888888888888,
                            "#fdca26"
                          ],
                          [
                            1,
                            "#f0f921"
                          ]
                        ],
                        "type": "heatmapgl"
                      }
                    ],
                    "histogram": [
                      {
                        "marker": {
                          "pattern": {
                            "fillmode": "overlay",
                            "size": 10,
                            "solidity": 0.2
                          }
                        },
                        "type": "histogram"
                      }
                    ],
                    "histogram2d": [
                      {
                        "colorbar": {
                          "outlinewidth": 0,
                          "ticks": ""
                        },
                        "colorscale": [
                          [
                            0,
                            "#0d0887"
                          ],
                          [
                            0.1111111111111111,
                            "#46039f"
                          ],
                          [
                            0.2222222222222222,
                            "#7201a8"
                          ],
                          [
                            0.3333333333333333,
                            "#9c179e"
                          ],
                          [
                            0.4444444444444444,
                            "#bd3786"
                          ],
                          [
                            0.5555555555555556,
                            "#d8576b"
                          ],
                          [
                            0.6666666666666666,
                            "#ed7953"
                          ],
                          [
                            0.7777777777777778,
                            "#fb9f3a"
                          ],
                          [
                            0.8888888888888888,
                            "#fdca26"
                          ],
                          [
                            1,
                            "#f0f921"
                          ]
                        ],
                        "type": "histogram2d"
                      }
                    ],
                    "histogram2dcontour": [
                      {
                        "colorbar": {
                          "outlinewidth": 0,
                          "ticks": ""
                        },
                        "colorscale": [
                          [
                            0,
                            "#0d0887"
                          ],
                          [
                            0.1111111111111111,
                            "#46039f"
                          ],
                          [
                            0.2222222222222222,
                            "#7201a8"
                          ],
                          [
                            0.3333333333333333,
                            "#9c179e"
                          ],
                          [
                            0.4444444444444444,
                            "#bd3786"
                          ],
                          [
                            0.5555555555555556,
                            "#d8576b"
                          ],
                          [
                            0.6666666666666666,
                            "#ed7953"
                          ],
                          [
                            0.7777777777777778,
                            "#fb9f3a"
                          ],
                          [
                            0.8888888888888888,
                            "#fdca26"
                          ],
                          [
                            1,
                            "#f0f921"
                          ]
                        ],
                        "type": "histogram2dcontour"
                      }
                    ],
                    "mesh3d": [
                      {
                        "colorbar": {
                          "outlinewidth": 0,
                          "ticks": ""
                        },
                        "type": "mesh3d"
                      }
                    ],
                    "parcoords": [
                      {
                        "line": {
                          "colorbar": {
                            "outlinewidth": 0,
                            "ticks": ""
                          }
                        },
                        "type": "parcoords"
                      }
                    ],
                    "pie": [
                      {
                        "automargin": true,
                        "type": "pie"
                      }
                    ],
                    "scatter": [
                      {
                        "fillpattern": {
                          "fillmode": "overlay",
                          "size": 10,
                          "solidity": 0.2
                        },
                        "type": "scatter"
                      }
                    ],
                    "scatter3d": [
                      {
                        "line": {
                          "colorbar": {
                            "outlinewidth": 0,
                            "ticks": ""
                          }
                        },
                        "marker": {
                          "colorbar": {
                            "outlinewidth": 0,
                            "ticks": ""
                          }
                        },
                        "type": "scatter3d"
                      }
                    ],
                    "scattercarpet": [
                      {
                        "marker": {
                          "colorbar": {
                            "outlinewidth": 0,
                            "ticks": ""
                          }
                        },
                        "type": "scattercarpet"
                      }
                    ],
                    "scattergeo": [
                      {
                        "marker": {
                          "colorbar": {
                            "outlinewidth": 0,
                            "ticks": ""
                          }
                        },
                        "type": "scattergeo"
                      }
                    ],
                    "scattergl": [
                      {
                        "marker": {
                          "colorbar": {
                            "outlinewidth": 0,
                            "ticks": ""
                          }
                        },
                        "type": "scattergl"
                      }
                    ],
                    "scattermapbox": [
                      {
                        "marker": {
                          "colorbar": {
                            "outlinewidth": 0,
                            "ticks": ""
                          }
                        },
                        "type": "scattermapbox"
                      }
                    ],
                    "scatterpolar": [
                      {
                        "marker": {
                          "colorbar": {
                            "outlinewidth": 0,
                            "ticks": ""
                          }
                        },
                        "type": "scatterpolar"
                      }
                    ],
                    "scatterpolargl": [
                      {
                        "marker": {
                          "colorbar": {
                            "outlinewidth": 0,
                            "ticks": ""
                          }
                        },
                        "type": "scatterpolargl"
                      }
                    ],
                    "scatterternary": [
                      {
                        "marker": {
                          "colorbar": {
                            "outlinewidth": 0,
                            "ticks": ""
                          }
                        },
                        "type": "scatterternary"
                      }
                    ],
                    "surface": [
                      {
                        "colorbar": {
                          "outlinewidth": 0,
                          "ticks": ""
                        },
                        "colorscale": [
                          [
                            0,
                            "#0d0887"
                          ],
                          [
                            0.1111111111111111,
                            "#46039f"
                          ],
                          [
                            0.2222222222222222,
                            "#7201a8"
                          ],
                          [
                            0.3333333333333333,
                            "#9c179e"
                          ],
                          [
                            0.4444444444444444,
                            "#bd3786"
                          ],
                          [
                            0.5555555555555556,
                            "#d8576b"
                          ],
                          [
                            0.6666666666666666,
                            "#ed7953"
                          ],
                          [
                            0.7777777777777778,
                            "#fb9f3a"
                          ],
                          [
                            0.8888888888888888,
                            "#fdca26"
                          ],
                          [
                            1,
                            "#f0f921"
                          ]
                        ],
                        "type": "surface"
                      }
                    ],
                    "table": [
                      {
                        "cells": {
                          "fill": {
                            "color": "#EBF0F8"
                          },
                          "line": {
                            "color": "white"
                          }
                        },
                        "header": {
                          "fill": {
                            "color": "#C8D4E3"
                          },
                          "line": {
                            "color": "white"
                          }
                        },
                        "type": "table"
                      }
                    ]
                  },
                  "layout": {
                    "annotationdefaults": {
                      "arrowcolor": "#2a3f5f",
                      "arrowhead": 0,
                      "arrowwidth": 1
                    },
                    "autotypenumbers": "strict",
                    "coloraxis": {
                      "colorbar": {
                        "outlinewidth": 0,
                        "ticks": ""
                      }
                    },
                    "colorscale": {
                      "diverging": [
                        [
                          0,
                          "#8e0152"
                        ],
                        [
                          0.1,
                          "#c51b7d"
                        ],
                        [
                          0.2,
                          "#de77ae"
                        ],
                        [
                          0.3,
                          "#f1b6da"
                        ],
                        [
                          0.4,
                          "#fde0ef"
                        ],
                        [
                          0.5,
                          "#f7f7f7"
                        ],
                        [
                          0.6,
                          "#e6f5d0"
                        ],
                        [
                          0.7,
                          "#b8e186"
                        ],
                        [
                          0.8,
                          "#7fbc41"
                        ],
                        [
                          0.9,
                          "#4d9221"
                        ],
                        [
                          1,
                          "#276419"
                        ]
                      ],
                      "sequential": [
                        [
                          0,
                          "#0d0887"
                        ],
                        [
                          0.1111111111111111,
                          "#46039f"
                        ],
                        [
                          0.2222222222222222,
                          "#7201a8"
                        ],
                        [
                          0.3333333333333333,
                          "#9c179e"
                        ],
                        [
                          0.4444444444444444,
                          "#bd3786"
                        ],
                        [
                          0.5555555555555556,
                          "#d8576b"
                        ],
                        [
                          0.6666666666666666,
                          "#ed7953"
                        ],
                        [
                          0.7777777777777778,
                          "#fb9f3a"
                        ],
                        [
                          0.8888888888888888,
                          "#fdca26"
                        ],
                        [
                          1,
                          "#f0f921"
                        ]
                      ],
                      "sequentialminus": [
                        [
                          0,
                          "#0d0887"
                        ],
                        [
                          0.1111111111111111,
                          "#46039f"
                        ],
                        [
                          0.2222222222222222,
                          "#7201a8"
                        ],
                        [
                          0.3333333333333333,
                          "#9c179e"
                        ],
                        [
                          0.4444444444444444,
                          "#bd3786"
                        ],
                        [
                          0.5555555555555556,
                          "#d8576b"
                        ],
                        [
                          0.6666666666666666,
                          "#ed7953"
                        ],
                        [
                          0.7777777777777778,
                          "#fb9f3a"
                        ],
                        [
                          0.8888888888888888,
                          "#fdca26"
                        ],
                        [
                          1,
                          "#f0f921"
                        ]
                      ]
                    },
                    "colorway": [
                      "#636efa",
                      "#EF553B",
                      "#00cc96",
                      "#ab63fa",
                      "#FFA15A",
                      "#19d3f3",
                      "#FF6692",
                      "#B6E880",
                      "#FF97FF",
                      "#FECB52"
                    ],
                    "font": {
                      "color": "#2a3f5f"
                    },
                    "geo": {
                      "bgcolor": "white",
                      "lakecolor": "white",
                      "landcolor": "#E5ECF6",
                      "showlakes": true,
                      "showland": true,
                      "subunitcolor": "white"
                    },
                    "hoverlabel": {
                      "align": "left"
                    },
                    "hovermode": "closest",
                    "mapbox": {
                      "style": "light"
                    },
                    "paper_bgcolor": "white",
                    "plot_bgcolor": "#E5ECF6",
                    "polar": {
                      "angularaxis": {
                        "gridcolor": "white",
                        "linecolor": "white",
                        "ticks": ""
                      },
                      "bgcolor": "#E5ECF6",
                      "radialaxis": {
                        "gridcolor": "white",
                        "linecolor": "white",
                        "ticks": ""
                      }
                    },
                    "scene": {
                      "xaxis": {
                        "backgroundcolor": "#E5ECF6",
                        "gridcolor": "white",
                        "gridwidth": 2,
                        "linecolor": "white",
                        "showbackground": true,
                        "ticks": "",
                        "zerolinecolor": "white"
                      },
                      "yaxis": {
                        "backgroundcolor": "#E5ECF6",
                        "gridcolor": "white",
                        "gridwidth": 2,
                        "linecolor": "white",
                        "showbackground": true,
                        "ticks": "",
                        "zerolinecolor": "white"
                      },
                      "zaxis": {
                        "backgroundcolor": "#E5ECF6",
                        "gridcolor": "white",
                        "gridwidth": 2,
                        "linecolor": "white",
                        "showbackground": true,
                        "ticks": "",
                        "zerolinecolor": "white"
                      }
                    },
                    "shapedefaults": {
                      "line": {
                        "color": "#2a3f5f"
                      }
                    },
                    "ternary": {
                      "aaxis": {
                        "gridcolor": "white",
                        "linecolor": "white",
                        "ticks": ""
                      },
                      "baxis": {
                        "gridcolor": "white",
                        "linecolor": "white",
                        "ticks": ""
                      },
                      "bgcolor": "#E5ECF6",
                      "caxis": {
                        "gridcolor": "white",
                        "linecolor": "white",
                        "ticks": ""
                      }
                    },
                    "title": {
                      "x": 0.05
                    },
                    "xaxis": {
                      "automargin": true,
                      "gridcolor": "white",
                      "linecolor": "white",
                      "ticks": "",
                      "title": {
                        "standoff": 15
                      },
                      "zerolinecolor": "white",
                      "zerolinewidth": 2
                    },
                    "yaxis": {
                      "automargin": true,
                      "gridcolor": "white",
                      "linecolor": "white",
                      "ticks": "",
                      "title": {
                        "standoff": 15
                      },
                      "zerolinecolor": "white",
                      "zerolinewidth": 2
                    }
                  }
                },
                "title": {
                  "text": "Top 10 Trim/Desain Mobil Terlaris",
                  "x": 0.5
                },
                "xaxis": {
                  "anchor": "y",
                  "categoryarray": [
                    "Base",
                    "SE",
                    "LX",
                    "XLT",
                    "LT",
                    "Limited",
                    "LS",
                    "S",
                    "GLS",
                    "LE"
                  ],
                  "categoryorder": "array",
                  "domain": [
                    0,
                    1
                  ],
                  "title": {
                    "text": "Trim/Desain Mobil"
                  }
                },
                "yaxis": {
                  "anchor": "x",
                  "domain": [
                    0,
                    1
                  ],
                  "title": {
                    "text": "Jumlah"
                  }
                }
              }
            }
          },
          "metadata": {},
          "output_type": "display_data"
        }
      ],
      "source": [
        "trim_counts = df['trim'].value_counts().head(10).reset_index()\n",
        "trim_counts.columns = ['trim', 'count']\n",
        "\n",
        "# Plot bar chart\n",
        "fig = px.bar(trim_counts, x='trim', y='count',\n",
        "             title='Top 10 Trim/Desain Mobil Terlaris',\n",
        "             color='trim',\n",
        "             color_discrete_sequence=px.colors.qualitative.Set3,\n",
        "             text='count')\n",
        "\n",
        "fig.update_layout(title_x=0.5,\n",
        "                  xaxis_title='Trim/Desain Mobil',\n",
        "                  yaxis_title='Jumlah',\n",
        "                  showlegend=False)\n",
        "\n",
        "fig.update_traces(textposition='outside')\n",
        "fig.show()\n"
      ]
    },
    {
      "cell_type": "markdown",
      "id": "8fd58290",
      "metadata": {},
      "source": [
        "Trim atau desain mobil paling laris adalah 'Base' dan 'SE'."
      ]
    },
    {
      "cell_type": "code",
      "execution_count": 10,
      "id": "4b967ba3",
      "metadata": {},
      "outputs": [
        {
          "data": {
            "application/vnd.plotly.v1+json": {
              "config": {
                "plotlyServerURL": "https://plot.ly"
              },
              "data": [
                {
                  "alignmentgroup": "True",
                  "hovertemplate": "body=%{x}<br>count=%{text}<extra></extra>",
                  "legendgroup": "Sedan",
                  "marker": {
                    "color": "rgb(141,211,199)",
                    "pattern": {
                      "shape": ""
                    }
                  },
                  "name": "Sedan",
                  "offsetgroup": "Sedan",
                  "orientation": "v",
                  "showlegend": true,
                  "text": [
                    4257
                  ],
                  "textposition": "outside",
                  "type": "bar",
                  "x": [
                    "Sedan"
                  ],
                  "xaxis": "x",
                  "y": [
                    4257
                  ],
                  "yaxis": "y"
                },
                {
                  "alignmentgroup": "True",
                  "hovertemplate": "body=%{x}<br>count=%{text}<extra></extra>",
                  "legendgroup": "SUV",
                  "marker": {
                    "color": "rgb(255,255,179)",
                    "pattern": {
                      "shape": ""
                    }
                  },
                  "name": "SUV",
                  "offsetgroup": "SUV",
                  "orientation": "v",
                  "showlegend": true,
                  "text": [
                    2499
                  ],
                  "textposition": "outside",
                  "type": "bar",
                  "x": [
                    "SUV"
                  ],
                  "xaxis": "x",
                  "y": [
                    2499
                  ],
                  "yaxis": "y"
                },
                {
                  "alignmentgroup": "True",
                  "hovertemplate": "body=%{x}<br>count=%{text}<extra></extra>",
                  "legendgroup": "sedan",
                  "marker": {
                    "color": "rgb(190,186,218)",
                    "pattern": {
                      "shape": ""
                    }
                  },
                  "name": "sedan",
                  "offsetgroup": "sedan",
                  "orientation": "v",
                  "showlegend": true,
                  "text": [
                    915
                  ],
                  "textposition": "outside",
                  "type": "bar",
                  "x": [
                    "sedan"
                  ],
                  "xaxis": "x",
                  "y": [
                    915
                  ],
                  "yaxis": "y"
                },
                {
                  "alignmentgroup": "True",
                  "hovertemplate": "body=%{x}<br>count=%{text}<extra></extra>",
                  "legendgroup": "suv",
                  "marker": {
                    "color": "rgb(251,128,114)",
                    "pattern": {
                      "shape": ""
                    }
                  },
                  "name": "suv",
                  "offsetgroup": "suv",
                  "orientation": "v",
                  "showlegend": true,
                  "text": [
                    549
                  ],
                  "textposition": "outside",
                  "type": "bar",
                  "x": [
                    "suv"
                  ],
                  "xaxis": "x",
                  "y": [
                    549
                  ],
                  "yaxis": "y"
                },
                {
                  "alignmentgroup": "True",
                  "hovertemplate": "body=%{x}<br>count=%{text}<extra></extra>",
                  "legendgroup": "Minivan",
                  "marker": {
                    "color": "rgb(128,177,211)",
                    "pattern": {
                      "shape": ""
                    }
                  },
                  "name": "Minivan",
                  "offsetgroup": "Minivan",
                  "orientation": "v",
                  "showlegend": true,
                  "text": [
                    469
                  ],
                  "textposition": "outside",
                  "type": "bar",
                  "x": [
                    "Minivan"
                  ],
                  "xaxis": "x",
                  "y": [
                    469
                  ],
                  "yaxis": "y"
                },
                {
                  "alignmentgroup": "True",
                  "hovertemplate": "body=%{x}<br>count=%{text}<extra></extra>",
                  "legendgroup": "Hatchback",
                  "marker": {
                    "color": "rgb(253,180,98)",
                    "pattern": {
                      "shape": ""
                    }
                  },
                  "name": "Hatchback",
                  "offsetgroup": "Hatchback",
                  "orientation": "v",
                  "showlegend": true,
                  "text": [
                    448
                  ],
                  "textposition": "outside",
                  "type": "bar",
                  "x": [
                    "Hatchback"
                  ],
                  "xaxis": "x",
                  "y": [
                    448
                  ],
                  "yaxis": "y"
                },
                {
                  "alignmentgroup": "True",
                  "hovertemplate": "body=%{x}<br>count=%{text}<extra></extra>",
                  "legendgroup": "Wagon",
                  "marker": {
                    "color": "rgb(179,222,105)",
                    "pattern": {
                      "shape": ""
                    }
                  },
                  "name": "Wagon",
                  "offsetgroup": "Wagon",
                  "orientation": "v",
                  "showlegend": true,
                  "text": [
                    294
                  ],
                  "textposition": "outside",
                  "type": "bar",
                  "x": [
                    "Wagon"
                  ],
                  "xaxis": "x",
                  "y": [
                    294
                  ],
                  "yaxis": "y"
                },
                {
                  "alignmentgroup": "True",
                  "hovertemplate": "body=%{x}<br>count=%{text}<extra></extra>",
                  "legendgroup": "Coupe",
                  "marker": {
                    "color": "rgb(252,205,229)",
                    "pattern": {
                      "shape": ""
                    }
                  },
                  "name": "Coupe",
                  "offsetgroup": "Coupe",
                  "orientation": "v",
                  "showlegend": true,
                  "text": [
                    292
                  ],
                  "textposition": "outside",
                  "type": "bar",
                  "x": [
                    "Coupe"
                  ],
                  "xaxis": "x",
                  "y": [
                    292
                  ],
                  "yaxis": "y"
                },
                {
                  "alignmentgroup": "True",
                  "hovertemplate": "body=%{x}<br>count=%{text}<extra></extra>",
                  "legendgroup": "Unknown",
                  "marker": {
                    "color": "rgb(217,217,217)",
                    "pattern": {
                      "shape": ""
                    }
                  },
                  "name": "Unknown",
                  "offsetgroup": "Unknown",
                  "orientation": "v",
                  "showlegend": true,
                  "text": [
                    287
                  ],
                  "textposition": "outside",
                  "type": "bar",
                  "x": [
                    "Unknown"
                  ],
                  "xaxis": "x",
                  "y": [
                    287
                  ],
                  "yaxis": "y"
                },
                {
                  "alignmentgroup": "True",
                  "hovertemplate": "body=%{x}<br>count=%{text}<extra></extra>",
                  "legendgroup": "Crew Cab",
                  "marker": {
                    "color": "rgb(188,128,189)",
                    "pattern": {
                      "shape": ""
                    }
                  },
                  "name": "Crew Cab",
                  "offsetgroup": "Crew Cab",
                  "orientation": "v",
                  "showlegend": true,
                  "text": [
                    279
                  ],
                  "textposition": "outside",
                  "type": "bar",
                  "x": [
                    "Crew Cab"
                  ],
                  "xaxis": "x",
                  "y": [
                    279
                  ],
                  "yaxis": "y"
                }
              ],
              "layout": {
                "barmode": "relative",
                "legend": {
                  "title": {
                    "text": "body"
                  },
                  "tracegroupgap": 0
                },
                "showlegend": false,
                "template": {
                  "data": {
                    "bar": [
                      {
                        "error_x": {
                          "color": "#2a3f5f"
                        },
                        "error_y": {
                          "color": "#2a3f5f"
                        },
                        "marker": {
                          "line": {
                            "color": "#E5ECF6",
                            "width": 0.5
                          },
                          "pattern": {
                            "fillmode": "overlay",
                            "size": 10,
                            "solidity": 0.2
                          }
                        },
                        "type": "bar"
                      }
                    ],
                    "barpolar": [
                      {
                        "marker": {
                          "line": {
                            "color": "#E5ECF6",
                            "width": 0.5
                          },
                          "pattern": {
                            "fillmode": "overlay",
                            "size": 10,
                            "solidity": 0.2
                          }
                        },
                        "type": "barpolar"
                      }
                    ],
                    "carpet": [
                      {
                        "aaxis": {
                          "endlinecolor": "#2a3f5f",
                          "gridcolor": "white",
                          "linecolor": "white",
                          "minorgridcolor": "white",
                          "startlinecolor": "#2a3f5f"
                        },
                        "baxis": {
                          "endlinecolor": "#2a3f5f",
                          "gridcolor": "white",
                          "linecolor": "white",
                          "minorgridcolor": "white",
                          "startlinecolor": "#2a3f5f"
                        },
                        "type": "carpet"
                      }
                    ],
                    "choropleth": [
                      {
                        "colorbar": {
                          "outlinewidth": 0,
                          "ticks": ""
                        },
                        "type": "choropleth"
                      }
                    ],
                    "contour": [
                      {
                        "colorbar": {
                          "outlinewidth": 0,
                          "ticks": ""
                        },
                        "colorscale": [
                          [
                            0,
                            "#0d0887"
                          ],
                          [
                            0.1111111111111111,
                            "#46039f"
                          ],
                          [
                            0.2222222222222222,
                            "#7201a8"
                          ],
                          [
                            0.3333333333333333,
                            "#9c179e"
                          ],
                          [
                            0.4444444444444444,
                            "#bd3786"
                          ],
                          [
                            0.5555555555555556,
                            "#d8576b"
                          ],
                          [
                            0.6666666666666666,
                            "#ed7953"
                          ],
                          [
                            0.7777777777777778,
                            "#fb9f3a"
                          ],
                          [
                            0.8888888888888888,
                            "#fdca26"
                          ],
                          [
                            1,
                            "#f0f921"
                          ]
                        ],
                        "type": "contour"
                      }
                    ],
                    "contourcarpet": [
                      {
                        "colorbar": {
                          "outlinewidth": 0,
                          "ticks": ""
                        },
                        "type": "contourcarpet"
                      }
                    ],
                    "heatmap": [
                      {
                        "colorbar": {
                          "outlinewidth": 0,
                          "ticks": ""
                        },
                        "colorscale": [
                          [
                            0,
                            "#0d0887"
                          ],
                          [
                            0.1111111111111111,
                            "#46039f"
                          ],
                          [
                            0.2222222222222222,
                            "#7201a8"
                          ],
                          [
                            0.3333333333333333,
                            "#9c179e"
                          ],
                          [
                            0.4444444444444444,
                            "#bd3786"
                          ],
                          [
                            0.5555555555555556,
                            "#d8576b"
                          ],
                          [
                            0.6666666666666666,
                            "#ed7953"
                          ],
                          [
                            0.7777777777777778,
                            "#fb9f3a"
                          ],
                          [
                            0.8888888888888888,
                            "#fdca26"
                          ],
                          [
                            1,
                            "#f0f921"
                          ]
                        ],
                        "type": "heatmap"
                      }
                    ],
                    "heatmapgl": [
                      {
                        "colorbar": {
                          "outlinewidth": 0,
                          "ticks": ""
                        },
                        "colorscale": [
                          [
                            0,
                            "#0d0887"
                          ],
                          [
                            0.1111111111111111,
                            "#46039f"
                          ],
                          [
                            0.2222222222222222,
                            "#7201a8"
                          ],
                          [
                            0.3333333333333333,
                            "#9c179e"
                          ],
                          [
                            0.4444444444444444,
                            "#bd3786"
                          ],
                          [
                            0.5555555555555556,
                            "#d8576b"
                          ],
                          [
                            0.6666666666666666,
                            "#ed7953"
                          ],
                          [
                            0.7777777777777778,
                            "#fb9f3a"
                          ],
                          [
                            0.8888888888888888,
                            "#fdca26"
                          ],
                          [
                            1,
                            "#f0f921"
                          ]
                        ],
                        "type": "heatmapgl"
                      }
                    ],
                    "histogram": [
                      {
                        "marker": {
                          "pattern": {
                            "fillmode": "overlay",
                            "size": 10,
                            "solidity": 0.2
                          }
                        },
                        "type": "histogram"
                      }
                    ],
                    "histogram2d": [
                      {
                        "colorbar": {
                          "outlinewidth": 0,
                          "ticks": ""
                        },
                        "colorscale": [
                          [
                            0,
                            "#0d0887"
                          ],
                          [
                            0.1111111111111111,
                            "#46039f"
                          ],
                          [
                            0.2222222222222222,
                            "#7201a8"
                          ],
                          [
                            0.3333333333333333,
                            "#9c179e"
                          ],
                          [
                            0.4444444444444444,
                            "#bd3786"
                          ],
                          [
                            0.5555555555555556,
                            "#d8576b"
                          ],
                          [
                            0.6666666666666666,
                            "#ed7953"
                          ],
                          [
                            0.7777777777777778,
                            "#fb9f3a"
                          ],
                          [
                            0.8888888888888888,
                            "#fdca26"
                          ],
                          [
                            1,
                            "#f0f921"
                          ]
                        ],
                        "type": "histogram2d"
                      }
                    ],
                    "histogram2dcontour": [
                      {
                        "colorbar": {
                          "outlinewidth": 0,
                          "ticks": ""
                        },
                        "colorscale": [
                          [
                            0,
                            "#0d0887"
                          ],
                          [
                            0.1111111111111111,
                            "#46039f"
                          ],
                          [
                            0.2222222222222222,
                            "#7201a8"
                          ],
                          [
                            0.3333333333333333,
                            "#9c179e"
                          ],
                          [
                            0.4444444444444444,
                            "#bd3786"
                          ],
                          [
                            0.5555555555555556,
                            "#d8576b"
                          ],
                          [
                            0.6666666666666666,
                            "#ed7953"
                          ],
                          [
                            0.7777777777777778,
                            "#fb9f3a"
                          ],
                          [
                            0.8888888888888888,
                            "#fdca26"
                          ],
                          [
                            1,
                            "#f0f921"
                          ]
                        ],
                        "type": "histogram2dcontour"
                      }
                    ],
                    "mesh3d": [
                      {
                        "colorbar": {
                          "outlinewidth": 0,
                          "ticks": ""
                        },
                        "type": "mesh3d"
                      }
                    ],
                    "parcoords": [
                      {
                        "line": {
                          "colorbar": {
                            "outlinewidth": 0,
                            "ticks": ""
                          }
                        },
                        "type": "parcoords"
                      }
                    ],
                    "pie": [
                      {
                        "automargin": true,
                        "type": "pie"
                      }
                    ],
                    "scatter": [
                      {
                        "fillpattern": {
                          "fillmode": "overlay",
                          "size": 10,
                          "solidity": 0.2
                        },
                        "type": "scatter"
                      }
                    ],
                    "scatter3d": [
                      {
                        "line": {
                          "colorbar": {
                            "outlinewidth": 0,
                            "ticks": ""
                          }
                        },
                        "marker": {
                          "colorbar": {
                            "outlinewidth": 0,
                            "ticks": ""
                          }
                        },
                        "type": "scatter3d"
                      }
                    ],
                    "scattercarpet": [
                      {
                        "marker": {
                          "colorbar": {
                            "outlinewidth": 0,
                            "ticks": ""
                          }
                        },
                        "type": "scattercarpet"
                      }
                    ],
                    "scattergeo": [
                      {
                        "marker": {
                          "colorbar": {
                            "outlinewidth": 0,
                            "ticks": ""
                          }
                        },
                        "type": "scattergeo"
                      }
                    ],
                    "scattergl": [
                      {
                        "marker": {
                          "colorbar": {
                            "outlinewidth": 0,
                            "ticks": ""
                          }
                        },
                        "type": "scattergl"
                      }
                    ],
                    "scattermapbox": [
                      {
                        "marker": {
                          "colorbar": {
                            "outlinewidth": 0,
                            "ticks": ""
                          }
                        },
                        "type": "scattermapbox"
                      }
                    ],
                    "scatterpolar": [
                      {
                        "marker": {
                          "colorbar": {
                            "outlinewidth": 0,
                            "ticks": ""
                          }
                        },
                        "type": "scatterpolar"
                      }
                    ],
                    "scatterpolargl": [
                      {
                        "marker": {
                          "colorbar": {
                            "outlinewidth": 0,
                            "ticks": ""
                          }
                        },
                        "type": "scatterpolargl"
                      }
                    ],
                    "scatterternary": [
                      {
                        "marker": {
                          "colorbar": {
                            "outlinewidth": 0,
                            "ticks": ""
                          }
                        },
                        "type": "scatterternary"
                      }
                    ],
                    "surface": [
                      {
                        "colorbar": {
                          "outlinewidth": 0,
                          "ticks": ""
                        },
                        "colorscale": [
                          [
                            0,
                            "#0d0887"
                          ],
                          [
                            0.1111111111111111,
                            "#46039f"
                          ],
                          [
                            0.2222222222222222,
                            "#7201a8"
                          ],
                          [
                            0.3333333333333333,
                            "#9c179e"
                          ],
                          [
                            0.4444444444444444,
                            "#bd3786"
                          ],
                          [
                            0.5555555555555556,
                            "#d8576b"
                          ],
                          [
                            0.6666666666666666,
                            "#ed7953"
                          ],
                          [
                            0.7777777777777778,
                            "#fb9f3a"
                          ],
                          [
                            0.8888888888888888,
                            "#fdca26"
                          ],
                          [
                            1,
                            "#f0f921"
                          ]
                        ],
                        "type": "surface"
                      }
                    ],
                    "table": [
                      {
                        "cells": {
                          "fill": {
                            "color": "#EBF0F8"
                          },
                          "line": {
                            "color": "white"
                          }
                        },
                        "header": {
                          "fill": {
                            "color": "#C8D4E3"
                          },
                          "line": {
                            "color": "white"
                          }
                        },
                        "type": "table"
                      }
                    ]
                  },
                  "layout": {
                    "annotationdefaults": {
                      "arrowcolor": "#2a3f5f",
                      "arrowhead": 0,
                      "arrowwidth": 1
                    },
                    "autotypenumbers": "strict",
                    "coloraxis": {
                      "colorbar": {
                        "outlinewidth": 0,
                        "ticks": ""
                      }
                    },
                    "colorscale": {
                      "diverging": [
                        [
                          0,
                          "#8e0152"
                        ],
                        [
                          0.1,
                          "#c51b7d"
                        ],
                        [
                          0.2,
                          "#de77ae"
                        ],
                        [
                          0.3,
                          "#f1b6da"
                        ],
                        [
                          0.4,
                          "#fde0ef"
                        ],
                        [
                          0.5,
                          "#f7f7f7"
                        ],
                        [
                          0.6,
                          "#e6f5d0"
                        ],
                        [
                          0.7,
                          "#b8e186"
                        ],
                        [
                          0.8,
                          "#7fbc41"
                        ],
                        [
                          0.9,
                          "#4d9221"
                        ],
                        [
                          1,
                          "#276419"
                        ]
                      ],
                      "sequential": [
                        [
                          0,
                          "#0d0887"
                        ],
                        [
                          0.1111111111111111,
                          "#46039f"
                        ],
                        [
                          0.2222222222222222,
                          "#7201a8"
                        ],
                        [
                          0.3333333333333333,
                          "#9c179e"
                        ],
                        [
                          0.4444444444444444,
                          "#bd3786"
                        ],
                        [
                          0.5555555555555556,
                          "#d8576b"
                        ],
                        [
                          0.6666666666666666,
                          "#ed7953"
                        ],
                        [
                          0.7777777777777778,
                          "#fb9f3a"
                        ],
                        [
                          0.8888888888888888,
                          "#fdca26"
                        ],
                        [
                          1,
                          "#f0f921"
                        ]
                      ],
                      "sequentialminus": [
                        [
                          0,
                          "#0d0887"
                        ],
                        [
                          0.1111111111111111,
                          "#46039f"
                        ],
                        [
                          0.2222222222222222,
                          "#7201a8"
                        ],
                        [
                          0.3333333333333333,
                          "#9c179e"
                        ],
                        [
                          0.4444444444444444,
                          "#bd3786"
                        ],
                        [
                          0.5555555555555556,
                          "#d8576b"
                        ],
                        [
                          0.6666666666666666,
                          "#ed7953"
                        ],
                        [
                          0.7777777777777778,
                          "#fb9f3a"
                        ],
                        [
                          0.8888888888888888,
                          "#fdca26"
                        ],
                        [
                          1,
                          "#f0f921"
                        ]
                      ]
                    },
                    "colorway": [
                      "#636efa",
                      "#EF553B",
                      "#00cc96",
                      "#ab63fa",
                      "#FFA15A",
                      "#19d3f3",
                      "#FF6692",
                      "#B6E880",
                      "#FF97FF",
                      "#FECB52"
                    ],
                    "font": {
                      "color": "#2a3f5f"
                    },
                    "geo": {
                      "bgcolor": "white",
                      "lakecolor": "white",
                      "landcolor": "#E5ECF6",
                      "showlakes": true,
                      "showland": true,
                      "subunitcolor": "white"
                    },
                    "hoverlabel": {
                      "align": "left"
                    },
                    "hovermode": "closest",
                    "mapbox": {
                      "style": "light"
                    },
                    "paper_bgcolor": "white",
                    "plot_bgcolor": "#E5ECF6",
                    "polar": {
                      "angularaxis": {
                        "gridcolor": "white",
                        "linecolor": "white",
                        "ticks": ""
                      },
                      "bgcolor": "#E5ECF6",
                      "radialaxis": {
                        "gridcolor": "white",
                        "linecolor": "white",
                        "ticks": ""
                      }
                    },
                    "scene": {
                      "xaxis": {
                        "backgroundcolor": "#E5ECF6",
                        "gridcolor": "white",
                        "gridwidth": 2,
                        "linecolor": "white",
                        "showbackground": true,
                        "ticks": "",
                        "zerolinecolor": "white"
                      },
                      "yaxis": {
                        "backgroundcolor": "#E5ECF6",
                        "gridcolor": "white",
                        "gridwidth": 2,
                        "linecolor": "white",
                        "showbackground": true,
                        "ticks": "",
                        "zerolinecolor": "white"
                      },
                      "zaxis": {
                        "backgroundcolor": "#E5ECF6",
                        "gridcolor": "white",
                        "gridwidth": 2,
                        "linecolor": "white",
                        "showbackground": true,
                        "ticks": "",
                        "zerolinecolor": "white"
                      }
                    },
                    "shapedefaults": {
                      "line": {
                        "color": "#2a3f5f"
                      }
                    },
                    "ternary": {
                      "aaxis": {
                        "gridcolor": "white",
                        "linecolor": "white",
                        "ticks": ""
                      },
                      "baxis": {
                        "gridcolor": "white",
                        "linecolor": "white",
                        "ticks": ""
                      },
                      "bgcolor": "#E5ECF6",
                      "caxis": {
                        "gridcolor": "white",
                        "linecolor": "white",
                        "ticks": ""
                      }
                    },
                    "title": {
                      "x": 0.05
                    },
                    "xaxis": {
                      "automargin": true,
                      "gridcolor": "white",
                      "linecolor": "white",
                      "ticks": "",
                      "title": {
                        "standoff": 15
                      },
                      "zerolinecolor": "white",
                      "zerolinewidth": 2
                    },
                    "yaxis": {
                      "automargin": true,
                      "gridcolor": "white",
                      "linecolor": "white",
                      "ticks": "",
                      "title": {
                        "standoff": 15
                      },
                      "zerolinecolor": "white",
                      "zerolinewidth": 2
                    }
                  }
                },
                "title": {
                  "text": "Top 10 Body Mobil Terlaris",
                  "x": 0.5
                },
                "xaxis": {
                  "anchor": "y",
                  "categoryarray": [
                    "Sedan",
                    "SUV",
                    "sedan",
                    "suv",
                    "Minivan",
                    "Hatchback",
                    "Wagon",
                    "Coupe",
                    "Unknown",
                    "Crew Cab"
                  ],
                  "categoryorder": "array",
                  "domain": [
                    0,
                    1
                  ],
                  "title": {
                    "text": "Body Mobil"
                  }
                },
                "yaxis": {
                  "anchor": "x",
                  "domain": [
                    0,
                    1
                  ],
                  "title": {
                    "text": "Jumlah"
                  }
                }
              }
            }
          },
          "metadata": {},
          "output_type": "display_data"
        }
      ],
      "source": [
        "body_counts = df['body'].value_counts().head(10).reset_index()\n",
        "body_counts.columns = ['body', 'count']\n",
        "\n",
        "# Plot bar chart\n",
        "fig = px.bar(body_counts, x='body', y='count',\n",
        "             title='Top 10 Body Mobil Terlaris',\n",
        "             color='body',\n",
        "             color_discrete_sequence=px.colors.qualitative.Set3,\n",
        "             text='count')\n",
        "\n",
        "fig.update_layout(title_x=0.5,\n",
        "                  xaxis_title='Body Mobil',\n",
        "                  yaxis_title='Jumlah',\n",
        "                  showlegend=False)\n",
        "\n",
        "fig.update_traces(textposition='outside')\n",
        "fig.show()\n"
      ]
    },
    {
      "cell_type": "markdown",
      "id": "19d8ceee",
      "metadata": {},
      "source": [
        "Pada case data ini, terdapat kesalahan input data dimana terdapat duplicate data dari mobil body 'Sedan' dengan 'sedan' dan mobil body 'SUV' dengan 'suv'. Saya akan membetulkan datanya terlebih dahulu dengan melakukan perubahan / replace data yang ada."
      ]
    },
    {
      "cell_type": "code",
      "execution_count": 5,
      "id": "2c51708a",
      "metadata": {},
      "outputs": [],
      "source": [
        "df['body'] = df['body'].replace({'sedan': 'Sedan', 'suv': 'SUV'})"
      ]
    },
    {
      "cell_type": "code",
      "execution_count": 12,
      "id": "01f152f5",
      "metadata": {},
      "outputs": [
        {
          "data": {
            "application/vnd.plotly.v1+json": {
              "config": {
                "plotlyServerURL": "https://plot.ly"
              },
              "data": [
                {
                  "alignmentgroup": "True",
                  "hovertemplate": "body=%{x}<br>count=%{text}<extra></extra>",
                  "legendgroup": "Sedan",
                  "marker": {
                    "color": "rgb(141,211,199)",
                    "pattern": {
                      "shape": ""
                    }
                  },
                  "name": "Sedan",
                  "offsetgroup": "Sedan",
                  "orientation": "v",
                  "showlegend": true,
                  "text": [
                    5172
                  ],
                  "textposition": "outside",
                  "type": "bar",
                  "x": [
                    "Sedan"
                  ],
                  "xaxis": "x",
                  "y": [
                    5172
                  ],
                  "yaxis": "y"
                },
                {
                  "alignmentgroup": "True",
                  "hovertemplate": "body=%{x}<br>count=%{text}<extra></extra>",
                  "legendgroup": "SUV",
                  "marker": {
                    "color": "rgb(255,255,179)",
                    "pattern": {
                      "shape": ""
                    }
                  },
                  "name": "SUV",
                  "offsetgroup": "SUV",
                  "orientation": "v",
                  "showlegend": true,
                  "text": [
                    3048
                  ],
                  "textposition": "outside",
                  "type": "bar",
                  "x": [
                    "SUV"
                  ],
                  "xaxis": "x",
                  "y": [
                    3048
                  ],
                  "yaxis": "y"
                },
                {
                  "alignmentgroup": "True",
                  "hovertemplate": "body=%{x}<br>count=%{text}<extra></extra>",
                  "legendgroup": "Minivan",
                  "marker": {
                    "color": "rgb(190,186,218)",
                    "pattern": {
                      "shape": ""
                    }
                  },
                  "name": "Minivan",
                  "offsetgroup": "Minivan",
                  "orientation": "v",
                  "showlegend": true,
                  "text": [
                    469
                  ],
                  "textposition": "outside",
                  "type": "bar",
                  "x": [
                    "Minivan"
                  ],
                  "xaxis": "x",
                  "y": [
                    469
                  ],
                  "yaxis": "y"
                },
                {
                  "alignmentgroup": "True",
                  "hovertemplate": "body=%{x}<br>count=%{text}<extra></extra>",
                  "legendgroup": "Hatchback",
                  "marker": {
                    "color": "rgb(251,128,114)",
                    "pattern": {
                      "shape": ""
                    }
                  },
                  "name": "Hatchback",
                  "offsetgroup": "Hatchback",
                  "orientation": "v",
                  "showlegend": true,
                  "text": [
                    448
                  ],
                  "textposition": "outside",
                  "type": "bar",
                  "x": [
                    "Hatchback"
                  ],
                  "xaxis": "x",
                  "y": [
                    448
                  ],
                  "yaxis": "y"
                },
                {
                  "alignmentgroup": "True",
                  "hovertemplate": "body=%{x}<br>count=%{text}<extra></extra>",
                  "legendgroup": "Wagon",
                  "marker": {
                    "color": "rgb(128,177,211)",
                    "pattern": {
                      "shape": ""
                    }
                  },
                  "name": "Wagon",
                  "offsetgroup": "Wagon",
                  "orientation": "v",
                  "showlegend": true,
                  "text": [
                    294
                  ],
                  "textposition": "outside",
                  "type": "bar",
                  "x": [
                    "Wagon"
                  ],
                  "xaxis": "x",
                  "y": [
                    294
                  ],
                  "yaxis": "y"
                },
                {
                  "alignmentgroup": "True",
                  "hovertemplate": "body=%{x}<br>count=%{text}<extra></extra>",
                  "legendgroup": "Coupe",
                  "marker": {
                    "color": "rgb(253,180,98)",
                    "pattern": {
                      "shape": ""
                    }
                  },
                  "name": "Coupe",
                  "offsetgroup": "Coupe",
                  "orientation": "v",
                  "showlegend": true,
                  "text": [
                    292
                  ],
                  "textposition": "outside",
                  "type": "bar",
                  "x": [
                    "Coupe"
                  ],
                  "xaxis": "x",
                  "y": [
                    292
                  ],
                  "yaxis": "y"
                },
                {
                  "alignmentgroup": "True",
                  "hovertemplate": "body=%{x}<br>count=%{text}<extra></extra>",
                  "legendgroup": "Unknown",
                  "marker": {
                    "color": "rgb(179,222,105)",
                    "pattern": {
                      "shape": ""
                    }
                  },
                  "name": "Unknown",
                  "offsetgroup": "Unknown",
                  "orientation": "v",
                  "showlegend": true,
                  "text": [
                    287
                  ],
                  "textposition": "outside",
                  "type": "bar",
                  "x": [
                    "Unknown"
                  ],
                  "xaxis": "x",
                  "y": [
                    287
                  ],
                  "yaxis": "y"
                },
                {
                  "alignmentgroup": "True",
                  "hovertemplate": "body=%{x}<br>count=%{text}<extra></extra>",
                  "legendgroup": "Crew Cab",
                  "marker": {
                    "color": "rgb(252,205,229)",
                    "pattern": {
                      "shape": ""
                    }
                  },
                  "name": "Crew Cab",
                  "offsetgroup": "Crew Cab",
                  "orientation": "v",
                  "showlegend": true,
                  "text": [
                    279
                  ],
                  "textposition": "outside",
                  "type": "bar",
                  "x": [
                    "Crew Cab"
                  ],
                  "xaxis": "x",
                  "y": [
                    279
                  ],
                  "yaxis": "y"
                },
                {
                  "alignmentgroup": "True",
                  "hovertemplate": "body=%{x}<br>count=%{text}<extra></extra>",
                  "legendgroup": "Convertible",
                  "marker": {
                    "color": "rgb(217,217,217)",
                    "pattern": {
                      "shape": ""
                    }
                  },
                  "name": "Convertible",
                  "offsetgroup": "Convertible",
                  "orientation": "v",
                  "showlegend": true,
                  "text": [
                    187
                  ],
                  "textposition": "outside",
                  "type": "bar",
                  "x": [
                    "Convertible"
                  ],
                  "xaxis": "x",
                  "y": [
                    187
                  ],
                  "yaxis": "y"
                },
                {
                  "alignmentgroup": "True",
                  "hovertemplate": "body=%{x}<br>count=%{text}<extra></extra>",
                  "legendgroup": "SuperCrew",
                  "marker": {
                    "color": "rgb(188,128,189)",
                    "pattern": {
                      "shape": ""
                    }
                  },
                  "name": "SuperCrew",
                  "offsetgroup": "SuperCrew",
                  "orientation": "v",
                  "showlegend": true,
                  "text": [
                    172
                  ],
                  "textposition": "outside",
                  "type": "bar",
                  "x": [
                    "SuperCrew"
                  ],
                  "xaxis": "x",
                  "y": [
                    172
                  ],
                  "yaxis": "y"
                }
              ],
              "layout": {
                "barmode": "relative",
                "legend": {
                  "title": {
                    "text": "body"
                  },
                  "tracegroupgap": 0
                },
                "showlegend": false,
                "template": {
                  "data": {
                    "bar": [
                      {
                        "error_x": {
                          "color": "#2a3f5f"
                        },
                        "error_y": {
                          "color": "#2a3f5f"
                        },
                        "marker": {
                          "line": {
                            "color": "#E5ECF6",
                            "width": 0.5
                          },
                          "pattern": {
                            "fillmode": "overlay",
                            "size": 10,
                            "solidity": 0.2
                          }
                        },
                        "type": "bar"
                      }
                    ],
                    "barpolar": [
                      {
                        "marker": {
                          "line": {
                            "color": "#E5ECF6",
                            "width": 0.5
                          },
                          "pattern": {
                            "fillmode": "overlay",
                            "size": 10,
                            "solidity": 0.2
                          }
                        },
                        "type": "barpolar"
                      }
                    ],
                    "carpet": [
                      {
                        "aaxis": {
                          "endlinecolor": "#2a3f5f",
                          "gridcolor": "white",
                          "linecolor": "white",
                          "minorgridcolor": "white",
                          "startlinecolor": "#2a3f5f"
                        },
                        "baxis": {
                          "endlinecolor": "#2a3f5f",
                          "gridcolor": "white",
                          "linecolor": "white",
                          "minorgridcolor": "white",
                          "startlinecolor": "#2a3f5f"
                        },
                        "type": "carpet"
                      }
                    ],
                    "choropleth": [
                      {
                        "colorbar": {
                          "outlinewidth": 0,
                          "ticks": ""
                        },
                        "type": "choropleth"
                      }
                    ],
                    "contour": [
                      {
                        "colorbar": {
                          "outlinewidth": 0,
                          "ticks": ""
                        },
                        "colorscale": [
                          [
                            0,
                            "#0d0887"
                          ],
                          [
                            0.1111111111111111,
                            "#46039f"
                          ],
                          [
                            0.2222222222222222,
                            "#7201a8"
                          ],
                          [
                            0.3333333333333333,
                            "#9c179e"
                          ],
                          [
                            0.4444444444444444,
                            "#bd3786"
                          ],
                          [
                            0.5555555555555556,
                            "#d8576b"
                          ],
                          [
                            0.6666666666666666,
                            "#ed7953"
                          ],
                          [
                            0.7777777777777778,
                            "#fb9f3a"
                          ],
                          [
                            0.8888888888888888,
                            "#fdca26"
                          ],
                          [
                            1,
                            "#f0f921"
                          ]
                        ],
                        "type": "contour"
                      }
                    ],
                    "contourcarpet": [
                      {
                        "colorbar": {
                          "outlinewidth": 0,
                          "ticks": ""
                        },
                        "type": "contourcarpet"
                      }
                    ],
                    "heatmap": [
                      {
                        "colorbar": {
                          "outlinewidth": 0,
                          "ticks": ""
                        },
                        "colorscale": [
                          [
                            0,
                            "#0d0887"
                          ],
                          [
                            0.1111111111111111,
                            "#46039f"
                          ],
                          [
                            0.2222222222222222,
                            "#7201a8"
                          ],
                          [
                            0.3333333333333333,
                            "#9c179e"
                          ],
                          [
                            0.4444444444444444,
                            "#bd3786"
                          ],
                          [
                            0.5555555555555556,
                            "#d8576b"
                          ],
                          [
                            0.6666666666666666,
                            "#ed7953"
                          ],
                          [
                            0.7777777777777778,
                            "#fb9f3a"
                          ],
                          [
                            0.8888888888888888,
                            "#fdca26"
                          ],
                          [
                            1,
                            "#f0f921"
                          ]
                        ],
                        "type": "heatmap"
                      }
                    ],
                    "heatmapgl": [
                      {
                        "colorbar": {
                          "outlinewidth": 0,
                          "ticks": ""
                        },
                        "colorscale": [
                          [
                            0,
                            "#0d0887"
                          ],
                          [
                            0.1111111111111111,
                            "#46039f"
                          ],
                          [
                            0.2222222222222222,
                            "#7201a8"
                          ],
                          [
                            0.3333333333333333,
                            "#9c179e"
                          ],
                          [
                            0.4444444444444444,
                            "#bd3786"
                          ],
                          [
                            0.5555555555555556,
                            "#d8576b"
                          ],
                          [
                            0.6666666666666666,
                            "#ed7953"
                          ],
                          [
                            0.7777777777777778,
                            "#fb9f3a"
                          ],
                          [
                            0.8888888888888888,
                            "#fdca26"
                          ],
                          [
                            1,
                            "#f0f921"
                          ]
                        ],
                        "type": "heatmapgl"
                      }
                    ],
                    "histogram": [
                      {
                        "marker": {
                          "pattern": {
                            "fillmode": "overlay",
                            "size": 10,
                            "solidity": 0.2
                          }
                        },
                        "type": "histogram"
                      }
                    ],
                    "histogram2d": [
                      {
                        "colorbar": {
                          "outlinewidth": 0,
                          "ticks": ""
                        },
                        "colorscale": [
                          [
                            0,
                            "#0d0887"
                          ],
                          [
                            0.1111111111111111,
                            "#46039f"
                          ],
                          [
                            0.2222222222222222,
                            "#7201a8"
                          ],
                          [
                            0.3333333333333333,
                            "#9c179e"
                          ],
                          [
                            0.4444444444444444,
                            "#bd3786"
                          ],
                          [
                            0.5555555555555556,
                            "#d8576b"
                          ],
                          [
                            0.6666666666666666,
                            "#ed7953"
                          ],
                          [
                            0.7777777777777778,
                            "#fb9f3a"
                          ],
                          [
                            0.8888888888888888,
                            "#fdca26"
                          ],
                          [
                            1,
                            "#f0f921"
                          ]
                        ],
                        "type": "histogram2d"
                      }
                    ],
                    "histogram2dcontour": [
                      {
                        "colorbar": {
                          "outlinewidth": 0,
                          "ticks": ""
                        },
                        "colorscale": [
                          [
                            0,
                            "#0d0887"
                          ],
                          [
                            0.1111111111111111,
                            "#46039f"
                          ],
                          [
                            0.2222222222222222,
                            "#7201a8"
                          ],
                          [
                            0.3333333333333333,
                            "#9c179e"
                          ],
                          [
                            0.4444444444444444,
                            "#bd3786"
                          ],
                          [
                            0.5555555555555556,
                            "#d8576b"
                          ],
                          [
                            0.6666666666666666,
                            "#ed7953"
                          ],
                          [
                            0.7777777777777778,
                            "#fb9f3a"
                          ],
                          [
                            0.8888888888888888,
                            "#fdca26"
                          ],
                          [
                            1,
                            "#f0f921"
                          ]
                        ],
                        "type": "histogram2dcontour"
                      }
                    ],
                    "mesh3d": [
                      {
                        "colorbar": {
                          "outlinewidth": 0,
                          "ticks": ""
                        },
                        "type": "mesh3d"
                      }
                    ],
                    "parcoords": [
                      {
                        "line": {
                          "colorbar": {
                            "outlinewidth": 0,
                            "ticks": ""
                          }
                        },
                        "type": "parcoords"
                      }
                    ],
                    "pie": [
                      {
                        "automargin": true,
                        "type": "pie"
                      }
                    ],
                    "scatter": [
                      {
                        "fillpattern": {
                          "fillmode": "overlay",
                          "size": 10,
                          "solidity": 0.2
                        },
                        "type": "scatter"
                      }
                    ],
                    "scatter3d": [
                      {
                        "line": {
                          "colorbar": {
                            "outlinewidth": 0,
                            "ticks": ""
                          }
                        },
                        "marker": {
                          "colorbar": {
                            "outlinewidth": 0,
                            "ticks": ""
                          }
                        },
                        "type": "scatter3d"
                      }
                    ],
                    "scattercarpet": [
                      {
                        "marker": {
                          "colorbar": {
                            "outlinewidth": 0,
                            "ticks": ""
                          }
                        },
                        "type": "scattercarpet"
                      }
                    ],
                    "scattergeo": [
                      {
                        "marker": {
                          "colorbar": {
                            "outlinewidth": 0,
                            "ticks": ""
                          }
                        },
                        "type": "scattergeo"
                      }
                    ],
                    "scattergl": [
                      {
                        "marker": {
                          "colorbar": {
                            "outlinewidth": 0,
                            "ticks": ""
                          }
                        },
                        "type": "scattergl"
                      }
                    ],
                    "scattermapbox": [
                      {
                        "marker": {
                          "colorbar": {
                            "outlinewidth": 0,
                            "ticks": ""
                          }
                        },
                        "type": "scattermapbox"
                      }
                    ],
                    "scatterpolar": [
                      {
                        "marker": {
                          "colorbar": {
                            "outlinewidth": 0,
                            "ticks": ""
                          }
                        },
                        "type": "scatterpolar"
                      }
                    ],
                    "scatterpolargl": [
                      {
                        "marker": {
                          "colorbar": {
                            "outlinewidth": 0,
                            "ticks": ""
                          }
                        },
                        "type": "scatterpolargl"
                      }
                    ],
                    "scatterternary": [
                      {
                        "marker": {
                          "colorbar": {
                            "outlinewidth": 0,
                            "ticks": ""
                          }
                        },
                        "type": "scatterternary"
                      }
                    ],
                    "surface": [
                      {
                        "colorbar": {
                          "outlinewidth": 0,
                          "ticks": ""
                        },
                        "colorscale": [
                          [
                            0,
                            "#0d0887"
                          ],
                          [
                            0.1111111111111111,
                            "#46039f"
                          ],
                          [
                            0.2222222222222222,
                            "#7201a8"
                          ],
                          [
                            0.3333333333333333,
                            "#9c179e"
                          ],
                          [
                            0.4444444444444444,
                            "#bd3786"
                          ],
                          [
                            0.5555555555555556,
                            "#d8576b"
                          ],
                          [
                            0.6666666666666666,
                            "#ed7953"
                          ],
                          [
                            0.7777777777777778,
                            "#fb9f3a"
                          ],
                          [
                            0.8888888888888888,
                            "#fdca26"
                          ],
                          [
                            1,
                            "#f0f921"
                          ]
                        ],
                        "type": "surface"
                      }
                    ],
                    "table": [
                      {
                        "cells": {
                          "fill": {
                            "color": "#EBF0F8"
                          },
                          "line": {
                            "color": "white"
                          }
                        },
                        "header": {
                          "fill": {
                            "color": "#C8D4E3"
                          },
                          "line": {
                            "color": "white"
                          }
                        },
                        "type": "table"
                      }
                    ]
                  },
                  "layout": {
                    "annotationdefaults": {
                      "arrowcolor": "#2a3f5f",
                      "arrowhead": 0,
                      "arrowwidth": 1
                    },
                    "autotypenumbers": "strict",
                    "coloraxis": {
                      "colorbar": {
                        "outlinewidth": 0,
                        "ticks": ""
                      }
                    },
                    "colorscale": {
                      "diverging": [
                        [
                          0,
                          "#8e0152"
                        ],
                        [
                          0.1,
                          "#c51b7d"
                        ],
                        [
                          0.2,
                          "#de77ae"
                        ],
                        [
                          0.3,
                          "#f1b6da"
                        ],
                        [
                          0.4,
                          "#fde0ef"
                        ],
                        [
                          0.5,
                          "#f7f7f7"
                        ],
                        [
                          0.6,
                          "#e6f5d0"
                        ],
                        [
                          0.7,
                          "#b8e186"
                        ],
                        [
                          0.8,
                          "#7fbc41"
                        ],
                        [
                          0.9,
                          "#4d9221"
                        ],
                        [
                          1,
                          "#276419"
                        ]
                      ],
                      "sequential": [
                        [
                          0,
                          "#0d0887"
                        ],
                        [
                          0.1111111111111111,
                          "#46039f"
                        ],
                        [
                          0.2222222222222222,
                          "#7201a8"
                        ],
                        [
                          0.3333333333333333,
                          "#9c179e"
                        ],
                        [
                          0.4444444444444444,
                          "#bd3786"
                        ],
                        [
                          0.5555555555555556,
                          "#d8576b"
                        ],
                        [
                          0.6666666666666666,
                          "#ed7953"
                        ],
                        [
                          0.7777777777777778,
                          "#fb9f3a"
                        ],
                        [
                          0.8888888888888888,
                          "#fdca26"
                        ],
                        [
                          1,
                          "#f0f921"
                        ]
                      ],
                      "sequentialminus": [
                        [
                          0,
                          "#0d0887"
                        ],
                        [
                          0.1111111111111111,
                          "#46039f"
                        ],
                        [
                          0.2222222222222222,
                          "#7201a8"
                        ],
                        [
                          0.3333333333333333,
                          "#9c179e"
                        ],
                        [
                          0.4444444444444444,
                          "#bd3786"
                        ],
                        [
                          0.5555555555555556,
                          "#d8576b"
                        ],
                        [
                          0.6666666666666666,
                          "#ed7953"
                        ],
                        [
                          0.7777777777777778,
                          "#fb9f3a"
                        ],
                        [
                          0.8888888888888888,
                          "#fdca26"
                        ],
                        [
                          1,
                          "#f0f921"
                        ]
                      ]
                    },
                    "colorway": [
                      "#636efa",
                      "#EF553B",
                      "#00cc96",
                      "#ab63fa",
                      "#FFA15A",
                      "#19d3f3",
                      "#FF6692",
                      "#B6E880",
                      "#FF97FF",
                      "#FECB52"
                    ],
                    "font": {
                      "color": "#2a3f5f"
                    },
                    "geo": {
                      "bgcolor": "white",
                      "lakecolor": "white",
                      "landcolor": "#E5ECF6",
                      "showlakes": true,
                      "showland": true,
                      "subunitcolor": "white"
                    },
                    "hoverlabel": {
                      "align": "left"
                    },
                    "hovermode": "closest",
                    "mapbox": {
                      "style": "light"
                    },
                    "paper_bgcolor": "white",
                    "plot_bgcolor": "#E5ECF6",
                    "polar": {
                      "angularaxis": {
                        "gridcolor": "white",
                        "linecolor": "white",
                        "ticks": ""
                      },
                      "bgcolor": "#E5ECF6",
                      "radialaxis": {
                        "gridcolor": "white",
                        "linecolor": "white",
                        "ticks": ""
                      }
                    },
                    "scene": {
                      "xaxis": {
                        "backgroundcolor": "#E5ECF6",
                        "gridcolor": "white",
                        "gridwidth": 2,
                        "linecolor": "white",
                        "showbackground": true,
                        "ticks": "",
                        "zerolinecolor": "white"
                      },
                      "yaxis": {
                        "backgroundcolor": "#E5ECF6",
                        "gridcolor": "white",
                        "gridwidth": 2,
                        "linecolor": "white",
                        "showbackground": true,
                        "ticks": "",
                        "zerolinecolor": "white"
                      },
                      "zaxis": {
                        "backgroundcolor": "#E5ECF6",
                        "gridcolor": "white",
                        "gridwidth": 2,
                        "linecolor": "white",
                        "showbackground": true,
                        "ticks": "",
                        "zerolinecolor": "white"
                      }
                    },
                    "shapedefaults": {
                      "line": {
                        "color": "#2a3f5f"
                      }
                    },
                    "ternary": {
                      "aaxis": {
                        "gridcolor": "white",
                        "linecolor": "white",
                        "ticks": ""
                      },
                      "baxis": {
                        "gridcolor": "white",
                        "linecolor": "white",
                        "ticks": ""
                      },
                      "bgcolor": "#E5ECF6",
                      "caxis": {
                        "gridcolor": "white",
                        "linecolor": "white",
                        "ticks": ""
                      }
                    },
                    "title": {
                      "x": 0.05
                    },
                    "xaxis": {
                      "automargin": true,
                      "gridcolor": "white",
                      "linecolor": "white",
                      "ticks": "",
                      "title": {
                        "standoff": 15
                      },
                      "zerolinecolor": "white",
                      "zerolinewidth": 2
                    },
                    "yaxis": {
                      "automargin": true,
                      "gridcolor": "white",
                      "linecolor": "white",
                      "ticks": "",
                      "title": {
                        "standoff": 15
                      },
                      "zerolinecolor": "white",
                      "zerolinewidth": 2
                    }
                  }
                },
                "title": {
                  "text": "Top 10 Body Mobil Terlaris",
                  "x": 0.5
                },
                "xaxis": {
                  "anchor": "y",
                  "categoryarray": [
                    "Sedan",
                    "SUV",
                    "Minivan",
                    "Hatchback",
                    "Wagon",
                    "Coupe",
                    "Unknown",
                    "Crew Cab",
                    "Convertible",
                    "SuperCrew"
                  ],
                  "categoryorder": "array",
                  "domain": [
                    0,
                    1
                  ],
                  "title": {
                    "text": "Body Mobil"
                  }
                },
                "yaxis": {
                  "anchor": "x",
                  "domain": [
                    0,
                    1
                  ],
                  "title": {
                    "text": "Jumlah"
                  }
                }
              }
            }
          },
          "metadata": {},
          "output_type": "display_data"
        }
      ],
      "source": [
        "body_counts = df['body'].value_counts().head(10).reset_index()\n",
        "body_counts.columns = ['body', 'count']\n",
        "\n",
        "# Plot bar chart\n",
        "fig = px.bar(body_counts, x='body', y='count',\n",
        "             title='Top 10 Body Mobil Terlaris',\n",
        "             color='body',\n",
        "             color_discrete_sequence=px.colors.qualitative.Set3,\n",
        "             text='count')\n",
        "\n",
        "fig.update_layout(title_x=0.5,\n",
        "                  xaxis_title='Body Mobil',\n",
        "                  yaxis_title='Jumlah',\n",
        "                  showlegend=False)\n",
        "\n",
        "fig.update_traces(textposition='outside')\n",
        "fig.show()\n"
      ]
    },
    {
      "cell_type": "markdown",
      "id": "ad06f30e",
      "metadata": {},
      "source": [
        "Untuk datanya sudah dibetulkan, dan untuk body mobil paling laku terjual adalah 'Sedan' dan 'SUV'."
      ]
    },
    {
      "cell_type": "code",
      "execution_count": 13,
      "id": "2afd1abc",
      "metadata": {},
      "outputs": [
        {
          "data": {
            "application/vnd.plotly.v1+json": {
              "config": {
                "plotlyServerURL": "https://plot.ly"
              },
              "data": [
                {
                  "alignmentgroup": "True",
                  "hovertemplate": "interior=%{x}<br>count=%{text}<extra></extra>",
                  "legendgroup": "black",
                  "marker": {
                    "color": "rgb(141,211,199)",
                    "pattern": {
                      "shape": ""
                    }
                  },
                  "name": "black",
                  "offsetgroup": "black",
                  "orientation": "v",
                  "showlegend": true,
                  "text": [
                    5282
                  ],
                  "textposition": "outside",
                  "type": "bar",
                  "x": [
                    "black"
                  ],
                  "xaxis": "x",
                  "y": [
                    5282
                  ],
                  "yaxis": "y"
                },
                {
                  "alignmentgroup": "True",
                  "hovertemplate": "interior=%{x}<br>count=%{text}<extra></extra>",
                  "legendgroup": "gray",
                  "marker": {
                    "color": "rgb(255,255,179)",
                    "pattern": {
                      "shape": ""
                    }
                  },
                  "name": "gray",
                  "offsetgroup": "gray",
                  "orientation": "v",
                  "showlegend": true,
                  "text": [
                    3791
                  ],
                  "textposition": "outside",
                  "type": "bar",
                  "x": [
                    "gray"
                  ],
                  "xaxis": "x",
                  "y": [
                    3791
                  ],
                  "yaxis": "y"
                },
                {
                  "alignmentgroup": "True",
                  "hovertemplate": "interior=%{x}<br>count=%{text}<extra></extra>",
                  "legendgroup": "beige",
                  "marker": {
                    "color": "rgb(190,186,218)",
                    "pattern": {
                      "shape": ""
                    }
                  },
                  "name": "beige",
                  "offsetgroup": "beige",
                  "orientation": "v",
                  "showlegend": true,
                  "text": [
                    1298
                  ],
                  "textposition": "outside",
                  "type": "bar",
                  "x": [
                    "beige"
                  ],
                  "xaxis": "x",
                  "y": [
                    1298
                  ],
                  "yaxis": "y"
                },
                {
                  "alignmentgroup": "True",
                  "hovertemplate": "interior=%{x}<br>count=%{text}<extra></extra>",
                  "legendgroup": "tan",
                  "marker": {
                    "color": "rgb(251,128,114)",
                    "pattern": {
                      "shape": ""
                    }
                  },
                  "name": "tan",
                  "offsetgroup": "tan",
                  "orientation": "v",
                  "showlegend": true,
                  "text": [
                    969
                  ],
                  "textposition": "outside",
                  "type": "bar",
                  "x": [
                    "tan"
                  ],
                  "xaxis": "x",
                  "y": [
                    969
                  ],
                  "yaxis": "y"
                },
                {
                  "alignmentgroup": "True",
                  "hovertemplate": "interior=%{x}<br>count=%{text}<extra></extra>",
                  "legendgroup": "—",
                  "marker": {
                    "color": "rgb(128,177,211)",
                    "pattern": {
                      "shape": ""
                    }
                  },
                  "name": "—",
                  "offsetgroup": "—",
                  "orientation": "v",
                  "showlegend": true,
                  "text": [
                    354
                  ],
                  "textposition": "outside",
                  "type": "bar",
                  "x": [
                    "—"
                  ],
                  "xaxis": "x",
                  "y": [
                    354
                  ],
                  "yaxis": "y"
                },
                {
                  "alignmentgroup": "True",
                  "hovertemplate": "interior=%{x}<br>count=%{text}<extra></extra>",
                  "legendgroup": "brown",
                  "marker": {
                    "color": "rgb(253,180,98)",
                    "pattern": {
                      "shape": ""
                    }
                  },
                  "name": "brown",
                  "offsetgroup": "brown",
                  "orientation": "v",
                  "showlegend": true,
                  "text": [
                    190
                  ],
                  "textposition": "outside",
                  "type": "bar",
                  "x": [
                    "brown"
                  ],
                  "xaxis": "x",
                  "y": [
                    190
                  ],
                  "yaxis": "y"
                },
                {
                  "alignmentgroup": "True",
                  "hovertemplate": "interior=%{x}<br>count=%{text}<extra></extra>",
                  "legendgroup": "red",
                  "marker": {
                    "color": "rgb(179,222,105)",
                    "pattern": {
                      "shape": ""
                    }
                  },
                  "name": "red",
                  "offsetgroup": "red",
                  "orientation": "v",
                  "showlegend": true,
                  "text": [
                    30
                  ],
                  "textposition": "outside",
                  "type": "bar",
                  "x": [
                    "red"
                  ],
                  "xaxis": "x",
                  "y": [
                    30
                  ],
                  "yaxis": "y"
                },
                {
                  "alignmentgroup": "True",
                  "hovertemplate": "interior=%{x}<br>count=%{text}<extra></extra>",
                  "legendgroup": "blue",
                  "marker": {
                    "color": "rgb(252,205,229)",
                    "pattern": {
                      "shape": ""
                    }
                  },
                  "name": "blue",
                  "offsetgroup": "blue",
                  "orientation": "v",
                  "showlegend": true,
                  "text": [
                    20
                  ],
                  "textposition": "outside",
                  "type": "bar",
                  "x": [
                    "blue"
                  ],
                  "xaxis": "x",
                  "y": [
                    20
                  ],
                  "yaxis": "y"
                },
                {
                  "alignmentgroup": "True",
                  "hovertemplate": "interior=%{x}<br>count=%{text}<extra></extra>",
                  "legendgroup": "silver",
                  "marker": {
                    "color": "rgb(217,217,217)",
                    "pattern": {
                      "shape": ""
                    }
                  },
                  "name": "silver",
                  "offsetgroup": "silver",
                  "orientation": "v",
                  "showlegend": true,
                  "text": [
                    18
                  ],
                  "textposition": "outside",
                  "type": "bar",
                  "x": [
                    "silver"
                  ],
                  "xaxis": "x",
                  "y": [
                    18
                  ],
                  "yaxis": "y"
                },
                {
                  "alignmentgroup": "True",
                  "hovertemplate": "interior=%{x}<br>count=%{text}<extra></extra>",
                  "legendgroup": "off-white",
                  "marker": {
                    "color": "rgb(188,128,189)",
                    "pattern": {
                      "shape": ""
                    }
                  },
                  "name": "off-white",
                  "offsetgroup": "off-white",
                  "orientation": "v",
                  "showlegend": true,
                  "text": [
                    11
                  ],
                  "textposition": "outside",
                  "type": "bar",
                  "x": [
                    "off-white"
                  ],
                  "xaxis": "x",
                  "y": [
                    11
                  ],
                  "yaxis": "y"
                }
              ],
              "layout": {
                "barmode": "relative",
                "legend": {
                  "title": {
                    "text": "interior"
                  },
                  "tracegroupgap": 0
                },
                "showlegend": false,
                "template": {
                  "data": {
                    "bar": [
                      {
                        "error_x": {
                          "color": "#2a3f5f"
                        },
                        "error_y": {
                          "color": "#2a3f5f"
                        },
                        "marker": {
                          "line": {
                            "color": "#E5ECF6",
                            "width": 0.5
                          },
                          "pattern": {
                            "fillmode": "overlay",
                            "size": 10,
                            "solidity": 0.2
                          }
                        },
                        "type": "bar"
                      }
                    ],
                    "barpolar": [
                      {
                        "marker": {
                          "line": {
                            "color": "#E5ECF6",
                            "width": 0.5
                          },
                          "pattern": {
                            "fillmode": "overlay",
                            "size": 10,
                            "solidity": 0.2
                          }
                        },
                        "type": "barpolar"
                      }
                    ],
                    "carpet": [
                      {
                        "aaxis": {
                          "endlinecolor": "#2a3f5f",
                          "gridcolor": "white",
                          "linecolor": "white",
                          "minorgridcolor": "white",
                          "startlinecolor": "#2a3f5f"
                        },
                        "baxis": {
                          "endlinecolor": "#2a3f5f",
                          "gridcolor": "white",
                          "linecolor": "white",
                          "minorgridcolor": "white",
                          "startlinecolor": "#2a3f5f"
                        },
                        "type": "carpet"
                      }
                    ],
                    "choropleth": [
                      {
                        "colorbar": {
                          "outlinewidth": 0,
                          "ticks": ""
                        },
                        "type": "choropleth"
                      }
                    ],
                    "contour": [
                      {
                        "colorbar": {
                          "outlinewidth": 0,
                          "ticks": ""
                        },
                        "colorscale": [
                          [
                            0,
                            "#0d0887"
                          ],
                          [
                            0.1111111111111111,
                            "#46039f"
                          ],
                          [
                            0.2222222222222222,
                            "#7201a8"
                          ],
                          [
                            0.3333333333333333,
                            "#9c179e"
                          ],
                          [
                            0.4444444444444444,
                            "#bd3786"
                          ],
                          [
                            0.5555555555555556,
                            "#d8576b"
                          ],
                          [
                            0.6666666666666666,
                            "#ed7953"
                          ],
                          [
                            0.7777777777777778,
                            "#fb9f3a"
                          ],
                          [
                            0.8888888888888888,
                            "#fdca26"
                          ],
                          [
                            1,
                            "#f0f921"
                          ]
                        ],
                        "type": "contour"
                      }
                    ],
                    "contourcarpet": [
                      {
                        "colorbar": {
                          "outlinewidth": 0,
                          "ticks": ""
                        },
                        "type": "contourcarpet"
                      }
                    ],
                    "heatmap": [
                      {
                        "colorbar": {
                          "outlinewidth": 0,
                          "ticks": ""
                        },
                        "colorscale": [
                          [
                            0,
                            "#0d0887"
                          ],
                          [
                            0.1111111111111111,
                            "#46039f"
                          ],
                          [
                            0.2222222222222222,
                            "#7201a8"
                          ],
                          [
                            0.3333333333333333,
                            "#9c179e"
                          ],
                          [
                            0.4444444444444444,
                            "#bd3786"
                          ],
                          [
                            0.5555555555555556,
                            "#d8576b"
                          ],
                          [
                            0.6666666666666666,
                            "#ed7953"
                          ],
                          [
                            0.7777777777777778,
                            "#fb9f3a"
                          ],
                          [
                            0.8888888888888888,
                            "#fdca26"
                          ],
                          [
                            1,
                            "#f0f921"
                          ]
                        ],
                        "type": "heatmap"
                      }
                    ],
                    "heatmapgl": [
                      {
                        "colorbar": {
                          "outlinewidth": 0,
                          "ticks": ""
                        },
                        "colorscale": [
                          [
                            0,
                            "#0d0887"
                          ],
                          [
                            0.1111111111111111,
                            "#46039f"
                          ],
                          [
                            0.2222222222222222,
                            "#7201a8"
                          ],
                          [
                            0.3333333333333333,
                            "#9c179e"
                          ],
                          [
                            0.4444444444444444,
                            "#bd3786"
                          ],
                          [
                            0.5555555555555556,
                            "#d8576b"
                          ],
                          [
                            0.6666666666666666,
                            "#ed7953"
                          ],
                          [
                            0.7777777777777778,
                            "#fb9f3a"
                          ],
                          [
                            0.8888888888888888,
                            "#fdca26"
                          ],
                          [
                            1,
                            "#f0f921"
                          ]
                        ],
                        "type": "heatmapgl"
                      }
                    ],
                    "histogram": [
                      {
                        "marker": {
                          "pattern": {
                            "fillmode": "overlay",
                            "size": 10,
                            "solidity": 0.2
                          }
                        },
                        "type": "histogram"
                      }
                    ],
                    "histogram2d": [
                      {
                        "colorbar": {
                          "outlinewidth": 0,
                          "ticks": ""
                        },
                        "colorscale": [
                          [
                            0,
                            "#0d0887"
                          ],
                          [
                            0.1111111111111111,
                            "#46039f"
                          ],
                          [
                            0.2222222222222222,
                            "#7201a8"
                          ],
                          [
                            0.3333333333333333,
                            "#9c179e"
                          ],
                          [
                            0.4444444444444444,
                            "#bd3786"
                          ],
                          [
                            0.5555555555555556,
                            "#d8576b"
                          ],
                          [
                            0.6666666666666666,
                            "#ed7953"
                          ],
                          [
                            0.7777777777777778,
                            "#fb9f3a"
                          ],
                          [
                            0.8888888888888888,
                            "#fdca26"
                          ],
                          [
                            1,
                            "#f0f921"
                          ]
                        ],
                        "type": "histogram2d"
                      }
                    ],
                    "histogram2dcontour": [
                      {
                        "colorbar": {
                          "outlinewidth": 0,
                          "ticks": ""
                        },
                        "colorscale": [
                          [
                            0,
                            "#0d0887"
                          ],
                          [
                            0.1111111111111111,
                            "#46039f"
                          ],
                          [
                            0.2222222222222222,
                            "#7201a8"
                          ],
                          [
                            0.3333333333333333,
                            "#9c179e"
                          ],
                          [
                            0.4444444444444444,
                            "#bd3786"
                          ],
                          [
                            0.5555555555555556,
                            "#d8576b"
                          ],
                          [
                            0.6666666666666666,
                            "#ed7953"
                          ],
                          [
                            0.7777777777777778,
                            "#fb9f3a"
                          ],
                          [
                            0.8888888888888888,
                            "#fdca26"
                          ],
                          [
                            1,
                            "#f0f921"
                          ]
                        ],
                        "type": "histogram2dcontour"
                      }
                    ],
                    "mesh3d": [
                      {
                        "colorbar": {
                          "outlinewidth": 0,
                          "ticks": ""
                        },
                        "type": "mesh3d"
                      }
                    ],
                    "parcoords": [
                      {
                        "line": {
                          "colorbar": {
                            "outlinewidth": 0,
                            "ticks": ""
                          }
                        },
                        "type": "parcoords"
                      }
                    ],
                    "pie": [
                      {
                        "automargin": true,
                        "type": "pie"
                      }
                    ],
                    "scatter": [
                      {
                        "fillpattern": {
                          "fillmode": "overlay",
                          "size": 10,
                          "solidity": 0.2
                        },
                        "type": "scatter"
                      }
                    ],
                    "scatter3d": [
                      {
                        "line": {
                          "colorbar": {
                            "outlinewidth": 0,
                            "ticks": ""
                          }
                        },
                        "marker": {
                          "colorbar": {
                            "outlinewidth": 0,
                            "ticks": ""
                          }
                        },
                        "type": "scatter3d"
                      }
                    ],
                    "scattercarpet": [
                      {
                        "marker": {
                          "colorbar": {
                            "outlinewidth": 0,
                            "ticks": ""
                          }
                        },
                        "type": "scattercarpet"
                      }
                    ],
                    "scattergeo": [
                      {
                        "marker": {
                          "colorbar": {
                            "outlinewidth": 0,
                            "ticks": ""
                          }
                        },
                        "type": "scattergeo"
                      }
                    ],
                    "scattergl": [
                      {
                        "marker": {
                          "colorbar": {
                            "outlinewidth": 0,
                            "ticks": ""
                          }
                        },
                        "type": "scattergl"
                      }
                    ],
                    "scattermapbox": [
                      {
                        "marker": {
                          "colorbar": {
                            "outlinewidth": 0,
                            "ticks": ""
                          }
                        },
                        "type": "scattermapbox"
                      }
                    ],
                    "scatterpolar": [
                      {
                        "marker": {
                          "colorbar": {
                            "outlinewidth": 0,
                            "ticks": ""
                          }
                        },
                        "type": "scatterpolar"
                      }
                    ],
                    "scatterpolargl": [
                      {
                        "marker": {
                          "colorbar": {
                            "outlinewidth": 0,
                            "ticks": ""
                          }
                        },
                        "type": "scatterpolargl"
                      }
                    ],
                    "scatterternary": [
                      {
                        "marker": {
                          "colorbar": {
                            "outlinewidth": 0,
                            "ticks": ""
                          }
                        },
                        "type": "scatterternary"
                      }
                    ],
                    "surface": [
                      {
                        "colorbar": {
                          "outlinewidth": 0,
                          "ticks": ""
                        },
                        "colorscale": [
                          [
                            0,
                            "#0d0887"
                          ],
                          [
                            0.1111111111111111,
                            "#46039f"
                          ],
                          [
                            0.2222222222222222,
                            "#7201a8"
                          ],
                          [
                            0.3333333333333333,
                            "#9c179e"
                          ],
                          [
                            0.4444444444444444,
                            "#bd3786"
                          ],
                          [
                            0.5555555555555556,
                            "#d8576b"
                          ],
                          [
                            0.6666666666666666,
                            "#ed7953"
                          ],
                          [
                            0.7777777777777778,
                            "#fb9f3a"
                          ],
                          [
                            0.8888888888888888,
                            "#fdca26"
                          ],
                          [
                            1,
                            "#f0f921"
                          ]
                        ],
                        "type": "surface"
                      }
                    ],
                    "table": [
                      {
                        "cells": {
                          "fill": {
                            "color": "#EBF0F8"
                          },
                          "line": {
                            "color": "white"
                          }
                        },
                        "header": {
                          "fill": {
                            "color": "#C8D4E3"
                          },
                          "line": {
                            "color": "white"
                          }
                        },
                        "type": "table"
                      }
                    ]
                  },
                  "layout": {
                    "annotationdefaults": {
                      "arrowcolor": "#2a3f5f",
                      "arrowhead": 0,
                      "arrowwidth": 1
                    },
                    "autotypenumbers": "strict",
                    "coloraxis": {
                      "colorbar": {
                        "outlinewidth": 0,
                        "ticks": ""
                      }
                    },
                    "colorscale": {
                      "diverging": [
                        [
                          0,
                          "#8e0152"
                        ],
                        [
                          0.1,
                          "#c51b7d"
                        ],
                        [
                          0.2,
                          "#de77ae"
                        ],
                        [
                          0.3,
                          "#f1b6da"
                        ],
                        [
                          0.4,
                          "#fde0ef"
                        ],
                        [
                          0.5,
                          "#f7f7f7"
                        ],
                        [
                          0.6,
                          "#e6f5d0"
                        ],
                        [
                          0.7,
                          "#b8e186"
                        ],
                        [
                          0.8,
                          "#7fbc41"
                        ],
                        [
                          0.9,
                          "#4d9221"
                        ],
                        [
                          1,
                          "#276419"
                        ]
                      ],
                      "sequential": [
                        [
                          0,
                          "#0d0887"
                        ],
                        [
                          0.1111111111111111,
                          "#46039f"
                        ],
                        [
                          0.2222222222222222,
                          "#7201a8"
                        ],
                        [
                          0.3333333333333333,
                          "#9c179e"
                        ],
                        [
                          0.4444444444444444,
                          "#bd3786"
                        ],
                        [
                          0.5555555555555556,
                          "#d8576b"
                        ],
                        [
                          0.6666666666666666,
                          "#ed7953"
                        ],
                        [
                          0.7777777777777778,
                          "#fb9f3a"
                        ],
                        [
                          0.8888888888888888,
                          "#fdca26"
                        ],
                        [
                          1,
                          "#f0f921"
                        ]
                      ],
                      "sequentialminus": [
                        [
                          0,
                          "#0d0887"
                        ],
                        [
                          0.1111111111111111,
                          "#46039f"
                        ],
                        [
                          0.2222222222222222,
                          "#7201a8"
                        ],
                        [
                          0.3333333333333333,
                          "#9c179e"
                        ],
                        [
                          0.4444444444444444,
                          "#bd3786"
                        ],
                        [
                          0.5555555555555556,
                          "#d8576b"
                        ],
                        [
                          0.6666666666666666,
                          "#ed7953"
                        ],
                        [
                          0.7777777777777778,
                          "#fb9f3a"
                        ],
                        [
                          0.8888888888888888,
                          "#fdca26"
                        ],
                        [
                          1,
                          "#f0f921"
                        ]
                      ]
                    },
                    "colorway": [
                      "#636efa",
                      "#EF553B",
                      "#00cc96",
                      "#ab63fa",
                      "#FFA15A",
                      "#19d3f3",
                      "#FF6692",
                      "#B6E880",
                      "#FF97FF",
                      "#FECB52"
                    ],
                    "font": {
                      "color": "#2a3f5f"
                    },
                    "geo": {
                      "bgcolor": "white",
                      "lakecolor": "white",
                      "landcolor": "#E5ECF6",
                      "showlakes": true,
                      "showland": true,
                      "subunitcolor": "white"
                    },
                    "hoverlabel": {
                      "align": "left"
                    },
                    "hovermode": "closest",
                    "mapbox": {
                      "style": "light"
                    },
                    "paper_bgcolor": "white",
                    "plot_bgcolor": "#E5ECF6",
                    "polar": {
                      "angularaxis": {
                        "gridcolor": "white",
                        "linecolor": "white",
                        "ticks": ""
                      },
                      "bgcolor": "#E5ECF6",
                      "radialaxis": {
                        "gridcolor": "white",
                        "linecolor": "white",
                        "ticks": ""
                      }
                    },
                    "scene": {
                      "xaxis": {
                        "backgroundcolor": "#E5ECF6",
                        "gridcolor": "white",
                        "gridwidth": 2,
                        "linecolor": "white",
                        "showbackground": true,
                        "ticks": "",
                        "zerolinecolor": "white"
                      },
                      "yaxis": {
                        "backgroundcolor": "#E5ECF6",
                        "gridcolor": "white",
                        "gridwidth": 2,
                        "linecolor": "white",
                        "showbackground": true,
                        "ticks": "",
                        "zerolinecolor": "white"
                      },
                      "zaxis": {
                        "backgroundcolor": "#E5ECF6",
                        "gridcolor": "white",
                        "gridwidth": 2,
                        "linecolor": "white",
                        "showbackground": true,
                        "ticks": "",
                        "zerolinecolor": "white"
                      }
                    },
                    "shapedefaults": {
                      "line": {
                        "color": "#2a3f5f"
                      }
                    },
                    "ternary": {
                      "aaxis": {
                        "gridcolor": "white",
                        "linecolor": "white",
                        "ticks": ""
                      },
                      "baxis": {
                        "gridcolor": "white",
                        "linecolor": "white",
                        "ticks": ""
                      },
                      "bgcolor": "#E5ECF6",
                      "caxis": {
                        "gridcolor": "white",
                        "linecolor": "white",
                        "ticks": ""
                      }
                    },
                    "title": {
                      "x": 0.05
                    },
                    "xaxis": {
                      "automargin": true,
                      "gridcolor": "white",
                      "linecolor": "white",
                      "ticks": "",
                      "title": {
                        "standoff": 15
                      },
                      "zerolinecolor": "white",
                      "zerolinewidth": 2
                    },
                    "yaxis": {
                      "automargin": true,
                      "gridcolor": "white",
                      "linecolor": "white",
                      "ticks": "",
                      "title": {
                        "standoff": 15
                      },
                      "zerolinecolor": "white",
                      "zerolinewidth": 2
                    }
                  }
                },
                "title": {
                  "text": "Top 10 Interior Mobil Terlaris",
                  "x": 0.5
                },
                "xaxis": {
                  "anchor": "y",
                  "categoryarray": [
                    "black",
                    "gray",
                    "beige",
                    "tan",
                    "—",
                    "brown",
                    "red",
                    "blue",
                    "silver",
                    "off-white"
                  ],
                  "categoryorder": "array",
                  "domain": [
                    0,
                    1
                  ],
                  "title": {
                    "text": "Interior Mobil"
                  }
                },
                "yaxis": {
                  "anchor": "x",
                  "domain": [
                    0,
                    1
                  ],
                  "title": {
                    "text": "Jumlah"
                  }
                }
              }
            }
          },
          "metadata": {},
          "output_type": "display_data"
        }
      ],
      "source": [
        "interior_counts = df['interior'].value_counts().head(10).reset_index()\n",
        "interior_counts.columns = ['interior', 'count']\n",
        "\n",
        "# Plot bar chart\n",
        "fig = px.bar(interior_counts, x='interior', y='count',\n",
        "             title='Top 10 Interior Mobil Terlaris',\n",
        "             color='interior',\n",
        "             color_discrete_sequence=px.colors.qualitative.Set3,\n",
        "             text='count')\n",
        "\n",
        "fig.update_layout(title_x=0.5,\n",
        "                  xaxis_title='Interior Mobil',\n",
        "                  yaxis_title='Jumlah',\n",
        "                  showlegend=False)\n",
        "\n",
        "fig.update_traces(textposition='outside')\n",
        "fig.show()\n"
      ]
    },
    {
      "cell_type": "markdown",
      "id": "548ce2ef",
      "metadata": {},
      "source": [
        "Untuk interior mobil paling laris adalah berwarna hitam dan abu-abu."
      ]
    },
    {
      "cell_type": "markdown",
      "id": "75eef0c0",
      "metadata": {},
      "source": [
        "___\n",
        "### 5.6 Faktor apa saja yang sangat mempengaruhi harga jual mobil?"
      ]
    },
    {
      "cell_type": "markdown",
      "id": "ad096898",
      "metadata": {},
      "source": [
        "Untuk memahami faktor-faktor yang paling berpengaruh terhadap harga jual (sellingprice), saya melakukan analisis korelasi terhadap seluruh variabel dalam dataset.\n",
        "- Korelasi Pearson digunakan untuk variabel numerikal, karena mengukur hubungan linier antara dua variabel kontinu.\n",
        "- Korelasi Chi-Square digunakan untuk variabel kategorikal, karena menguji apakah distribusi harga jual berbeda secara signifikan antar kategori"
      ]
    },
    {
      "cell_type": "code",
      "execution_count": null,
      "id": "3640f721",
      "metadata": {},
      "outputs": [
        {
          "name": "stdout",
          "output_type": "stream",
          "text": [
            "Korelasi Pearson terhadap Harga Jual:\n",
            "year         0.584368\n",
            "condition    0.306185\n",
            "odometer    -0.578274\n",
            "dtype: float64\n"
          ]
        }
      ],
      "source": [
        "numerical_cols = df.select_dtypes(include=['int64', 'float64']).columns.drop(['marketprice', 'sellingprice'])\n",
        "\n",
        "pearson_corr = df[numerical_cols].corrwith(df['sellingprice']).sort_values(ascending=False)\n",
        "\n",
        "print(\"Korelasi Pearson terhadap Harga Jual Mobil Bekas:\")\n",
        "print(pearson_corr)"
      ]
    },
    {
      "cell_type": "markdown",
      "id": "12300fca",
      "metadata": {},
      "source": [
        "Untuk variabel numerikal, yang memiliki korelasi terbesar adalah tahun pembuatan mobil dan odometer, dimana tahun mobil memiliki korelasi sebesar 0.585, yang artinya semakin baru tahun pembuatan mobil, maka akan semakin tinggi pula harga jualnya karena belum banyak terpengaruh depresiasi harga.\n",
        "\n",
        "Begitupula dengan variabel odometer, dimana memiliki korelasi negatif sebesar -0.578, yang artinya semakin besar odometer mobil maka akan semakin rendah harga jualnya.\n",
        "\n",
        "Untuk kondisi mobil tetap memiliki pengaruh walau tidak signifikan, yaitu semakin bagus kondisi mobil maka akan semakin tinggi pula harga jualnya."
      ]
    },
    {
      "cell_type": "code",
      "execution_count": 39,
      "id": "9c4a97b7",
      "metadata": {},
      "outputs": [
        {
          "name": "stdout",
          "output_type": "stream",
          "text": [
            "Hasil Uji Chi-Square terhadap sellingprice:\n",
            "        feature     chi2_stat        p_value\n",
            "5           vin  36000.000000   4.811734e-01\n",
            "9        seller  15419.587263   0.000000e+00\n",
            "1         model  10338.969754   0.000000e+00\n",
            "2          trim   8978.234757   0.000000e+00\n",
            "0          make   3172.473960   0.000000e+00\n",
            "3          body   2444.571095   0.000000e+00\n",
            "8      interior    952.018557  2.923594e-168\n",
            "7         color    694.467887  9.674517e-114\n",
            "4  transmission    135.251333   1.005962e-26\n",
            "6        branch      7.457665   5.895823e-01\n"
          ]
        }
      ],
      "source": [
        "categorical_cols = df.select_dtypes(include='object').columns\n",
        "\n",
        "# Buat dataframe untuk menyimpan hasil\n",
        "chi2_results = []\n",
        "\n",
        "for col in categorical_cols:\n",
        "    # Buat kontingensi antara kategori dan binned sellingprice\n",
        "    df['sale_bin'] = pd.qcut(df['sellingprice'], q=4, labels=False)\n",
        "    contingency_table = pd.crosstab(df[col], df['sale_bin'])\n",
        "    \n",
        "    # Hitung chi-square\n",
        "    chi2, p, dof, expected = chi2_contingency(contingency_table)\n",
        "    chi2_results.append({'feature': col, 'chi2_stat': chi2, 'p_value': p})\n",
        "\n",
        "# Konversi ke dataframe\n",
        "chi2_df = pd.DataFrame(chi2_results).sort_values(by='chi2_stat', ascending=False)\n",
        "\n",
        "# Tampilkan hasil\n",
        "print(\"Hasil Uji Chi-Square terhadap sellingprice:\")\n",
        "print(chi2_df)"
      ]
    },
    {
      "cell_type": "markdown",
      "id": "1e0a9f91",
      "metadata": {},
      "source": [
        "Variabel kategorikal yang paling mempengaruhi harga adalah 'seller', 'model', 'trim', 'make', 'body', 'interior', 'color' dan 'transmission'.\n",
        "\n",
        "Ini merupakan seluruh bagian yang ada pada kendaraan mobil, semuanya mempengaruhi besar harga karena semakin 'jarang' kombinasi bagian yang digunakan atau semakin 'unik' bagian pada kendaraan mobil, maka akan semakin sulit untuk terjual.\n",
        "\n",
        "Nomor VIN dan kantor cabang penjualan kendaraan sama sekali tidak mempengaruhi harga jual mobil. Sehingga untuk kedua variabel ini tidak akan digunakan dalam pembuatan model prediksi harga."
      ]
    },
    {
      "cell_type": "markdown",
      "id": "8f1644ac",
      "metadata": {
        "id": "8f1644ac"
      },
      "source": [
        "___\n",
        "## 6. Feature Engineering"
      ]
    },
    {
      "cell_type": "markdown",
      "id": "687418cb",
      "metadata": {
        "id": "687418cb"
      },
      "source": [
        "Sesi feature engineering adalah sesi dilakukannya proses pengolahan fitur-fitur yang akan digunakan dalam pemodelan, seperti penghapusan kolom, scaling data numerik, encoding data kategorikal, dan lain-lain.\n",
        "\n",
        "Untuk kolom yang dihapus adalah kolom 'vin' atau Nomor VIN kendaraan, dan kolom 'seller' atau kustomer pembeli, dimana kedua kolom ini tidak memiliki informasi yang penting dalam prediksi harga mobil. Kolom 'sellingprice' juga dihapus karena kita akan memprediksi harga pasar, bukan harga jual.\n",
        "\n",
        "Selain itu, akan dilakukan proses scaling dan encoding data fitur, yang berguna untuk menyamakan rasio nilai dari keseluruhan value kolom, sehingga hasil modelnya akan lebih baik, tidak bias, dan tidak menganggap data yang valuenya lebih besar adalah lebih penting terhadap model.\n",
        "\n",
        "Proses scaling data numerik dilakukan dengan metode \"Standar\" scaler.\n",
        "\n",
        "Metode Standard Scaler dilakukan untuk kolom numerik yang bersifat atau berdistribusi normal. Metode ini digunakan karena:\n",
        "1. Menggunakan mean dan standar deviasi untuk meratakan data sehingga memiliki mean = 0 dan standar deviasi = 1.\n",
        "2. Cocok untuk data yang berdistribusi Gaussian (polanya datanya mengikuti pola distribusi normal), karena mempertahankan distribusi asli tanpa perbedaan yang signifikan.\n",
        "3. Membantu algoritma Machine Learning bekerja optimal, terutama yang sensitif terhadap skala fitur seperti Regresi Linier, KNN, dan PCA.\n",
        "4. Tidak tahan terhadap outlier, karena nilai ekstrim dapat sangat mempengaruhi nilai mean dan standar deviasi.\n",
        "\n",
        "Untuk data variabel kategorikal, akan dilakukan proses encoding, yaitu:\n",
        "OneHotEncoding (Encoding ini digunakan untuk variabel kategorikal yang tidak memiliki order atau perbedaan urutan (misalnya: gender, warna. Kolom kategorikal akan dibuat ke kolom biner di mana setiap kategori memiliki nilai 0 atau 1.))\n",
        "\n",
        "Proses scaling dan encoding data akan disimpan dalam pipeline untuk mempermudah proses pengolahan dan pembuatan model prediksi, dimana akan dilakukan dalam sesi Model Training."
      ]
    },
    {
      "cell_type": "markdown",
      "id": "39921b66",
      "metadata": {},
      "source": [
        "___"
      ]
    },
    {
      "cell_type": "markdown",
      "id": "0d4e255e",
      "metadata": {
        "id": "0d4e255e"
      },
      "source": [
        "### 6.1 Drop Columns"
      ]
    },
    {
      "cell_type": "code",
      "execution_count": 49,
      "id": "e4de3efe",
      "metadata": {
        "colab": {
          "base_uri": "https://localhost:8080/",
          "height": 443
        },
        "id": "e4de3efe",
        "outputId": "68452d1d-f0c8-4fb7-cfb3-9e2118f6983e"
      },
      "outputs": [
        {
          "data": {
            "text/html": [
              "<div>\n",
              "<style scoped>\n",
              "    .dataframe tbody tr th:only-of-type {\n",
              "        vertical-align: middle;\n",
              "    }\n",
              "\n",
              "    .dataframe tbody tr th {\n",
              "        vertical-align: top;\n",
              "    }\n",
              "\n",
              "    .dataframe thead th {\n",
              "        text-align: right;\n",
              "    }\n",
              "</style>\n",
              "<table border=\"1\" class=\"dataframe\">\n",
              "  <thead>\n",
              "    <tr style=\"text-align: right;\">\n",
              "      <th></th>\n",
              "      <th>year</th>\n",
              "      <th>make</th>\n",
              "      <th>model</th>\n",
              "      <th>trim</th>\n",
              "      <th>body</th>\n",
              "      <th>transmission</th>\n",
              "      <th>condition</th>\n",
              "      <th>odometer</th>\n",
              "      <th>color</th>\n",
              "      <th>interior</th>\n",
              "      <th>marketprice</th>\n",
              "    </tr>\n",
              "  </thead>\n",
              "  <tbody>\n",
              "    <tr>\n",
              "      <th>0</th>\n",
              "      <td>2013</td>\n",
              "      <td>Hyundai</td>\n",
              "      <td>Elantra</td>\n",
              "      <td>GLS</td>\n",
              "      <td>sedan</td>\n",
              "      <td>automatic</td>\n",
              "      <td>48.0</td>\n",
              "      <td>33610.0</td>\n",
              "      <td>black</td>\n",
              "      <td>beige</td>\n",
              "      <td>227900000.0</td>\n",
              "    </tr>\n",
              "    <tr>\n",
              "      <th>1</th>\n",
              "      <td>2014</td>\n",
              "      <td>Jeep</td>\n",
              "      <td>Patriot</td>\n",
              "      <td>Limited</td>\n",
              "      <td>SUV</td>\n",
              "      <td>automatic</td>\n",
              "      <td>47.0</td>\n",
              "      <td>27249.0</td>\n",
              "      <td>white</td>\n",
              "      <td>tan</td>\n",
              "      <td>389150000.0</td>\n",
              "    </tr>\n",
              "    <tr>\n",
              "      <th>2</th>\n",
              "      <td>2013</td>\n",
              "      <td>Ford</td>\n",
              "      <td>Edge</td>\n",
              "      <td>Limited</td>\n",
              "      <td>SUV</td>\n",
              "      <td>automatic</td>\n",
              "      <td>29.0</td>\n",
              "      <td>56447.0</td>\n",
              "      <td>gray</td>\n",
              "      <td>black</td>\n",
              "      <td>396675000.0</td>\n",
              "    </tr>\n",
              "    <tr>\n",
              "      <th>3</th>\n",
              "      <td>2009</td>\n",
              "      <td>Chevrolet</td>\n",
              "      <td>Impala</td>\n",
              "      <td>LS</td>\n",
              "      <td>Sedan</td>\n",
              "      <td>automatic</td>\n",
              "      <td>2.0</td>\n",
              "      <td>14916.0</td>\n",
              "      <td>gray</td>\n",
              "      <td>gray</td>\n",
              "      <td>180600000.0</td>\n",
              "    </tr>\n",
              "    <tr>\n",
              "      <th>4</th>\n",
              "      <td>2014</td>\n",
              "      <td>Ford</td>\n",
              "      <td>Fusion</td>\n",
              "      <td>SE</td>\n",
              "      <td>Sedan</td>\n",
              "      <td>automatic</td>\n",
              "      <td>46.0</td>\n",
              "      <td>37674.0</td>\n",
              "      <td>brown</td>\n",
              "      <td>black</td>\n",
              "      <td>324650000.0</td>\n",
              "    </tr>\n",
              "    <tr>\n",
              "      <th>...</th>\n",
              "      <td>...</td>\n",
              "      <td>...</td>\n",
              "      <td>...</td>\n",
              "      <td>...</td>\n",
              "      <td>...</td>\n",
              "      <td>...</td>\n",
              "      <td>...</td>\n",
              "      <td>...</td>\n",
              "      <td>...</td>\n",
              "      <td>...</td>\n",
              "      <td>...</td>\n",
              "    </tr>\n",
              "    <tr>\n",
              "      <th>11995</th>\n",
              "      <td>2006</td>\n",
              "      <td>Mercedes-Benz</td>\n",
              "      <td>E-Class</td>\n",
              "      <td>E350</td>\n",
              "      <td>Sedan</td>\n",
              "      <td>automatic</td>\n",
              "      <td>19.0</td>\n",
              "      <td>122416.0</td>\n",
              "      <td>white</td>\n",
              "      <td>tan</td>\n",
              "      <td>144587500.0</td>\n",
              "    </tr>\n",
              "    <tr>\n",
              "      <th>11996</th>\n",
              "      <td>2013</td>\n",
              "      <td>Ford</td>\n",
              "      <td>Focus</td>\n",
              "      <td>SE</td>\n",
              "      <td>Sedan</td>\n",
              "      <td>automatic</td>\n",
              "      <td>48.0</td>\n",
              "      <td>17728.0</td>\n",
              "      <td>—</td>\n",
              "      <td>gray</td>\n",
              "      <td>249400000.0</td>\n",
              "    </tr>\n",
              "    <tr>\n",
              "      <th>11997</th>\n",
              "      <td>2013</td>\n",
              "      <td>Nissan</td>\n",
              "      <td>Maxima</td>\n",
              "      <td>3.5 S</td>\n",
              "      <td>Sedan</td>\n",
              "      <td>automatic</td>\n",
              "      <td>35.0</td>\n",
              "      <td>58712.0</td>\n",
              "      <td>silver</td>\n",
              "      <td>black</td>\n",
              "      <td>298850000.0</td>\n",
              "    </tr>\n",
              "    <tr>\n",
              "      <th>11998</th>\n",
              "      <td>2012</td>\n",
              "      <td>Honda</td>\n",
              "      <td>CR-V</td>\n",
              "      <td>LX</td>\n",
              "      <td>suv</td>\n",
              "      <td>automatic</td>\n",
              "      <td>26.0</td>\n",
              "      <td>18769.0</td>\n",
              "      <td>blue</td>\n",
              "      <td>gray</td>\n",
              "      <td>351525000.0</td>\n",
              "    </tr>\n",
              "    <tr>\n",
              "      <th>11999</th>\n",
              "      <td>2012</td>\n",
              "      <td>Chevrolet</td>\n",
              "      <td>Camaro</td>\n",
              "      <td>LS</td>\n",
              "      <td>Coupe</td>\n",
              "      <td>automatic</td>\n",
              "      <td>3.0</td>\n",
              "      <td>59274.0</td>\n",
              "      <td>silver</td>\n",
              "      <td>black</td>\n",
              "      <td>295625000.0</td>\n",
              "    </tr>\n",
              "  </tbody>\n",
              "</table>\n",
              "<p>12000 rows × 11 columns</p>\n",
              "</div>"
            ],
            "text/plain": [
              "       year           make    model     trim   body transmission  condition  \\\n",
              "0      2013        Hyundai  Elantra      GLS  sedan    automatic       48.0   \n",
              "1      2014           Jeep  Patriot  Limited    SUV    automatic       47.0   \n",
              "2      2013           Ford     Edge  Limited    SUV    automatic       29.0   \n",
              "3      2009      Chevrolet   Impala       LS  Sedan    automatic        2.0   \n",
              "4      2014           Ford   Fusion       SE  Sedan    automatic       46.0   \n",
              "...     ...            ...      ...      ...    ...          ...        ...   \n",
              "11995  2006  Mercedes-Benz  E-Class     E350  Sedan    automatic       19.0   \n",
              "11996  2013           Ford    Focus       SE  Sedan    automatic       48.0   \n",
              "11997  2013         Nissan   Maxima    3.5 S  Sedan    automatic       35.0   \n",
              "11998  2012          Honda     CR-V       LX    suv    automatic       26.0   \n",
              "11999  2012      Chevrolet   Camaro       LS  Coupe    automatic        3.0   \n",
              "\n",
              "       odometer   color interior  marketprice  \n",
              "0       33610.0   black    beige  227900000.0  \n",
              "1       27249.0   white      tan  389150000.0  \n",
              "2       56447.0    gray    black  396675000.0  \n",
              "3       14916.0    gray     gray  180600000.0  \n",
              "4       37674.0   brown    black  324650000.0  \n",
              "...         ...     ...      ...          ...  \n",
              "11995  122416.0   white      tan  144587500.0  \n",
              "11996   17728.0       —     gray  249400000.0  \n",
              "11997   58712.0  silver    black  298850000.0  \n",
              "11998   18769.0    blue     gray  351525000.0  \n",
              "11999   59274.0  silver    black  295625000.0  \n",
              "\n",
              "[12000 rows x 11 columns]"
            ]
          },
          "execution_count": 49,
          "metadata": {},
          "output_type": "execute_result"
        }
      ],
      "source": [
        "df.drop(columns=['vin', \n",
        "                 'seller', \n",
        "                 'margin', \n",
        "                 'year_group',\n",
        "                 'vehicle_age',\n",
        "                 'branch',\n",
        "                 'sellingprice'], inplace=True)\n",
        "\n",
        "df"
      ]
    },
    {
      "cell_type": "markdown",
      "id": "5bfb76a1",
      "metadata": {
        "id": "5bfb76a1"
      },
      "source": [
        "___\n",
        "### 6.2 Splitting Data"
      ]
    },
    {
      "cell_type": "markdown",
      "id": "15246e6a",
      "metadata": {
        "id": "15246e6a"
      },
      "source": [
        "Sebelum melakukan pembagian data, terlebih dahulu perlu diketahui korelasi atau hubungan dari seluruh variabel independent (x) terhadap variabel dependent (y).\n",
        "\n",
        "Pada dataset ini, variabel dependent (y) adalah kolom harga pasar 'marketprice', dan variabel independent (x) nya adalah semua kolom selain harga pasar 'marketprice'."
      ]
    },
    {
      "cell_type": "code",
      "execution_count": 50,
      "id": "add41108",
      "metadata": {
        "colab": {
          "base_uri": "https://localhost:8080/",
          "height": 130
        },
        "id": "add41108",
        "outputId": "ee1b3186-e353-4931-81f0-00d8698266b4"
      },
      "outputs": [
        {
          "data": {
            "text/html": [
              "<div>\n",
              "<style scoped>\n",
              "    .dataframe tbody tr th:only-of-type {\n",
              "        vertical-align: middle;\n",
              "    }\n",
              "\n",
              "    .dataframe tbody tr th {\n",
              "        vertical-align: top;\n",
              "    }\n",
              "\n",
              "    .dataframe thead th {\n",
              "        text-align: right;\n",
              "    }\n",
              "</style>\n",
              "<table border=\"1\" class=\"dataframe\">\n",
              "  <thead>\n",
              "    <tr style=\"text-align: right;\">\n",
              "      <th></th>\n",
              "      <th>year</th>\n",
              "      <th>make</th>\n",
              "      <th>model</th>\n",
              "      <th>trim</th>\n",
              "      <th>body</th>\n",
              "      <th>transmission</th>\n",
              "      <th>condition</th>\n",
              "      <th>odometer</th>\n",
              "      <th>color</th>\n",
              "      <th>interior</th>\n",
              "    </tr>\n",
              "  </thead>\n",
              "  <tbody>\n",
              "    <tr>\n",
              "      <th>0</th>\n",
              "      <td>2013</td>\n",
              "      <td>Hyundai</td>\n",
              "      <td>Elantra</td>\n",
              "      <td>GLS</td>\n",
              "      <td>sedan</td>\n",
              "      <td>automatic</td>\n",
              "      <td>48.0</td>\n",
              "      <td>33610.0</td>\n",
              "      <td>black</td>\n",
              "      <td>beige</td>\n",
              "    </tr>\n",
              "  </tbody>\n",
              "</table>\n",
              "</div>"
            ],
            "text/plain": [
              "   year     make    model trim   body transmission  condition  odometer  \\\n",
              "0  2013  Hyundai  Elantra  GLS  sedan    automatic       48.0   33610.0   \n",
              "\n",
              "   color interior  \n",
              "0  black    beige  "
            ]
          },
          "execution_count": 50,
          "metadata": {},
          "output_type": "execute_result"
        }
      ],
      "source": [
        "# Pembagian data fitur (x) dan target (y)\n",
        "x = df.drop(['marketprice'], axis = 1)            # Pembuatan parameter X adalah feature atau variabel independent\n",
        "y = df['marketprice']                             # Pembuatan parameter y adalah label atau variabel dependent\n",
        "x.head(1)                                       # Menampilkan nilai x pertama"
      ]
    },
    {
      "cell_type": "code",
      "execution_count": 51,
      "id": "b5d4b905",
      "metadata": {
        "colab": {
          "base_uri": "https://localhost:8080/",
          "height": 115
        },
        "id": "b5d4b905",
        "outputId": "7321baaf-b56e-43ef-b941-0f61aca7a07d"
      },
      "outputs": [
        {
          "data": {
            "text/plain": [
              "0    227900000.0\n",
              "Name: marketprice, dtype: float64"
            ]
          },
          "execution_count": 51,
          "metadata": {},
          "output_type": "execute_result"
        }
      ],
      "source": [
        "y.head(1)                                       # Menampilkan nilai y pertama"
      ]
    },
    {
      "cell_type": "markdown",
      "id": "d95cdb7f",
      "metadata": {
        "id": "d95cdb7f"
      },
      "source": [
        "Insight:\n",
        "\n",
        "Setelah datanya dibagi, maka dibagi lagi untuk kolom fitur menjadi kolom fitur kategorikal dan numerikal. Setelah seluruh data sudah dibagi menjadi 2 variabel, yaitu variabel dependent (y) atau label dan variabel independent (x) atau fitur, maka selanjutnya adalah membagi keseluruhan datanya menjadi 2 bagian, yaitu data train dan data test, dimana pada model kali ini, menggunakan rasio sebesar 80% untuk data train dan 20% untuk data test. Lalu diacak dengan menggunakan random_state berjumlah 42, yang artinya dirandom ke 42 kali.\n"
      ]
    },
    {
      "cell_type": "code",
      "execution_count": 52,
      "id": "d70e0d86",
      "metadata": {},
      "outputs": [
        {
          "data": {
            "text/html": [
              "<div>\n",
              "<style scoped>\n",
              "    .dataframe tbody tr th:only-of-type {\n",
              "        vertical-align: middle;\n",
              "    }\n",
              "\n",
              "    .dataframe tbody tr th {\n",
              "        vertical-align: top;\n",
              "    }\n",
              "\n",
              "    .dataframe thead th {\n",
              "        text-align: right;\n",
              "    }\n",
              "</style>\n",
              "<table border=\"1\" class=\"dataframe\">\n",
              "  <thead>\n",
              "    <tr style=\"text-align: right;\">\n",
              "      <th></th>\n",
              "      <th>year</th>\n",
              "      <th>make</th>\n",
              "      <th>model</th>\n",
              "      <th>trim</th>\n",
              "      <th>body</th>\n",
              "      <th>transmission</th>\n",
              "      <th>condition</th>\n",
              "      <th>odometer</th>\n",
              "      <th>color</th>\n",
              "      <th>interior</th>\n",
              "    </tr>\n",
              "  </thead>\n",
              "  <tbody>\n",
              "    <tr>\n",
              "      <th>0</th>\n",
              "      <td>2013</td>\n",
              "      <td>Hyundai</td>\n",
              "      <td>Elantra</td>\n",
              "      <td>GLS</td>\n",
              "      <td>sedan</td>\n",
              "      <td>automatic</td>\n",
              "      <td>48.0</td>\n",
              "      <td>33610.0</td>\n",
              "      <td>black</td>\n",
              "      <td>beige</td>\n",
              "    </tr>\n",
              "    <tr>\n",
              "      <th>1</th>\n",
              "      <td>2014</td>\n",
              "      <td>Jeep</td>\n",
              "      <td>Patriot</td>\n",
              "      <td>Limited</td>\n",
              "      <td>SUV</td>\n",
              "      <td>automatic</td>\n",
              "      <td>47.0</td>\n",
              "      <td>27249.0</td>\n",
              "      <td>white</td>\n",
              "      <td>tan</td>\n",
              "    </tr>\n",
              "    <tr>\n",
              "      <th>2</th>\n",
              "      <td>2013</td>\n",
              "      <td>Ford</td>\n",
              "      <td>Edge</td>\n",
              "      <td>Limited</td>\n",
              "      <td>SUV</td>\n",
              "      <td>automatic</td>\n",
              "      <td>29.0</td>\n",
              "      <td>56447.0</td>\n",
              "      <td>gray</td>\n",
              "      <td>black</td>\n",
              "    </tr>\n",
              "    <tr>\n",
              "      <th>3</th>\n",
              "      <td>2009</td>\n",
              "      <td>Chevrolet</td>\n",
              "      <td>Impala</td>\n",
              "      <td>LS</td>\n",
              "      <td>Sedan</td>\n",
              "      <td>automatic</td>\n",
              "      <td>2.0</td>\n",
              "      <td>14916.0</td>\n",
              "      <td>gray</td>\n",
              "      <td>gray</td>\n",
              "    </tr>\n",
              "    <tr>\n",
              "      <th>4</th>\n",
              "      <td>2014</td>\n",
              "      <td>Ford</td>\n",
              "      <td>Fusion</td>\n",
              "      <td>SE</td>\n",
              "      <td>Sedan</td>\n",
              "      <td>automatic</td>\n",
              "      <td>46.0</td>\n",
              "      <td>37674.0</td>\n",
              "      <td>brown</td>\n",
              "      <td>black</td>\n",
              "    </tr>\n",
              "    <tr>\n",
              "      <th>...</th>\n",
              "      <td>...</td>\n",
              "      <td>...</td>\n",
              "      <td>...</td>\n",
              "      <td>...</td>\n",
              "      <td>...</td>\n",
              "      <td>...</td>\n",
              "      <td>...</td>\n",
              "      <td>...</td>\n",
              "      <td>...</td>\n",
              "      <td>...</td>\n",
              "    </tr>\n",
              "    <tr>\n",
              "      <th>11995</th>\n",
              "      <td>2006</td>\n",
              "      <td>Mercedes-Benz</td>\n",
              "      <td>E-Class</td>\n",
              "      <td>E350</td>\n",
              "      <td>Sedan</td>\n",
              "      <td>automatic</td>\n",
              "      <td>19.0</td>\n",
              "      <td>122416.0</td>\n",
              "      <td>white</td>\n",
              "      <td>tan</td>\n",
              "    </tr>\n",
              "    <tr>\n",
              "      <th>11996</th>\n",
              "      <td>2013</td>\n",
              "      <td>Ford</td>\n",
              "      <td>Focus</td>\n",
              "      <td>SE</td>\n",
              "      <td>Sedan</td>\n",
              "      <td>automatic</td>\n",
              "      <td>48.0</td>\n",
              "      <td>17728.0</td>\n",
              "      <td>—</td>\n",
              "      <td>gray</td>\n",
              "    </tr>\n",
              "    <tr>\n",
              "      <th>11997</th>\n",
              "      <td>2013</td>\n",
              "      <td>Nissan</td>\n",
              "      <td>Maxima</td>\n",
              "      <td>3.5 S</td>\n",
              "      <td>Sedan</td>\n",
              "      <td>automatic</td>\n",
              "      <td>35.0</td>\n",
              "      <td>58712.0</td>\n",
              "      <td>silver</td>\n",
              "      <td>black</td>\n",
              "    </tr>\n",
              "    <tr>\n",
              "      <th>11998</th>\n",
              "      <td>2012</td>\n",
              "      <td>Honda</td>\n",
              "      <td>CR-V</td>\n",
              "      <td>LX</td>\n",
              "      <td>suv</td>\n",
              "      <td>automatic</td>\n",
              "      <td>26.0</td>\n",
              "      <td>18769.0</td>\n",
              "      <td>blue</td>\n",
              "      <td>gray</td>\n",
              "    </tr>\n",
              "    <tr>\n",
              "      <th>11999</th>\n",
              "      <td>2012</td>\n",
              "      <td>Chevrolet</td>\n",
              "      <td>Camaro</td>\n",
              "      <td>LS</td>\n",
              "      <td>Coupe</td>\n",
              "      <td>automatic</td>\n",
              "      <td>3.0</td>\n",
              "      <td>59274.0</td>\n",
              "      <td>silver</td>\n",
              "      <td>black</td>\n",
              "    </tr>\n",
              "  </tbody>\n",
              "</table>\n",
              "<p>12000 rows × 10 columns</p>\n",
              "</div>"
            ],
            "text/plain": [
              "       year           make    model     trim   body transmission  condition  \\\n",
              "0      2013        Hyundai  Elantra      GLS  sedan    automatic       48.0   \n",
              "1      2014           Jeep  Patriot  Limited    SUV    automatic       47.0   \n",
              "2      2013           Ford     Edge  Limited    SUV    automatic       29.0   \n",
              "3      2009      Chevrolet   Impala       LS  Sedan    automatic        2.0   \n",
              "4      2014           Ford   Fusion       SE  Sedan    automatic       46.0   \n",
              "...     ...            ...      ...      ...    ...          ...        ...   \n",
              "11995  2006  Mercedes-Benz  E-Class     E350  Sedan    automatic       19.0   \n",
              "11996  2013           Ford    Focus       SE  Sedan    automatic       48.0   \n",
              "11997  2013         Nissan   Maxima    3.5 S  Sedan    automatic       35.0   \n",
              "11998  2012          Honda     CR-V       LX    suv    automatic       26.0   \n",
              "11999  2012      Chevrolet   Camaro       LS  Coupe    automatic        3.0   \n",
              "\n",
              "       odometer   color interior  \n",
              "0       33610.0   black    beige  \n",
              "1       27249.0   white      tan  \n",
              "2       56447.0    gray    black  \n",
              "3       14916.0    gray     gray  \n",
              "4       37674.0   brown    black  \n",
              "...         ...     ...      ...  \n",
              "11995  122416.0   white      tan  \n",
              "11996   17728.0       —     gray  \n",
              "11997   58712.0  silver    black  \n",
              "11998   18769.0    blue     gray  \n",
              "11999   59274.0  silver    black  \n",
              "\n",
              "[12000 rows x 10 columns]"
            ]
          },
          "execution_count": 52,
          "metadata": {},
          "output_type": "execute_result"
        }
      ],
      "source": [
        "x"
      ]
    },
    {
      "cell_type": "code",
      "execution_count": 53,
      "id": "e4dc9fb7",
      "metadata": {
        "colab": {
          "base_uri": "https://localhost:8080/"
        },
        "id": "e4dc9fb7",
        "outputId": "181c9535-aec4-4a38-e8ce-466a56703e7a"
      },
      "outputs": [
        {
          "name": "stdout",
          "output_type": "stream",
          "text": [
            "Train Size (9600, 10)\n",
            "Test Size (2400, 10)\n"
          ]
        }
      ],
      "source": [
        "cat_features = x.select_dtypes(include=['object', 'category']).columns        # Pembuatan objek untuk menyimpan data kolom fitur kategorikal\n",
        "num_features = x.select_dtypes(include=['number']).columns        # Pembuatan objek untuk menyimpan data kolom fitur numerikal\n",
        "\n",
        "# Pemisahan data train dan data test dengan menggunakan stratify untuk penyamaan proporsional dari kolom target, yang datanya diacak urutan ke 42.\n",
        "x_train, x_test, y_train, y_test = train_test_split(x, y, test_size = 0.2, random_state = 42)\n",
        "print('Train Size', x_train.shape)\n",
        "print('Test Size', x_test.shape)"
      ]
    },
    {
      "cell_type": "markdown",
      "id": "cd56d7d6",
      "metadata": {
        "id": "cd56d7d6"
      },
      "source": [
        "Insight:\n",
        "\n",
        "Setelah datanya sudah siap untuk diolah dalam model, maka tahap selanjutnya adalah masuk ke definisi model yang akan digunakan. Pada kesempatan kali ini, saya akan membandingkan performa 5 model untuk memprediksi nilai skor risiko seseorang, yaitu:\n",
        "1. KNN Regressor,\n",
        "2. Decision Tree Regressor,\n",
        "3. Random Forest Regressor,\n",
        "4. SVM Regressor, dan\n",
        "5. XGBoost."
      ]
    },
    {
      "cell_type": "markdown",
      "id": "199c56a1",
      "metadata": {
        "id": "199c56a1"
      },
      "source": [
        "___\n",
        "## 7. Model Definition"
      ]
    },
    {
      "cell_type": "markdown",
      "id": "ac0dac0a",
      "metadata": {
        "id": "ac0dac0a"
      },
      "source": [
        "| Algoritma | Definisi | Kelebihan | Kekurangan |\n",
        "|---|---|---|---|\n",
        "| **KNN Regressor** | K-Nearest Neighbors (KNN) Regressor adalah algoritma regresi berbasis KNN yang memperhitungkan k-tetangga terdekat, di mana prediksi dibuat dengan mengambil rata-rata dari k-tetangga terdekat berdasarkan metrik jarak seperti nilai Euclidean. | - Mudah dipahami dan diimplementasikan, <br> - Tidak memerlukan asumsi distribusi data, <br> - Model ini cocok untuk data non-linear. | - Model ini sangat sensitif terhadap jumlah k-tetangga, <br> - Kurang efisien jika dataset yang digunakan sangat besar karena harus menghitung jarak untuk setiap titik-titik centroids, <br> - Tidak dapat menangkap pola data yang bersifat kompleks dengan baik.|\n",
        "| **Decision Tree Regressor** | Decision Tree adalah algoritma regresi berbasis pohon keputusan yang membagi data berdasarkan aturan keputusan yang ada, sampai mencapai prediksi akhir. Model ini memetakan keputusan berdasarkan fitur input secara hirarki. | - Model ini juga mudah untuk diinterpretasikan serta divisualisasikan, <br> - Model ini tidak memerlukan proses normalisasi data didalamnya, <br> - Model ini dapat menangani data non-linear dan fitur kategorikal. | - Model sangat mudah menghasilkan hasil prediksi yang overfit, terutama dalam dataset yang kecil, <br> - Performa model ini dapat menurun jika dataset memiliki terlalu banyak fitur-fitur. |\n",
        "| **Random Forest Regressor** | Random Forest Regressor adalah algoritma regresi yang menggabungkan banyak pohon keputusan untuk meningkatkan akurasi dan stabilitas prediksi. Model ini membuat prediksi dengan merata-ratakan hasil dari beberapa pohon keputusan yang dilatih dalam subset data acak. | - Lebih akurat daridalam pohon keputusan tunggal (decision tree), <br> - Model ini tahan terhadap hasil perdiksi yang overfit, karena menggunakan banyak pohon keputusan, <br> - Model ini dapat menangani data yang beragam, termasuk data numerik dan data kategorikal | - Model membutuhkan lebih banyak sumber daya untuk komputasi, <br> - Kurang interpretatif dibandingkan model pohon tunggal (decision tree) <br>, - Model dapat bekerja lebih lambat dibandingkan model sederhana seperti Decision Tree. |\n",
        "| **SVM Regressor** | Support Vector Machine (SVM) Regressor adalah algoritma regresi yang mencari hyperplane optimal dalam ruang fitur yang ada untuk meminimalkan kesalahan prediksi. Dalam regresi, SVM mencoba memaksimalkan margin antara prediksi dan titik data sebenarnya menggunakan konsep epsilon-insensitive loss. | - Model ini cocok untuk dataset yang kecil atau dataset dengan fitur yang kompleks, <br> - Algoritma ini dapat menangani data dengan banyak dimensi, <br> - Bekerja dengan baik dalam data non-linear jika dikombinasikan dengan kernel seperti RBF atau polynomial | - Model dapat bekerja dengan lambat jika dataset yang digunakan sangat besar, <br> - Sensitif terhadap pemilihan kernel dan parameter, <br> - Tidak terlalu intuitif dibandingkan metode decision tree atau random forest. |\n",
        "| **XGBoost Regressor** | Extreme Gradient Boosting (XGBoost) adalah algoritma boosting berbasis pohon keputusan atau Decision Tree yang meningkatkan prediksi dengan membangun pohon secara bertahap dan memperbaiki kesalahan setiap iterasi. Algoritma ini menggunakan teknik regularisasi untuk meningkatkan akurasi dan generalisasi model. | - Sangat akurat dan efisien, <br> - Dapat menangani nilai yang hilang (missing valuea) secara otomatis, <br> - Sangat baik dalam menangani dataset besar, <br> - Mendukung paralelisasi untuk training lebih cepat | - Membutuhkan tuning parameter yang cukup kompleks, <br> - Kurang interpretatif dibandingkan pohon keputusan, <br> - Dapat membutuhkan lebih banyak memori dibandingkan model sederhana. |"
      ]
    },
    {
      "cell_type": "markdown",
      "id": "dafeed96",
      "metadata": {
        "id": "dafeed96"
      },
      "source": [
        "Setelah selesai dalam definisi modelnya, maka selanjutnya adalah sesi training model.\n",
        "___\n",
        "## 8. Model Training"
      ]
    },
    {
      "cell_type": "markdown",
      "id": "78bd76da",
      "metadata": {
        "id": "78bd76da"
      },
      "source": [
        "Proses training model dilakukan secara urut, dari proses scaling data numerik, Encoding data kategorikal, lalu dilakukan pelatihan model terhadap data train."
      ]
    },
    {
      "cell_type": "code",
      "execution_count": 54,
      "id": "48d27e40",
      "metadata": {
        "id": "48d27e40"
      },
      "outputs": [],
      "source": [
        "one_hot_transformer = OneHotEncoder(handle_unknown='ignore')\n",
        "\n",
        "scalers = {\"Standard\": StandardScaler()}\n",
        "\n",
        "numeric_transformer = ColumnTransformer(\n",
        "    transformers=[\n",
        "        ('standard', scalers[\"Standard\"], num_features)])\n",
        "\n",
        "# ColumnTransformer dengan validasi kolom\n",
        "preprocessor = ColumnTransformer(\n",
        "    transformers=[\n",
        "        ('num', numeric_transformer, num_features),\n",
        "        ('cat', one_hot_transformer, cat_features)])"
      ]
    },
    {
      "cell_type": "code",
      "execution_count": 55,
      "id": "8b2a4fd4",
      "metadata": {
        "id": "8b2a4fd4"
      },
      "outputs": [],
      "source": [
        "# Pipeline pemodelan dengan KNN-regressor\n",
        "pipeknn = Pipeline([\n",
        "    ('preprocessor', preprocessor),\n",
        "    ('knn', KNeighborsRegressor())])\n",
        "\n",
        "# Pipeline pemodelan dengan Decision Tree Regressor\n",
        "pipedt = Pipeline([\n",
        "    ('preprocessor', preprocessor),\n",
        "    ('decisiontree', DecisionTreeRegressor())])\n",
        "\n",
        "# Pipeline pemodelan dengan Random Forest Regressor\n",
        "piperf = Pipeline([\n",
        "    ('preprocessor', preprocessor),\n",
        "    ('randomforest', RandomForestRegressor())])\n",
        "\n",
        "# Pipeline pemodelandengan SVM Regressor\n",
        "pipesvm = Pipeline([\n",
        "    ('preprocessor', preprocessor),\n",
        "    ('svm', SVR())])\n",
        "\n",
        "# Pipeline pemodelan dengan XGBoost Regressor\n",
        "pipexgb = Pipeline([\n",
        "    ('preprocessor', preprocessor),\n",
        "    ('xgb', XGBRegressor())])"
      ]
    },
    {
      "cell_type": "markdown",
      "id": "fbdaa818",
      "metadata": {
        "id": "fbdaa818"
      },
      "source": [
        "Setelah pipelinenya sudah dibuat, maka selanjutnya adalah proses pelatihan model terhadap data train."
      ]
    },
    {
      "cell_type": "code",
      "execution_count": 56,
      "id": "edd2af09",
      "metadata": {
        "colab": {
          "base_uri": "https://localhost:8080/",
          "height": 348
        },
        "id": "edd2af09",
        "outputId": "0e4f4dbd-abcf-444b-b4de-96f17fef1319"
      },
      "outputs": [
        {
          "name": "stdout",
          "output_type": "stream",
          "text": [
            "Wall time: 59.7 s\n"
          ]
        },
        {
          "data": {
            "text/html": [
              "<style>#sk-container-id-1 {\n",
              "  /* Definition of color scheme common for light and dark mode */\n",
              "  --sklearn-color-text: #000;\n",
              "  --sklearn-color-text-muted: #666;\n",
              "  --sklearn-color-line: gray;\n",
              "  /* Definition of color scheme for unfitted estimators */\n",
              "  --sklearn-color-unfitted-level-0: #fff5e6;\n",
              "  --sklearn-color-unfitted-level-1: #f6e4d2;\n",
              "  --sklearn-color-unfitted-level-2: #ffe0b3;\n",
              "  --sklearn-color-unfitted-level-3: chocolate;\n",
              "  /* Definition of color scheme for fitted estimators */\n",
              "  --sklearn-color-fitted-level-0: #f0f8ff;\n",
              "  --sklearn-color-fitted-level-1: #d4ebff;\n",
              "  --sklearn-color-fitted-level-2: #b3dbfd;\n",
              "  --sklearn-color-fitted-level-3: cornflowerblue;\n",
              "\n",
              "  /* Specific color for light theme */\n",
              "  --sklearn-color-text-on-default-background: var(--sg-text-color, var(--theme-code-foreground, var(--jp-content-font-color1, black)));\n",
              "  --sklearn-color-background: var(--sg-background-color, var(--theme-background, var(--jp-layout-color0, white)));\n",
              "  --sklearn-color-border-box: var(--sg-text-color, var(--theme-code-foreground, var(--jp-content-font-color1, black)));\n",
              "  --sklearn-color-icon: #696969;\n",
              "\n",
              "  @media (prefers-color-scheme: dark) {\n",
              "    /* Redefinition of color scheme for dark theme */\n",
              "    --sklearn-color-text-on-default-background: var(--sg-text-color, var(--theme-code-foreground, var(--jp-content-font-color1, white)));\n",
              "    --sklearn-color-background: var(--sg-background-color, var(--theme-background, var(--jp-layout-color0, #111)));\n",
              "    --sklearn-color-border-box: var(--sg-text-color, var(--theme-code-foreground, var(--jp-content-font-color1, white)));\n",
              "    --sklearn-color-icon: #878787;\n",
              "  }\n",
              "}\n",
              "\n",
              "#sk-container-id-1 {\n",
              "  color: var(--sklearn-color-text);\n",
              "}\n",
              "\n",
              "#sk-container-id-1 pre {\n",
              "  padding: 0;\n",
              "}\n",
              "\n",
              "#sk-container-id-1 input.sk-hidden--visually {\n",
              "  border: 0;\n",
              "  clip: rect(1px 1px 1px 1px);\n",
              "  clip: rect(1px, 1px, 1px, 1px);\n",
              "  height: 1px;\n",
              "  margin: -1px;\n",
              "  overflow: hidden;\n",
              "  padding: 0;\n",
              "  position: absolute;\n",
              "  width: 1px;\n",
              "}\n",
              "\n",
              "#sk-container-id-1 div.sk-dashed-wrapped {\n",
              "  border: 1px dashed var(--sklearn-color-line);\n",
              "  margin: 0 0.4em 0.5em 0.4em;\n",
              "  box-sizing: border-box;\n",
              "  padding-bottom: 0.4em;\n",
              "  background-color: var(--sklearn-color-background);\n",
              "}\n",
              "\n",
              "#sk-container-id-1 div.sk-container {\n",
              "  /* jupyter's `normalize.less` sets `[hidden] { display: none; }`\n",
              "     but bootstrap.min.css set `[hidden] { display: none !important; }`\n",
              "     so we also need the `!important` here to be able to override the\n",
              "     default hidden behavior on the sphinx rendered scikit-learn.org.\n",
              "     See: https://github.com/scikit-learn/scikit-learn/issues/21755 */\n",
              "  display: inline-block !important;\n",
              "  position: relative;\n",
              "}\n",
              "\n",
              "#sk-container-id-1 div.sk-text-repr-fallback {\n",
              "  display: none;\n",
              "}\n",
              "\n",
              "div.sk-parallel-item,\n",
              "div.sk-serial,\n",
              "div.sk-item {\n",
              "  /* draw centered vertical line to link estimators */\n",
              "  background-image: linear-gradient(var(--sklearn-color-text-on-default-background), var(--sklearn-color-text-on-default-background));\n",
              "  background-size: 2px 100%;\n",
              "  background-repeat: no-repeat;\n",
              "  background-position: center center;\n",
              "}\n",
              "\n",
              "/* Parallel-specific style estimator block */\n",
              "\n",
              "#sk-container-id-1 div.sk-parallel-item::after {\n",
              "  content: \"\";\n",
              "  width: 100%;\n",
              "  border-bottom: 2px solid var(--sklearn-color-text-on-default-background);\n",
              "  flex-grow: 1;\n",
              "}\n",
              "\n",
              "#sk-container-id-1 div.sk-parallel {\n",
              "  display: flex;\n",
              "  align-items: stretch;\n",
              "  justify-content: center;\n",
              "  background-color: var(--sklearn-color-background);\n",
              "  position: relative;\n",
              "}\n",
              "\n",
              "#sk-container-id-1 div.sk-parallel-item {\n",
              "  display: flex;\n",
              "  flex-direction: column;\n",
              "}\n",
              "\n",
              "#sk-container-id-1 div.sk-parallel-item:first-child::after {\n",
              "  align-self: flex-end;\n",
              "  width: 50%;\n",
              "}\n",
              "\n",
              "#sk-container-id-1 div.sk-parallel-item:last-child::after {\n",
              "  align-self: flex-start;\n",
              "  width: 50%;\n",
              "}\n",
              "\n",
              "#sk-container-id-1 div.sk-parallel-item:only-child::after {\n",
              "  width: 0;\n",
              "}\n",
              "\n",
              "/* Serial-specific style estimator block */\n",
              "\n",
              "#sk-container-id-1 div.sk-serial {\n",
              "  display: flex;\n",
              "  flex-direction: column;\n",
              "  align-items: center;\n",
              "  background-color: var(--sklearn-color-background);\n",
              "  padding-right: 1em;\n",
              "  padding-left: 1em;\n",
              "}\n",
              "\n",
              "\n",
              "/* Toggleable style: style used for estimator/Pipeline/ColumnTransformer box that is\n",
              "clickable and can be expanded/collapsed.\n",
              "- Pipeline and ColumnTransformer use this feature and define the default style\n",
              "- Estimators will overwrite some part of the style using the `sk-estimator` class\n",
              "*/\n",
              "\n",
              "/* Pipeline and ColumnTransformer style (default) */\n",
              "\n",
              "#sk-container-id-1 div.sk-toggleable {\n",
              "  /* Default theme specific background. It is overwritten whether we have a\n",
              "  specific estimator or a Pipeline/ColumnTransformer */\n",
              "  background-color: var(--sklearn-color-background);\n",
              "}\n",
              "\n",
              "/* Toggleable label */\n",
              "#sk-container-id-1 label.sk-toggleable__label {\n",
              "  cursor: pointer;\n",
              "  display: flex;\n",
              "  width: 100%;\n",
              "  margin-bottom: 0;\n",
              "  padding: 0.5em;\n",
              "  box-sizing: border-box;\n",
              "  text-align: center;\n",
              "  align-items: start;\n",
              "  justify-content: space-between;\n",
              "  gap: 0.5em;\n",
              "}\n",
              "\n",
              "#sk-container-id-1 label.sk-toggleable__label .caption {\n",
              "  font-size: 0.6rem;\n",
              "  font-weight: lighter;\n",
              "  color: var(--sklearn-color-text-muted);\n",
              "}\n",
              "\n",
              "#sk-container-id-1 label.sk-toggleable__label-arrow:before {\n",
              "  /* Arrow on the left of the label */\n",
              "  content: \"▸\";\n",
              "  float: left;\n",
              "  margin-right: 0.25em;\n",
              "  color: var(--sklearn-color-icon);\n",
              "}\n",
              "\n",
              "#sk-container-id-1 label.sk-toggleable__label-arrow:hover:before {\n",
              "  color: var(--sklearn-color-text);\n",
              "}\n",
              "\n",
              "/* Toggleable content - dropdown */\n",
              "\n",
              "#sk-container-id-1 div.sk-toggleable__content {\n",
              "  max-height: 0;\n",
              "  max-width: 0;\n",
              "  overflow: hidden;\n",
              "  text-align: left;\n",
              "  /* unfitted */\n",
              "  background-color: var(--sklearn-color-unfitted-level-0);\n",
              "}\n",
              "\n",
              "#sk-container-id-1 div.sk-toggleable__content.fitted {\n",
              "  /* fitted */\n",
              "  background-color: var(--sklearn-color-fitted-level-0);\n",
              "}\n",
              "\n",
              "#sk-container-id-1 div.sk-toggleable__content pre {\n",
              "  margin: 0.2em;\n",
              "  border-radius: 0.25em;\n",
              "  color: var(--sklearn-color-text);\n",
              "  /* unfitted */\n",
              "  background-color: var(--sklearn-color-unfitted-level-0);\n",
              "}\n",
              "\n",
              "#sk-container-id-1 div.sk-toggleable__content.fitted pre {\n",
              "  /* unfitted */\n",
              "  background-color: var(--sklearn-color-fitted-level-0);\n",
              "}\n",
              "\n",
              "#sk-container-id-1 input.sk-toggleable__control:checked~div.sk-toggleable__content {\n",
              "  /* Expand drop-down */\n",
              "  max-height: 200px;\n",
              "  max-width: 100%;\n",
              "  overflow: auto;\n",
              "}\n",
              "\n",
              "#sk-container-id-1 input.sk-toggleable__control:checked~label.sk-toggleable__label-arrow:before {\n",
              "  content: \"▾\";\n",
              "}\n",
              "\n",
              "/* Pipeline/ColumnTransformer-specific style */\n",
              "\n",
              "#sk-container-id-1 div.sk-label input.sk-toggleable__control:checked~label.sk-toggleable__label {\n",
              "  color: var(--sklearn-color-text);\n",
              "  background-color: var(--sklearn-color-unfitted-level-2);\n",
              "}\n",
              "\n",
              "#sk-container-id-1 div.sk-label.fitted input.sk-toggleable__control:checked~label.sk-toggleable__label {\n",
              "  background-color: var(--sklearn-color-fitted-level-2);\n",
              "}\n",
              "\n",
              "/* Estimator-specific style */\n",
              "\n",
              "/* Colorize estimator box */\n",
              "#sk-container-id-1 div.sk-estimator input.sk-toggleable__control:checked~label.sk-toggleable__label {\n",
              "  /* unfitted */\n",
              "  background-color: var(--sklearn-color-unfitted-level-2);\n",
              "}\n",
              "\n",
              "#sk-container-id-1 div.sk-estimator.fitted input.sk-toggleable__control:checked~label.sk-toggleable__label {\n",
              "  /* fitted */\n",
              "  background-color: var(--sklearn-color-fitted-level-2);\n",
              "}\n",
              "\n",
              "#sk-container-id-1 div.sk-label label.sk-toggleable__label,\n",
              "#sk-container-id-1 div.sk-label label {\n",
              "  /* The background is the default theme color */\n",
              "  color: var(--sklearn-color-text-on-default-background);\n",
              "}\n",
              "\n",
              "/* On hover, darken the color of the background */\n",
              "#sk-container-id-1 div.sk-label:hover label.sk-toggleable__label {\n",
              "  color: var(--sklearn-color-text);\n",
              "  background-color: var(--sklearn-color-unfitted-level-2);\n",
              "}\n",
              "\n",
              "/* Label box, darken color on hover, fitted */\n",
              "#sk-container-id-1 div.sk-label.fitted:hover label.sk-toggleable__label.fitted {\n",
              "  color: var(--sklearn-color-text);\n",
              "  background-color: var(--sklearn-color-fitted-level-2);\n",
              "}\n",
              "\n",
              "/* Estimator label */\n",
              "\n",
              "#sk-container-id-1 div.sk-label label {\n",
              "  font-family: monospace;\n",
              "  font-weight: bold;\n",
              "  display: inline-block;\n",
              "  line-height: 1.2em;\n",
              "}\n",
              "\n",
              "#sk-container-id-1 div.sk-label-container {\n",
              "  text-align: center;\n",
              "}\n",
              "\n",
              "/* Estimator-specific */\n",
              "#sk-container-id-1 div.sk-estimator {\n",
              "  font-family: monospace;\n",
              "  border: 1px dotted var(--sklearn-color-border-box);\n",
              "  border-radius: 0.25em;\n",
              "  box-sizing: border-box;\n",
              "  margin-bottom: 0.5em;\n",
              "  /* unfitted */\n",
              "  background-color: var(--sklearn-color-unfitted-level-0);\n",
              "}\n",
              "\n",
              "#sk-container-id-1 div.sk-estimator.fitted {\n",
              "  /* fitted */\n",
              "  background-color: var(--sklearn-color-fitted-level-0);\n",
              "}\n",
              "\n",
              "/* on hover */\n",
              "#sk-container-id-1 div.sk-estimator:hover {\n",
              "  /* unfitted */\n",
              "  background-color: var(--sklearn-color-unfitted-level-2);\n",
              "}\n",
              "\n",
              "#sk-container-id-1 div.sk-estimator.fitted:hover {\n",
              "  /* fitted */\n",
              "  background-color: var(--sklearn-color-fitted-level-2);\n",
              "}\n",
              "\n",
              "/* Specification for estimator info (e.g. \"i\" and \"?\") */\n",
              "\n",
              "/* Common style for \"i\" and \"?\" */\n",
              "\n",
              ".sk-estimator-doc-link,\n",
              "a:link.sk-estimator-doc-link,\n",
              "a:visited.sk-estimator-doc-link {\n",
              "  float: right;\n",
              "  font-size: smaller;\n",
              "  line-height: 1em;\n",
              "  font-family: monospace;\n",
              "  background-color: var(--sklearn-color-background);\n",
              "  border-radius: 1em;\n",
              "  height: 1em;\n",
              "  width: 1em;\n",
              "  text-decoration: none !important;\n",
              "  margin-left: 0.5em;\n",
              "  text-align: center;\n",
              "  /* unfitted */\n",
              "  border: var(--sklearn-color-unfitted-level-1) 1pt solid;\n",
              "  color: var(--sklearn-color-unfitted-level-1);\n",
              "}\n",
              "\n",
              ".sk-estimator-doc-link.fitted,\n",
              "a:link.sk-estimator-doc-link.fitted,\n",
              "a:visited.sk-estimator-doc-link.fitted {\n",
              "  /* fitted */\n",
              "  border: var(--sklearn-color-fitted-level-1) 1pt solid;\n",
              "  color: var(--sklearn-color-fitted-level-1);\n",
              "}\n",
              "\n",
              "/* On hover */\n",
              "div.sk-estimator:hover .sk-estimator-doc-link:hover,\n",
              ".sk-estimator-doc-link:hover,\n",
              "div.sk-label-container:hover .sk-estimator-doc-link:hover,\n",
              ".sk-estimator-doc-link:hover {\n",
              "  /* unfitted */\n",
              "  background-color: var(--sklearn-color-unfitted-level-3);\n",
              "  color: var(--sklearn-color-background);\n",
              "  text-decoration: none;\n",
              "}\n",
              "\n",
              "div.sk-estimator.fitted:hover .sk-estimator-doc-link.fitted:hover,\n",
              ".sk-estimator-doc-link.fitted:hover,\n",
              "div.sk-label-container:hover .sk-estimator-doc-link.fitted:hover,\n",
              ".sk-estimator-doc-link.fitted:hover {\n",
              "  /* fitted */\n",
              "  background-color: var(--sklearn-color-fitted-level-3);\n",
              "  color: var(--sklearn-color-background);\n",
              "  text-decoration: none;\n",
              "}\n",
              "\n",
              "/* Span, style for the box shown on hovering the info icon */\n",
              ".sk-estimator-doc-link span {\n",
              "  display: none;\n",
              "  z-index: 9999;\n",
              "  position: relative;\n",
              "  font-weight: normal;\n",
              "  right: .2ex;\n",
              "  padding: .5ex;\n",
              "  margin: .5ex;\n",
              "  width: min-content;\n",
              "  min-width: 20ex;\n",
              "  max-width: 50ex;\n",
              "  color: var(--sklearn-color-text);\n",
              "  box-shadow: 2pt 2pt 4pt #999;\n",
              "  /* unfitted */\n",
              "  background: var(--sklearn-color-unfitted-level-0);\n",
              "  border: .5pt solid var(--sklearn-color-unfitted-level-3);\n",
              "}\n",
              "\n",
              ".sk-estimator-doc-link.fitted span {\n",
              "  /* fitted */\n",
              "  background: var(--sklearn-color-fitted-level-0);\n",
              "  border: var(--sklearn-color-fitted-level-3);\n",
              "}\n",
              "\n",
              ".sk-estimator-doc-link:hover span {\n",
              "  display: block;\n",
              "}\n",
              "\n",
              "/* \"?\"-specific style due to the `<a>` HTML tag */\n",
              "\n",
              "#sk-container-id-1 a.estimator_doc_link {\n",
              "  float: right;\n",
              "  font-size: 1rem;\n",
              "  line-height: 1em;\n",
              "  font-family: monospace;\n",
              "  background-color: var(--sklearn-color-background);\n",
              "  border-radius: 1rem;\n",
              "  height: 1rem;\n",
              "  width: 1rem;\n",
              "  text-decoration: none;\n",
              "  /* unfitted */\n",
              "  color: var(--sklearn-color-unfitted-level-1);\n",
              "  border: var(--sklearn-color-unfitted-level-1) 1pt solid;\n",
              "}\n",
              "\n",
              "#sk-container-id-1 a.estimator_doc_link.fitted {\n",
              "  /* fitted */\n",
              "  border: var(--sklearn-color-fitted-level-1) 1pt solid;\n",
              "  color: var(--sklearn-color-fitted-level-1);\n",
              "}\n",
              "\n",
              "/* On hover */\n",
              "#sk-container-id-1 a.estimator_doc_link:hover {\n",
              "  /* unfitted */\n",
              "  background-color: var(--sklearn-color-unfitted-level-3);\n",
              "  color: var(--sklearn-color-background);\n",
              "  text-decoration: none;\n",
              "}\n",
              "\n",
              "#sk-container-id-1 a.estimator_doc_link.fitted:hover {\n",
              "  /* fitted */\n",
              "  background-color: var(--sklearn-color-fitted-level-3);\n",
              "}\n",
              "</style><div id=\"sk-container-id-1\" class=\"sk-top-container\"><div class=\"sk-text-repr-fallback\"><pre>Pipeline(steps=[(&#x27;preprocessor&#x27;,\n",
              "                 ColumnTransformer(transformers=[(&#x27;num&#x27;,\n",
              "                                                  ColumnTransformer(transformers=[(&#x27;standard&#x27;,\n",
              "                                                                                   StandardScaler(),\n",
              "                                                                                   Index([&#x27;year&#x27;, &#x27;condition&#x27;, &#x27;odometer&#x27;], dtype=&#x27;object&#x27;))]),\n",
              "                                                  Index([&#x27;year&#x27;, &#x27;condition&#x27;, &#x27;odometer&#x27;], dtype=&#x27;object&#x27;)),\n",
              "                                                 (&#x27;cat&#x27;,\n",
              "                                                  OneHotEncoder(handle_unknown=&#x27;ignore&#x27;),\n",
              "                                                  Index([&#x27;make&#x27;, &#x27;model&#x27;, &#x27;trim&#x27;, &#x27;body&#x27;, &#x27;transmission&#x27;, &#x27;color&#x27;, &#x27;...\n",
              "                              feature_types=None, gamma=None, grow_policy=None,\n",
              "                              importance_type=None,\n",
              "                              interaction_constraints=None, learning_rate=None,\n",
              "                              max_bin=None, max_cat_threshold=None,\n",
              "                              max_cat_to_onehot=None, max_delta_step=None,\n",
              "                              max_depth=None, max_leaves=None,\n",
              "                              min_child_weight=None, missing=nan,\n",
              "                              monotone_constraints=None, multi_strategy=None,\n",
              "                              n_estimators=None, n_jobs=None,\n",
              "                              num_parallel_tree=None, random_state=None, ...))])</pre><b>In a Jupyter environment, please rerun this cell to show the HTML representation or trust the notebook. <br />On GitHub, the HTML representation is unable to render, please try loading this page with nbviewer.org.</b></div><div class=\"sk-container\" hidden><div class=\"sk-item sk-dashed-wrapped\"><div class=\"sk-label-container\"><div class=\"sk-label fitted sk-toggleable\"><input class=\"sk-toggleable__control sk-hidden--visually\" id=\"sk-estimator-id-1\" type=\"checkbox\" ><label for=\"sk-estimator-id-1\" class=\"sk-toggleable__label fitted sk-toggleable__label-arrow\"><div><div>Pipeline</div></div><div><a class=\"sk-estimator-doc-link fitted\" rel=\"noreferrer\" target=\"_blank\" href=\"https://scikit-learn.org/1.6/modules/generated/sklearn.pipeline.Pipeline.html\">?<span>Documentation for Pipeline</span></a><span class=\"sk-estimator-doc-link fitted\">i<span>Fitted</span></span></div></label><div class=\"sk-toggleable__content fitted\"><pre>Pipeline(steps=[(&#x27;preprocessor&#x27;,\n",
              "                 ColumnTransformer(transformers=[(&#x27;num&#x27;,\n",
              "                                                  ColumnTransformer(transformers=[(&#x27;standard&#x27;,\n",
              "                                                                                   StandardScaler(),\n",
              "                                                                                   Index([&#x27;year&#x27;, &#x27;condition&#x27;, &#x27;odometer&#x27;], dtype=&#x27;object&#x27;))]),\n",
              "                                                  Index([&#x27;year&#x27;, &#x27;condition&#x27;, &#x27;odometer&#x27;], dtype=&#x27;object&#x27;)),\n",
              "                                                 (&#x27;cat&#x27;,\n",
              "                                                  OneHotEncoder(handle_unknown=&#x27;ignore&#x27;),\n",
              "                                                  Index([&#x27;make&#x27;, &#x27;model&#x27;, &#x27;trim&#x27;, &#x27;body&#x27;, &#x27;transmission&#x27;, &#x27;color&#x27;, &#x27;...\n",
              "                              feature_types=None, gamma=None, grow_policy=None,\n",
              "                              importance_type=None,\n",
              "                              interaction_constraints=None, learning_rate=None,\n",
              "                              max_bin=None, max_cat_threshold=None,\n",
              "                              max_cat_to_onehot=None, max_delta_step=None,\n",
              "                              max_depth=None, max_leaves=None,\n",
              "                              min_child_weight=None, missing=nan,\n",
              "                              monotone_constraints=None, multi_strategy=None,\n",
              "                              n_estimators=None, n_jobs=None,\n",
              "                              num_parallel_tree=None, random_state=None, ...))])</pre></div> </div></div><div class=\"sk-serial\"><div class=\"sk-item sk-dashed-wrapped\"><div class=\"sk-label-container\"><div class=\"sk-label fitted sk-toggleable\"><input class=\"sk-toggleable__control sk-hidden--visually\" id=\"sk-estimator-id-2\" type=\"checkbox\" ><label for=\"sk-estimator-id-2\" class=\"sk-toggleable__label fitted sk-toggleable__label-arrow\"><div><div>preprocessor: ColumnTransformer</div></div><div><a class=\"sk-estimator-doc-link fitted\" rel=\"noreferrer\" target=\"_blank\" href=\"https://scikit-learn.org/1.6/modules/generated/sklearn.compose.ColumnTransformer.html\">?<span>Documentation for preprocessor: ColumnTransformer</span></a></div></label><div class=\"sk-toggleable__content fitted\"><pre>ColumnTransformer(transformers=[(&#x27;num&#x27;,\n",
              "                                 ColumnTransformer(transformers=[(&#x27;standard&#x27;,\n",
              "                                                                  StandardScaler(),\n",
              "                                                                  Index([&#x27;year&#x27;, &#x27;condition&#x27;, &#x27;odometer&#x27;], dtype=&#x27;object&#x27;))]),\n",
              "                                 Index([&#x27;year&#x27;, &#x27;condition&#x27;, &#x27;odometer&#x27;], dtype=&#x27;object&#x27;)),\n",
              "                                (&#x27;cat&#x27;, OneHotEncoder(handle_unknown=&#x27;ignore&#x27;),\n",
              "                                 Index([&#x27;make&#x27;, &#x27;model&#x27;, &#x27;trim&#x27;, &#x27;body&#x27;, &#x27;transmission&#x27;, &#x27;color&#x27;, &#x27;interior&#x27;], dtype=&#x27;object&#x27;))])</pre></div> </div></div><div class=\"sk-parallel\"><div class=\"sk-parallel-item\"><div class=\"sk-item\"><div class=\"sk-label-container\"><div class=\"sk-label fitted sk-toggleable\"><input class=\"sk-toggleable__control sk-hidden--visually\" id=\"sk-estimator-id-3\" type=\"checkbox\" ><label for=\"sk-estimator-id-3\" class=\"sk-toggleable__label fitted sk-toggleable__label-arrow\"><div><div>num</div></div></label><div class=\"sk-toggleable__content fitted\"><pre>Index([&#x27;year&#x27;, &#x27;condition&#x27;, &#x27;odometer&#x27;], dtype=&#x27;object&#x27;)</pre></div> </div></div><div class=\"sk-serial\"><div class=\"sk-item sk-dashed-wrapped\"><div class=\"sk-parallel\"><div class=\"sk-parallel-item\"><div class=\"sk-item\"><div class=\"sk-label-container\"><div class=\"sk-label fitted sk-toggleable\"><input class=\"sk-toggleable__control sk-hidden--visually\" id=\"sk-estimator-id-4\" type=\"checkbox\" ><label for=\"sk-estimator-id-4\" class=\"sk-toggleable__label fitted sk-toggleable__label-arrow\"><div><div>standard</div></div></label><div class=\"sk-toggleable__content fitted\"><pre>Index([&#x27;year&#x27;, &#x27;condition&#x27;, &#x27;odometer&#x27;], dtype=&#x27;object&#x27;)</pre></div> </div></div><div class=\"sk-serial\"><div class=\"sk-item\"><div class=\"sk-estimator fitted sk-toggleable\"><input class=\"sk-toggleable__control sk-hidden--visually\" id=\"sk-estimator-id-5\" type=\"checkbox\" ><label for=\"sk-estimator-id-5\" class=\"sk-toggleable__label fitted sk-toggleable__label-arrow\"><div><div>StandardScaler</div></div><div><a class=\"sk-estimator-doc-link fitted\" rel=\"noreferrer\" target=\"_blank\" href=\"https://scikit-learn.org/1.6/modules/generated/sklearn.preprocessing.StandardScaler.html\">?<span>Documentation for StandardScaler</span></a></div></label><div class=\"sk-toggleable__content fitted\"><pre>StandardScaler()</pre></div> </div></div></div></div></div></div></div></div></div></div><div class=\"sk-parallel-item\"><div class=\"sk-item\"><div class=\"sk-label-container\"><div class=\"sk-label fitted sk-toggleable\"><input class=\"sk-toggleable__control sk-hidden--visually\" id=\"sk-estimator-id-6\" type=\"checkbox\" ><label for=\"sk-estimator-id-6\" class=\"sk-toggleable__label fitted sk-toggleable__label-arrow\"><div><div>cat</div></div></label><div class=\"sk-toggleable__content fitted\"><pre>Index([&#x27;make&#x27;, &#x27;model&#x27;, &#x27;trim&#x27;, &#x27;body&#x27;, &#x27;transmission&#x27;, &#x27;color&#x27;, &#x27;interior&#x27;], dtype=&#x27;object&#x27;)</pre></div> </div></div><div class=\"sk-serial\"><div class=\"sk-item\"><div class=\"sk-estimator fitted sk-toggleable\"><input class=\"sk-toggleable__control sk-hidden--visually\" id=\"sk-estimator-id-7\" type=\"checkbox\" ><label for=\"sk-estimator-id-7\" class=\"sk-toggleable__label fitted sk-toggleable__label-arrow\"><div><div>OneHotEncoder</div></div><div><a class=\"sk-estimator-doc-link fitted\" rel=\"noreferrer\" target=\"_blank\" href=\"https://scikit-learn.org/1.6/modules/generated/sklearn.preprocessing.OneHotEncoder.html\">?<span>Documentation for OneHotEncoder</span></a></div></label><div class=\"sk-toggleable__content fitted\"><pre>OneHotEncoder(handle_unknown=&#x27;ignore&#x27;)</pre></div> </div></div></div></div></div></div></div><div class=\"sk-item\"><div class=\"sk-estimator fitted sk-toggleable\"><input class=\"sk-toggleable__control sk-hidden--visually\" id=\"sk-estimator-id-8\" type=\"checkbox\" ><label for=\"sk-estimator-id-8\" class=\"sk-toggleable__label fitted sk-toggleable__label-arrow\"><div><div>XGBRegressor</div></div></label><div class=\"sk-toggleable__content fitted\"><pre>XGBRegressor(base_score=None, booster=None, callbacks=None,\n",
              "             colsample_bylevel=None, colsample_bynode=None,\n",
              "             colsample_bytree=None, device=None, early_stopping_rounds=None,\n",
              "             enable_categorical=False, eval_metric=None, feature_types=None,\n",
              "             gamma=None, grow_policy=None, importance_type=None,\n",
              "             interaction_constraints=None, learning_rate=None, max_bin=None,\n",
              "             max_cat_threshold=None, max_cat_to_onehot=None,\n",
              "             max_delta_step=None, max_depth=None, max_leaves=None,\n",
              "             min_child_weight=None, missing=nan, monotone_constraints=None,\n",
              "             multi_strategy=None, n_estimators=None, n_jobs=None,\n",
              "             num_parallel_tree=None, random_state=None, ...)</pre></div> </div></div></div></div></div></div>"
            ],
            "text/plain": [
              "Pipeline(steps=[('preprocessor',\n",
              "                 ColumnTransformer(transformers=[('num',\n",
              "                                                  ColumnTransformer(transformers=[('standard',\n",
              "                                                                                   StandardScaler(),\n",
              "                                                                                   Index(['year', 'condition', 'odometer'], dtype='object'))]),\n",
              "                                                  Index(['year', 'condition', 'odometer'], dtype='object')),\n",
              "                                                 ('cat',\n",
              "                                                  OneHotEncoder(handle_unknown='ignore'),\n",
              "                                                  Index(['make', 'model', 'trim', 'body', 'transmission', 'color', '...\n",
              "                              feature_types=None, gamma=None, grow_policy=None,\n",
              "                              importance_type=None,\n",
              "                              interaction_constraints=None, learning_rate=None,\n",
              "                              max_bin=None, max_cat_threshold=None,\n",
              "                              max_cat_to_onehot=None, max_delta_step=None,\n",
              "                              max_depth=None, max_leaves=None,\n",
              "                              min_child_weight=None, missing=nan,\n",
              "                              monotone_constraints=None, multi_strategy=None,\n",
              "                              n_estimators=None, n_jobs=None,\n",
              "                              num_parallel_tree=None, random_state=None, ...))])"
            ]
          },
          "execution_count": 56,
          "metadata": {},
          "output_type": "execute_result"
        }
      ],
      "source": [
        "%%time\n",
        "# **Melatih model**\n",
        "pipeknn.fit(x_train, y_train)\n",
        "pipedt.fit(x_train, y_train)\n",
        "piperf.fit(x_train, y_train)\n",
        "pipesvm.fit(x_train, y_train)\n",
        "pipexgb.fit(x_train, y_train)"
      ]
    },
    {
      "cell_type": "markdown",
      "id": "0790b00b",
      "metadata": {
        "id": "0790b00b"
      },
      "source": [
        "Insight:\n",
        "\n",
        "Datanya sudah selesai di latih ke data train, maka tahap selanjutnya adalah mengecek performa dari setiap model tersebut, dimana saya menggunakan looping untuk memperlihatkan performa masing-masing model, yang menghitung metrik nilai MAE, dan R2nya.\n",
        "\n",
        "Nilai MAE (Mean Absolut Error) merupakan nilai rata-rata error atau kesalahan dari hasil prediksi. Contoh hasil prediksi adalah 100 dengan nilai MAE 10, maka nilai aktualnya adalah antara 90 dan 110.\n",
        "\n",
        "Nilai R2 merupakan nilai seberapa besar model dapat mempelajari pola data yang diolah (skala 0-1), nilai R2 yang dihasilkan dari model dengan data test dan data train juga tidak boleh terlalu jauh berbeda, supaya tidak ada indikasi overfitting (model terlalu menyesuaikan dengan data train) atau underfitting (model tidak cukup belajar)."
      ]
    },
    {
      "cell_type": "markdown",
      "id": "6e1dc26b",
      "metadata": {
        "id": "6e1dc26b"
      },
      "source": [
        "___\n",
        "### 8.1 Comparing 5 Models With K-Fold Validation Score"
      ]
    },
    {
      "cell_type": "code",
      "execution_count": 57,
      "id": "1dc36196",
      "metadata": {
        "colab": {
          "base_uri": "https://localhost:8080/"
        },
        "id": "1dc36196",
        "outputId": "6b8fc1b6-d312-4c30-e93b-d26a020eee7d"
      },
      "outputs": [
        {
          "name": "stdout",
          "output_type": "stream",
          "text": [
            "                     Model  R2 Train  R2 Test     MAE Train      Mae Test  \\\n",
            "0            KNN Regressor      0.84     0.79  4.286091e+07  5.188317e+07   \n",
            "1  Decision Tree Regressor      1.00     0.45  0.000000e+00  5.957157e+07   \n",
            "2  Random Forest Regressor      0.97     0.84  1.619120e+07  4.219919e+07   \n",
            "3            SVM Regressor     -0.03    -0.03  1.492434e+08  1.534677e+08   \n",
            "4            XGB Regressor      0.95     0.88  3.332759e+07  4.188313e+07   \n",
            "\n",
            "   Exec Time (s)  \n",
            "0           3.41  \n",
            "1           0.05  \n",
            "2           0.32  \n",
            "3           5.40  \n",
            "4           0.07  \n",
            "Wall time: 9.26 s\n"
          ]
        }
      ],
      "source": [
        "%%time\n",
        "# Simpan hasil evaluasi dalam list\n",
        "eval_results = []\n",
        "\n",
        "# Evaluasi model regresi dengan tambahan metrik R² (Train & Test), MAE, dan waktu eksekusi\n",
        "for model_name, model in [(\"KNN Regressor\", pipeknn),\n",
        "                          (\"Decision Tree Regressor\", pipedt),\n",
        "                          (\"Random Forest Regressor\", piperf),\n",
        "                          (\"SVM Regressor\", pipesvm),\n",
        "                          (\"XGB Regressor\", pipexgb)]:\n",
        "\n",
        "    start_time = time.time()\n",
        "\n",
        "    # Prediksi data train dan test\n",
        "    y_pred_train = model.predict(x_train)\n",
        "    y_pred_test = model.predict(x_test)\n",
        "\n",
        "    # Hitung metrik evaluasi\n",
        "    r2_train = r2_score(y_train, y_pred_train)\n",
        "    r2_test = r2_score(y_test, y_pred_test)\n",
        "    mae_train = mean_absolute_error(y_train, y_pred_train)\n",
        "    mae_test = mean_absolute_error(y_test, y_pred_test)\n",
        "\n",
        "    exec_time = time.time() - start_time  # Hitung waktu eksekusi\n",
        "\n",
        "    # Simpan hasil evaluasi dalam list\n",
        "    eval_results.append([model_name, round(r2_train, 2), round(r2_test, 2),\n",
        "                     round(mae_train, 2), round(mae_test, 2), round(exec_time, 2)])\n",
        "\n",
        "# Tampilkan hasil dalam bentuk tabel dengan R² Train di kiri\n",
        "eval_df = pd.DataFrame(eval_results, columns=[\"Model\", \"R2 Train\", \"R2 Test\", \"MAE Train\", \"Mae Test\", \"Exec Time (s)\"])\n",
        "print(eval_df)"
      ]
    },
    {
      "cell_type": "markdown",
      "id": "fc5f6b5f",
      "metadata": {
        "id": "fc5f6b5f"
      },
      "source": [
        "Insight:\n",
        "\n",
        "Dari lima model regresi yang diuji, XGBoost dan Random Forest menunjukkan performa terbaik dalam memprediksi harga pasar mobil berdasarkan fitur historis. Keduanya mampu menangkap pola kompleks dengan akurasi tinggi dan waktu eksekusi efisien. Sementara itu, model seperti Decision Tree cenderung overfit, dan SVM tidak cocok untuk distribusi harga yang skewed dan variabel numerikal yang besar.\n",
        "\n",
        "Cara Kerja K-Fold Cross-Validation\n",
        "- Data dibagi menjadi K bagian (folds) dengan ukuran yang sama.\n",
        "- Model dilatih menggunakan K-1 fold, dan diuji dengan sisa 1 fold sebagai data uji.\n",
        "- Proses ini diulang K kali, dengan setiap fold bergantian menjadi data uji.\n",
        "- Hasilnya adalah K skor evaluasi, yang dapat dihitung rata-rata (mean) dan standar deviasi (std) untuk melihat kestabilan model."
      ]
    },
    {
      "cell_type": "code",
      "execution_count": 58,
      "id": "c16097be",
      "metadata": {
        "colab": {
          "base_uri": "https://localhost:8080/"
        },
        "id": "c16097be",
        "outputId": "d63b462d-9bbb-4cc1-ae8d-b8ebc711ae3a"
      },
      "outputs": [
        {
          "name": "stdout",
          "output_type": "stream",
          "text": [
            "                     Model   Mean R²    Std R²  Exec Time (s)\n",
            "0            KNN Regressor  0.731597  0.036914       2.433170\n",
            "1  Decision Tree Regressor  0.679173  0.017013       2.717012\n",
            "2  Random Forest Regressor  0.795095  0.020543     179.388847\n",
            "3            SVM Regressor -0.025796  0.004990      17.701091\n",
            "4            XGB Regressor  0.841060  0.012187       0.943159\n",
            "Wall time: 3min 23s\n"
          ]
        }
      ],
      "source": [
        "%%time\n",
        "# Simpan hasil evaluasi dalam list\n",
        "eval_results = []\n",
        "\n",
        "# Evaluasi model regresi menggunakan cross-validation\n",
        "for model_name, model in [\n",
        "    (\"KNN Regressor\", pipeknn),\n",
        "    (\"Decision Tree Regressor\", pipedt),\n",
        "    (\"Random Forest Regressor\", piperf),\n",
        "    (\"SVM Regressor\", pipesvm),\n",
        "    (\"XGB Regressor\", pipexgb)\n",
        "]:\n",
        "    start_time = time.time()\n",
        "\n",
        "    # Hitung cross-validation score\n",
        "    scores = cross_val_score(model, x_train, y_train, cv=5, scoring='r2')  # 5-fold CV dengan skor R²\n",
        "    mean_score = np.mean(scores)  # Rata-rata skor R² dari validasi silang\n",
        "    std_score = np.std(scores)  # Standar deviasi skor R²\n",
        "\n",
        "    exec_time = time.time() - start_time  # Hitung waktu eksekusi\n",
        "\n",
        "    # Simpan hasil evaluasi dalam list\n",
        "    eval_results.append([model_name, mean_score, std_score, exec_time])\n",
        "\n",
        "# Tampilkan hasil dalam bentuk tabel\n",
        "eval_df = pd.DataFrame(eval_results, columns=[\"Model\", \"Mean R²\", \"Std R²\", \"Exec Time (s)\"])\n",
        "print(eval_df)"
      ]
    },
    {
      "cell_type": "markdown",
      "id": "2c8f8b83",
      "metadata": {
        "id": "2c8f8b83"
      },
      "source": [
        "Insight:\n",
        "\n",
        "Dari hasil rata-rata prediksi dari 5 fold yang dihasilkan, performa terbaik dihasilkan dari algoritma XGB Regressor, yaitu dengan nilai rata-rata R2 sebesar 0.89, yang mengalahkan Random Forest sebesar 0.87, tetapi algoritma SVM Regressor yang menghasilkan nilai rata-rata standar deviasi terkecil, yaitu sebesar 0.0042, mengalahkan XGB Regressor dengan nilai 0.0048. Dibawah ini saya tampilkan penampilan hasil nilai R2 dari setiap fold per masing-masing model yang digunakan."
      ]
    },
    {
      "cell_type": "code",
      "execution_count": 59,
      "id": "b050147c",
      "metadata": {
        "id": "b050147c",
        "outputId": "3e08cdef-b010-4e42-f42f-9fd1777cd91f"
      },
      "outputs": [
        {
          "name": "stdout",
          "output_type": "stream",
          "text": [
            "                      Model  Fold  R² Score\n",
            "0             KNN Regressor     1  0.752673\n",
            "1             KNN Regressor     2  0.688947\n",
            "2             KNN Regressor     3  0.788783\n",
            "3             KNN Regressor     4  0.731757\n",
            "4             KNN Regressor     5  0.695825\n",
            "5   Decision Tree Regressor     1  0.674765\n",
            "6   Decision Tree Regressor     2  0.673413\n",
            "7   Decision Tree Regressor     3  0.720826\n",
            "8   Decision Tree Regressor     4  0.670207\n",
            "9   Decision Tree Regressor     5  0.645868\n",
            "10  Random Forest Regressor     1  0.811198\n",
            "11  Random Forest Regressor     2  0.790285\n",
            "12  Random Forest Regressor     3  0.823149\n",
            "13  Random Forest Regressor     4  0.784916\n",
            "14  Random Forest Regressor     5  0.761599\n",
            "15            SVM Regressor     1 -0.025923\n",
            "16            SVM Regressor     2 -0.017863\n",
            "17            SVM Regressor     3 -0.027849\n",
            "18            SVM Regressor     4 -0.024156\n",
            "19            SVM Regressor     5 -0.033188\n",
            "20            XGB Regressor     1  0.834745\n",
            "21            XGB Regressor     2  0.829511\n",
            "22            XGB Regressor     3  0.864583\n",
            "23            XGB Regressor     4  0.838079\n",
            "24            XGB Regressor     5  0.838384\n",
            "Wall time: 3min 39s\n"
          ]
        }
      ],
      "source": [
        "%%time\n",
        "# Simpan hasil evaluasi dalam objek list\n",
        "eval_results = []\n",
        "\n",
        "# Evaluasi model regresi dengan 5-fold cross-validation\n",
        "for model_name, model in [\n",
        "    (\"KNN Regressor\", pipeknn),\n",
        "    (\"Decision Tree Regressor\", pipedt),\n",
        "    (\"Random Forest Regressor\", piperf),\n",
        "    (\"SVM Regressor\", pipesvm),\n",
        "    (\"XGB Regressor\", pipexgb)\n",
        "]:\n",
        "    scores = cross_val_score(model, x_train, y_train, cv=5, scoring='r2')  # Hitung R² score dari proses cross validation (validasi silang)\n",
        "\n",
        "    # Simpan hasil evaluasi dalam list\n",
        "    for fold_idx, score in enumerate(scores, 1):\n",
        "        eval_results.append([model_name, fold_idx, score])\n",
        "\n",
        "# Buat DataFrame untuk menyimpan hasil validasi\n",
        "eval_df = pd.DataFrame(eval_results, columns=[\"Model\", \"Fold\", \"R² Score\"])\n",
        "\n",
        "# Tampilkan hasil untuk setiap fold dari masing-masing model\n",
        "print(eval_df)"
      ]
    },
    {
      "cell_type": "markdown",
      "id": "434bc583",
      "metadata": {
        "id": "434bc583"
      },
      "source": [
        "Insight:\n",
        "\n",
        "1. Dari hasil pemodelan diatas, model KNN Regressor tidak dapat mempelajari dan memprediksi data dengan baik, yang menghasilkan nilai R2 terkecil dengan nilai error MAE terbesar.\n",
        "\n",
        "2. Model Decision Tree Regressor sangat mempelajari data train, yang menghasilkan nilai R2 train sebesar 1, akan tetapi overfit dalam prediksi data train dengan nilai 0.7. Ini adalah performa model yang sangat buruk dari model decision tree.\n",
        "\n",
        "3. Model Random Forest Regressor menyaingi model XGB Regressor, dimana model ini memiliki nilai R2 data train yang melebihi model XGB Regressor, yaitu sebesar 0.983 untuk model Random Forest Regressor dengan 0.976 untuk model XGB Regressor. Akan tetapi model ini memiliki hasil prediksi yang sangat overfit, yaitu pada nilai R2 data test yang sebesar 0.87 karena performa pada data train jauh lebih tinggi dibandingkan pada data test.\n",
        "\n",
        "4. Model SVM Regressor memiliki nilai R2 data train dan test yang berdekatan, akan tetapi nilainya dibawah R2 model Random Forest Regressor dan XG Boost Regressor. Serta model ini memiliki nilai error tertinggi kedua setelah model KNN Regressor.\n",
        "\n",
        "5. Model XGBoost Regressor unggul dalam memprediksi skor risiko seseorang (dalam data test) karena memiliki nilai R2 paling tinggi yaitu 0.89 dengan R2 data train adalah 0.97, menunjukkan bahwa model ini dapat memprediksi lebih baik dibandigkan ke-4 model yang lain. Walaupun terjadi overfit, model ini lebih menangkap pola kompleks dataset yang diolah, serta lebih stabil dibandingkan dengan model Decision Tree Regressor dan Random Forest Regressor.\n",
        "\n",
        "Dari kesimpulan ini, maka saya akan menggunakan model XGBoost Regressor untuk dilakukan hyperparameter tuning, dimana model yang sudah dituning ini akan digunakan dalam proses model inference dan model deployment untuk digunakan oleh user.\n",
        "___"
      ]
    },
    {
      "cell_type": "markdown",
      "id": "64f4cf22",
      "metadata": {
        "id": "64f4cf22"
      },
      "source": [
        "### 8.2 Hyperparameter Tuning Best Model"
      ]
    },
    {
      "cell_type": "markdown",
      "id": "6eb5ac96",
      "metadata": {
        "id": "6eb5ac96"
      },
      "source": [
        "Dalam hyperparameter tuning model XGBoost Regressor, terdapat beberapa parameter yang perlu diperhatikan, yaitu:\n",
        "\n",
        "| **Nama Parameter** | **Penjelasan** | **Contoh Nilai** |\n",
        "|----|----|----|\n",
        "| n_estimators | Jumlah pohon dalam boosting. Semakin tinggi nilainya, model semakin kompleks tetapi bisa overfit jika terlalu banyak. | 100, 200, 300 |\n",
        "| learning_rate | Kecepatan pembelajaran model. Nilai kecil membantu model belajar secara bertahap, tetapi membutuhkan lebih banyak estimators. | 0.01, 0.05, 0.1 |\n",
        "| max_depth | Kedalaman maksimal setiap pohon dalam boosting. Nilai tinggi meningkatkan kompleksitas, tetapi bisa menyebabkan overfit. | 3, 5, 7 |\n",
        "| subsample | Persentase sampel yang digunakan dalam setiap boosting iteration. Nilai lebih kecil membantu mengurangi overfitting. | 0.5, 0.8, 1.0 |\n",
        "| colsample_bytree | Persentase fitur yang digunakan dalam setiap pohon. Nilai lebih rendah membantu mengurangi korelasi antar fitur. | 0.4, 0.6, 0.8 |\n",
        "| gamma | Regularisasi untuk split baru dalam pohon. Nilai lebih tinggi membuat model lebih konservatif dalam membagi node. | 0, 0.1, 0.2 |\n",
        "| reg_alpha | L1 regularization, membantu mengurangi kompleksitas model dengan menghilangkan fitur yang kurang penting. | 0, 0.01, 0.1 |\n",
        "| reg_lambda | L2 regularization, membantu mengontrol bobot fitur agar tidak terlalu besar dan menjaga stabilitas model. | 0.1, 1, 10 |"
      ]
    },
    {
      "cell_type": "code",
      "execution_count": 60,
      "id": "633bf9d3",
      "metadata": {
        "id": "633bf9d3",
        "outputId": "8deeffd4-1928-4333-9c93-2bb66c94c352"
      },
      "outputs": [
        {
          "name": "stdout",
          "output_type": "stream",
          "text": [
            "Fitting 5 folds for each of 150 candidates, totalling 750 fits\n",
            "Parameter Terbaik Untuk XGBoost Regressor: {'xgb__subsample': 0.5, 'xgb__reg_lambda': 1.0, 'xgb__reg_alpha': 1.0, 'xgb__n_estimators': 250, 'xgb__max_depth': 8, 'xgb__learning_rate': 0.2677777777777778, 'xgb__gamma': 0.0, 'xgb__colsample_bytree': 0.75}\n",
            "Wall time: 51.6 s\n"
          ]
        }
      ],
      "source": [
        "%%time\n",
        "from sklearn.model_selection import RandomizedSearchCV\n",
        "from xgboost import XGBRegressor\n",
        "import numpy as np\n",
        "\n",
        "# Definisi hyperparameter dengan pencarian optimal untuk CPU\n",
        "param_distributions = {\n",
        "    'xgb__n_estimators'     : np.arange(50, 300, 50),       # Dari 50 hingga 300 untuk menghindari overload CPU\n",
        "    'xgb__learning_rate'    : np.linspace(0.01, 0.3, 10),   # Dari 0.01 hingga 0.3 dalam 10 kemungkinan nilai\n",
        "    'xgb__max_depth'        : np.arange(2, 10, 2),          # Maksimum kedalaman pohon antara 2 hingga 10\n",
        "    'xgb__subsample'        : np.linspace(0.5, 1.0, 5),     # Sampling antara 50% hingga 100%\n",
        "    'xgb__colsample_bytree' : np.linspace(0.5, 1.0, 5),     # Sampling fitur antara 50% hingga 100%\n",
        "    'xgb__gamma'            : np.linspace(0, 5, 5),         # Regularisasi split dalam pohon (antara 0 - 5, makin tinggi makin konservatif)\n",
        "    'xgb__reg_alpha'        : np.logspace(-3, 1, 5),        # L1 regularization (lasso) untuk mengurangi kompleksitas model\n",
        "    'xgb__reg_lambda'       : np.logspace(-3, 1, 5)         # L2 regularization (ridge) untuk mengontrol bobot fitur dan menjaga stabilitas model\n",
        "}\n",
        "\n",
        "# Inisialisasi RandomizedSearchCV\n",
        "random_search_xgb = RandomizedSearchCV(\n",
        "    estimator=Pipeline([\n",
        "        ('preprocessor', preprocessor),  # Preprocessing sebelum XGBoost\n",
        "        ('xgb', XGBRegressor(tree_method=\"hist\",   # Menggunakan 'hist' supaya lebih cepat di CPU\n",
        "                             n_jobs=-1,            # Menggunakan keseluruhan prosesor untuk bekerja\n",
        "                             random_state=42))]),  # Jumlah randomstate yang digunakan\n",
        "\n",
        "    param_distributions = param_distributions,\n",
        "    n_iter      = 150,   # Jumlah iterasi pencarian\n",
        "    scoring     = 'r2',  # Menggunakan R2 sebagai metrik utama\n",
        "    cv          = 5,     # Jumlah lipatan cv adalah 5\n",
        "    verbose     = 2,     # Lebih banyak log untuk melihat proses tuning\n",
        "    n_jobs      = -1)    # Menggunakan keseluruhan prosesor untuk bekerja\n",
        "\n",
        "# Fit model dengan tuning ke data training\n",
        "random_search_xgb.fit(x_train, y_train)\n",
        "\n",
        "# Menampilkan parameter terbaiknya\n",
        "print(\"Parameter Terbaik Untuk XGBoost Regressor:\", random_search_xgb.best_params_)"
      ]
    },
    {
      "cell_type": "markdown",
      "id": "08e6722c",
      "metadata": {
        "id": "08e6722c"
      },
      "source": [
        "Insight:\n",
        "\n",
        "Setelah mendapatkan parameter terbaik untuk model XGBoost Regressor dalam mengolah data ini, maka tahap selanjutnya adalah membuat objek untuk menyimpan parameter terbaik ini, yang akan digunakan dalam proses prediksi data, karena saya ingin melakukan perbandingan dari model yang belum dan sesudah dituning.\n",
        "___"
      ]
    },
    {
      "cell_type": "code",
      "execution_count": 61,
      "id": "909e8cdf",
      "metadata": {
        "id": "909e8cdf"
      },
      "outputs": [],
      "source": [
        "modeltuning = random_search_xgb.best_estimator_"
      ]
    },
    {
      "cell_type": "code",
      "execution_count": 62,
      "id": "2bf90c67",
      "metadata": {
        "id": "2bf90c67",
        "outputId": "33a0804d-1683-4f6c-d6b4-e601c16d8b7a"
      },
      "outputs": [
        {
          "name": "stdout",
          "output_type": "stream",
          "text": [
            "Skor R2 Tuning Model XGB Data Train Both Scaling: 0.98\n",
            "Skor R2 Tuning Model XGB Data Test Both Scaling: 0.89\n",
            "MAE Tuning Model XGB Data Train Both Scaling: 20672338.17\n",
            "MAE Tuning Model XGB Data Test Both Scaling: 35298331.36\n"
          ]
        }
      ],
      "source": [
        "# Membuat objek hasil prediksi\n",
        "y_pred_train_xgbtuning = modeltuning.predict(x_train)\n",
        "y_pred_test_xgbtuning = modeltuning.predict(x_test)\n",
        "\n",
        "# Evaluasi model dengan R² dan MAE\n",
        "print('Skor R2 Tuning Model XGB Data Train Both Scaling:', r2_score(y_train, y_pred_train_xgbtuning).__round__(2))\n",
        "print('Skor R2 Tuning Model XGB Data Test Both Scaling:', r2_score(y_test, y_pred_test_xgbtuning).__round__(2))\n",
        "\n",
        "print('MAE Tuning Model XGB Data Train Both Scaling:', mean_absolute_error(y_train, y_pred_train_xgbtuning).__round__(2))\n",
        "print('MAE Tuning Model XGB Data Test Both Scaling:', mean_absolute_error(y_test, y_pred_test_xgbtuning).__round__(2))"
      ]
    },
    {
      "cell_type": "markdown",
      "id": "390fab67",
      "metadata": {
        "id": "390fab67"
      },
      "source": [
        "Insight:\n",
        "\n",
        "Performa model lebih baik dengan hyperparameter tuning, dengan perbedaan 0.3 untuk akurasi data train dan data test. Berikutnya saya ingin tau variabel apa yang paling berdampak terhadap model."
      ]
    },
    {
      "cell_type": "code",
      "execution_count": 63,
      "id": "62eb4b95",
      "metadata": {
        "id": "62eb4b95",
        "outputId": "10275119-43f0-429d-ffd2-a17dc331bebc"
      },
      "outputs": [
        {
          "data": {
            "image/png": "[encoded data removed]",
            "text/plain": [
              "<Figure size 1200x800 with 1 Axes>"
            ]
          },
          "metadata": {},
          "output_type": "display_data"
        }
      ],
      "source": [
        "# Ambil nama fitur setelah preprocessing\n",
        "feature_names = preprocessor.get_feature_names_out()\n",
        "\n",
        "# Ambil feature importance dari model XGBoost\n",
        "importances = pipexgb.named_steps[\"xgb\"].feature_importances_\n",
        "\n",
        "# Buat DataFrame agar mudah difilter dan diurutkan\n",
        "feat_imp_df = pd.DataFrame({\n",
        "    'Feature': feature_names,\n",
        "    'Importance': importances\n",
        "}).sort_values(by='Importance', ascending=False)\n",
        "\n",
        "# Filter hanya fitur dengan importance signifikan (> 0.005 misalnya)\n",
        "top_feats = feat_imp_df[feat_imp_df['Importance'] > 0.005]\n",
        "\n",
        "# Plot horizontal bar chart\n",
        "plt.figure(figsize=(12, 8))\n",
        "sns.barplot(data=top_feats, x='Importance', y='Feature', palette='viridis')\n",
        "plt.title(\"Top XGBoost Feature Importances\")\n",
        "plt.xlabel(\"Importance Score\")\n",
        "plt.ylabel(\"Feature Name\")\n",
        "plt.tight_layout()\n",
        "plt.show()\n"
      ]
    },
    {
      "cell_type": "markdown",
      "id": "b5464abe",
      "metadata": {
        "id": "b5464abe"
      },
      "source": [
        "Insight:\n",
        "\n",
        "Variabel paling berpengaruh dalam model ini adalah kolom:\n",
        "1. Merk mobil, terbesar adalah BMW,\n",
        "2. Model mobil, terbesar adalah 3_series,\n",
        "3. Tipe mobil, terbesar adalah Crew Cab\n",
        "\n",
        "Sisanya memiliki pengaruh yang tidak sebesar ketiga variabel tersebut, tetapi masih memiliki dampak terhadap harga pasar mobil yang diprediksi.\n",
        "\n",
        "Selanjutnya akan masuk di sesi K-Fold Validation Score, untuk melihat apakah model yang dihasilkan memiliki performa yang stabil atau tidak. Dalam sesi ini, hasil kombinasi parameter terbaik akan diurutkan dalam 5 kombinasi dengan skor tertinggi."
      ]
    },
    {
      "cell_type": "markdown",
      "id": "7d5f0186",
      "metadata": {
        "id": "7d5f0186"
      },
      "source": [
        "___\n",
        "### 8.3 K-Fold Validation Score Best Model With Parameter Tuning"
      ]
    },
    {
      "cell_type": "code",
      "execution_count": 64,
      "id": "580d61ee",
      "metadata": {
        "id": "580d61ee",
        "outputId": "37bdc9ca-42bc-4d9b-a9c4-2dc6cf326ff5"
      },
      "outputs": [
        {
          "data": {
            "text/html": [
              "<div>\n",
              "<style scoped>\n",
              "    .dataframe tbody tr th:only-of-type {\n",
              "        vertical-align: middle;\n",
              "    }\n",
              "\n",
              "    .dataframe tbody tr th {\n",
              "        vertical-align: top;\n",
              "    }\n",
              "\n",
              "    .dataframe thead th {\n",
              "        text-align: right;\n",
              "    }\n",
              "</style>\n",
              "<table border=\"1\" class=\"dataframe\">\n",
              "  <thead>\n",
              "    <tr style=\"text-align: right;\">\n",
              "      <th></th>\n",
              "      <th>mean_fit_time</th>\n",
              "      <th>std_fit_time</th>\n",
              "      <th>mean_score_time</th>\n",
              "      <th>std_score_time</th>\n",
              "      <th>param_xgb__subsample</th>\n",
              "      <th>param_xgb__reg_lambda</th>\n",
              "      <th>param_xgb__reg_alpha</th>\n",
              "      <th>param_xgb__n_estimators</th>\n",
              "      <th>param_xgb__max_depth</th>\n",
              "      <th>param_xgb__learning_rate</th>\n",
              "      <th>...</th>\n",
              "      <th>param_xgb__colsample_bytree</th>\n",
              "      <th>params</th>\n",
              "      <th>split0_test_score</th>\n",
              "      <th>split1_test_score</th>\n",
              "      <th>split2_test_score</th>\n",
              "      <th>split3_test_score</th>\n",
              "      <th>split4_test_score</th>\n",
              "      <th>mean_test_score</th>\n",
              "      <th>std_test_score</th>\n",
              "      <th>rank_test_score</th>\n",
              "    </tr>\n",
              "  </thead>\n",
              "  <tbody>\n",
              "    <tr>\n",
              "      <th>78</th>\n",
              "      <td>1.495522</td>\n",
              "      <td>0.051834</td>\n",
              "      <td>0.054062</td>\n",
              "      <td>0.006764</td>\n",
              "      <td>0.500</td>\n",
              "      <td>1.000</td>\n",
              "      <td>1.00</td>\n",
              "      <td>250</td>\n",
              "      <td>8</td>\n",
              "      <td>0.267778</td>\n",
              "      <td>...</td>\n",
              "      <td>0.750</td>\n",
              "      <td>{'xgb__subsample': 0.5, 'xgb__reg_lambda': 1.0...</td>\n",
              "      <td>0.870440</td>\n",
              "      <td>0.844598</td>\n",
              "      <td>0.905635</td>\n",
              "      <td>0.889244</td>\n",
              "      <td>0.871400</td>\n",
              "      <td>0.876264</td>\n",
              "      <td>0.020452</td>\n",
              "      <td>1</td>\n",
              "    </tr>\n",
              "    <tr>\n",
              "      <th>8</th>\n",
              "      <td>1.855896</td>\n",
              "      <td>0.087482</td>\n",
              "      <td>0.048917</td>\n",
              "      <td>0.004168</td>\n",
              "      <td>0.625</td>\n",
              "      <td>1.000</td>\n",
              "      <td>0.01</td>\n",
              "      <td>250</td>\n",
              "      <td>8</td>\n",
              "      <td>0.138889</td>\n",
              "      <td>...</td>\n",
              "      <td>0.875</td>\n",
              "      <td>{'xgb__subsample': 0.625, 'xgb__reg_lambda': 1...</td>\n",
              "      <td>0.866287</td>\n",
              "      <td>0.860463</td>\n",
              "      <td>0.901179</td>\n",
              "      <td>0.872551</td>\n",
              "      <td>0.874735</td>\n",
              "      <td>0.875043</td>\n",
              "      <td>0.013990</td>\n",
              "      <td>2</td>\n",
              "    </tr>\n",
              "    <tr>\n",
              "      <th>1</th>\n",
              "      <td>1.162698</td>\n",
              "      <td>0.125554</td>\n",
              "      <td>0.044601</td>\n",
              "      <td>0.003207</td>\n",
              "      <td>0.875</td>\n",
              "      <td>1.000</td>\n",
              "      <td>0.10</td>\n",
              "      <td>250</td>\n",
              "      <td>6</td>\n",
              "      <td>0.267778</td>\n",
              "      <td>...</td>\n",
              "      <td>0.875</td>\n",
              "      <td>{'xgb__subsample': 0.875, 'xgb__reg_lambda': 1...</td>\n",
              "      <td>0.855501</td>\n",
              "      <td>0.851616</td>\n",
              "      <td>0.900902</td>\n",
              "      <td>0.875123</td>\n",
              "      <td>0.883572</td>\n",
              "      <td>0.873343</td>\n",
              "      <td>0.018208</td>\n",
              "      <td>3</td>\n",
              "    </tr>\n",
              "    <tr>\n",
              "      <th>126</th>\n",
              "      <td>1.362279</td>\n",
              "      <td>0.071565</td>\n",
              "      <td>0.057961</td>\n",
              "      <td>0.008196</td>\n",
              "      <td>0.500</td>\n",
              "      <td>0.001</td>\n",
              "      <td>0.01</td>\n",
              "      <td>250</td>\n",
              "      <td>6</td>\n",
              "      <td>0.171111</td>\n",
              "      <td>...</td>\n",
              "      <td>0.750</td>\n",
              "      <td>{'xgb__subsample': 0.5, 'xgb__reg_lambda': 0.0...</td>\n",
              "      <td>0.861946</td>\n",
              "      <td>0.844852</td>\n",
              "      <td>0.899108</td>\n",
              "      <td>0.883050</td>\n",
              "      <td>0.851378</td>\n",
              "      <td>0.868067</td>\n",
              "      <td>0.020214</td>\n",
              "      <td>4</td>\n",
              "    </tr>\n",
              "    <tr>\n",
              "      <th>119</th>\n",
              "      <td>1.097823</td>\n",
              "      <td>0.072382</td>\n",
              "      <td>0.058988</td>\n",
              "      <td>0.010416</td>\n",
              "      <td>0.750</td>\n",
              "      <td>0.100</td>\n",
              "      <td>10.00</td>\n",
              "      <td>250</td>\n",
              "      <td>6</td>\n",
              "      <td>0.267778</td>\n",
              "      <td>...</td>\n",
              "      <td>0.625</td>\n",
              "      <td>{'xgb__subsample': 0.75, 'xgb__reg_lambda': 0....</td>\n",
              "      <td>0.864726</td>\n",
              "      <td>0.860952</td>\n",
              "      <td>0.894395</td>\n",
              "      <td>0.870949</td>\n",
              "      <td>0.848774</td>\n",
              "      <td>0.867959</td>\n",
              "      <td>0.015069</td>\n",
              "      <td>5</td>\n",
              "    </tr>\n",
              "  </tbody>\n",
              "</table>\n",
              "<p>5 rows × 21 columns</p>\n",
              "</div>"
            ],
            "text/plain": [
              "     mean_fit_time  std_fit_time  mean_score_time  std_score_time  \\\n",
              "78        1.495522      0.051834         0.054062        0.006764   \n",
              "8         1.855896      0.087482         0.048917        0.004168   \n",
              "1         1.162698      0.125554         0.044601        0.003207   \n",
              "126       1.362279      0.071565         0.057961        0.008196   \n",
              "119       1.097823      0.072382         0.058988        0.010416   \n",
              "\n",
              "     param_xgb__subsample  param_xgb__reg_lambda  param_xgb__reg_alpha  \\\n",
              "78                  0.500                  1.000                  1.00   \n",
              "8                   0.625                  1.000                  0.01   \n",
              "1                   0.875                  1.000                  0.10   \n",
              "126                 0.500                  0.001                  0.01   \n",
              "119                 0.750                  0.100                 10.00   \n",
              "\n",
              "     param_xgb__n_estimators  param_xgb__max_depth  param_xgb__learning_rate  \\\n",
              "78                       250                     8                  0.267778   \n",
              "8                        250                     8                  0.138889   \n",
              "1                        250                     6                  0.267778   \n",
              "126                      250                     6                  0.171111   \n",
              "119                      250                     6                  0.267778   \n",
              "\n",
              "     ...  param_xgb__colsample_bytree  \\\n",
              "78   ...                        0.750   \n",
              "8    ...                        0.875   \n",
              "1    ...                        0.875   \n",
              "126  ...                        0.750   \n",
              "119  ...                        0.625   \n",
              "\n",
              "                                                params split0_test_score  \\\n",
              "78   {'xgb__subsample': 0.5, 'xgb__reg_lambda': 1.0...          0.870440   \n",
              "8    {'xgb__subsample': 0.625, 'xgb__reg_lambda': 1...          0.866287   \n",
              "1    {'xgb__subsample': 0.875, 'xgb__reg_lambda': 1...          0.855501   \n",
              "126  {'xgb__subsample': 0.5, 'xgb__reg_lambda': 0.0...          0.861946   \n",
              "119  {'xgb__subsample': 0.75, 'xgb__reg_lambda': 0....          0.864726   \n",
              "\n",
              "     split1_test_score  split2_test_score  split3_test_score  \\\n",
              "78            0.844598           0.905635           0.889244   \n",
              "8             0.860463           0.901179           0.872551   \n",
              "1             0.851616           0.900902           0.875123   \n",
              "126           0.844852           0.899108           0.883050   \n",
              "119           0.860952           0.894395           0.870949   \n",
              "\n",
              "     split4_test_score  mean_test_score  std_test_score  rank_test_score  \n",
              "78            0.871400         0.876264        0.020452                1  \n",
              "8             0.874735         0.875043        0.013990                2  \n",
              "1             0.883572         0.873343        0.018208                3  \n",
              "126           0.851378         0.868067        0.020214                4  \n",
              "119           0.848774         0.867959        0.015069                5  \n",
              "\n",
              "[5 rows x 21 columns]"
            ]
          },
          "execution_count": 64,
          "metadata": {},
          "output_type": "execute_result"
        }
      ],
      "source": [
        "hasil_cv = pd.DataFrame(random_search_xgb.cv_results_)\n",
        "hasil_cv.sort_values('rank_test_score').head(5)"
      ]
    },
    {
      "cell_type": "markdown",
      "id": "f04cc491",
      "metadata": {
        "id": "f04cc491"
      },
      "source": [
        "Insight:\n",
        "\n",
        "Berdasarkan nilai dari mean dan standar deviasi masing-masing cv, perbedaannya tidak terlalu jauh, yang artinya model ini jika dituning akan menghasilkan banyak cv yang nilainya stabil dan tidak berbeda jauh nilai rata-rata skor atau MEAN dan standar deviasinya."
      ]
    },
    {
      "cell_type": "markdown",
      "id": "607a1191",
      "metadata": {
        "id": "607a1191"
      },
      "source": [
        "___\n",
        "## 9. Model Saving"
      ]
    },
    {
      "cell_type": "code",
      "execution_count": 65,
      "id": "c5e9383c",
      "metadata": {
        "id": "c5e9383c"
      },
      "outputs": [],
      "source": [
        "# Path penyimpanan\n",
        "save_path = \"D:\\\\1. Data Science\\\\2. Lamaran Kerja\\\\Technical Test\\\\September\\\\Indotruck Utama\"\n",
        "os.makedirs(save_path, exist_ok=True)  # Buat folder jika belum ada\n",
        "\n",
        "# Simpan model dengan Pickle\n",
        "for name, obj in {\"bestmodelwithtuning.pkl\": modeltuning}.items():\n",
        "    pickle.dump(obj, open(os.path.join(save_path, name), \"wb\"))"
      ]
    },
    {
      "cell_type": "markdown",
      "id": "6189d59c",
      "metadata": {
        "id": "6189d59c"
      },
      "source": [
        "___\n",
        "## 10. Conclusion\n",
        "### 10.1 Kesimpulan\n",
        "Dari dataset yang saya olah menggunakan algoritma XGBoost Regressor, scaling data menggunakan standard scaling, mendapatkan hasil yang cukup optimal walaupun memiliki nilai R2 yang sedikit overfit, yaitu 98% nilai R2 untuk prediksi data train dan 91% nilai R2 untuk prediksi data test. Tidak menutup kemungkinan bahwa masih ada algoritma yang dapat menghasilkan nilai R2 yang lebih optimal dibandingkan yang saya gunakan saat ini, akan tetapi karena keterbatasan waktu, maka saya hanya bisa menggunakan kelima model ini dalam memprediksikan harga pasar mobil data PT. AAAA.\n",
        "\n",
        "Walaupun tidak semua variabel fitur berpengaruh terhadap penentuan besar kecilnya harga pasar mobil, namun karena saya ingin terus belajar dalam menghargai data yang saya olah, maka saya tetap menggunakan keseluruhan data yang saya gunakan, dan tetap berhati-hati dalam proses pengolahan datanya supaya keaslian datanya tetap terjaga.\n",
        "\n",
        "### 10.2 Saran untuk Perbaikan\n",
        "Saran untuk penelitian selanjutnya adalah peneliti selanjutnya dapat melakukan hyperparameter yang lebih dalam lagi dengan menggunakan super komputer (jika dimungkinkan). Serta dapat diperhatikan dalam penggunaan algoritma SVM Regressor, karena algoritma inilah yang performanya mengikuti algoritma XGBoost Regressor. \n",
        "\n",
        "Peneliti selanjutnya dapat mempertimbangkan penggunaan algoritma SVM Regressor dengan hyperparameter tuning yang luas, akan tetapi diperlukan super komputer untuk mengolahnya. N. Wahyu dan Sasongko A., melakukan penelitian pencarian hyperparameter tuning dengan menggunakan Grid Search, dimana memang hyperparameter tuning yang luas dapat meningkatkan hasil prediksi dari suatu model yang digunakan, akan tetapi semakin besar jangkauan hyperparameter yang dicari, maka akan semakin berat dan semakin lama juga waktu yang akan terpakai dalam proses ini. [Link Referensi 1](https://sistemasi.ftik.unisi.ac.id/index.php/stmsi/article/view/1750/445), [Link Referensi 2](https://www.bing.com/search?q=Effect+of+Hyperparameter+Tuning+Using+Random+Search+on+Tree-Based+Classification+Algorithm+for+Software+Defect+Prediction&cvid=b5dbf275fde94e1fbf534cb1f88deab9&gs_lcrp=EgRlZGdlKgYIABBFGDkyBggAEEUYOdIBBzMyOWowajSoAgiwAgE&FORM=ANAB01&PC=LCTS)\n",
        "\n",
        "Selain itu peneliti selanjutnya juga dapat melakukan teknik ensemble atau penggabungan algoritma XGBoost dengan SVM, yang menggunakan teknik stacking atau blending untuk meningkatkan hasil prediksi. Rofik, dkk menyimpulkan bahwa dengan melakukan teknik stacking, model dapat memiliki performa yang baik dalam klasifikasi bagus dan buruknya risiko kredit seseorang, serta pengaturan threshold juga memiliki dampak dalam prediksi data. [Link Referensi](https://shmpublisher.com/index.php/joiser/article/view/203/158)\n",
        "\n",
        "Peneliti selanjutnya juga dapat mempertimbangkan dalam melakukan feature selection atau pemilihan beberapa fitur penting yang berdampak model, seingga hasil prediksi juga akan meningkat. Dalam penelitian yang dilakukan oleh Bezerra, F. E., dkk, pemilihan fitur memiliki dampak yang besar dalam prediksi menggunakan algoritma machine learning. [Link Referensi](https://www.mdpi.com/2076-3417/14/8/3337)\n",
        "\n",
        "Peneliti selanjutnya juga dapat mempertimbangkan penambahan fitur-fitur atau variabel yang baru dalam data ini, sehingga semakin banyak data yang dapat digunakan untuk prediksi harga pasar mobil.\n",
        "___"
      ]
    }
  ],
  "metadata": {
    "colab": {
      "provenance": []
    },
    "kernelspec": {
      "display_name": "my_env",
      "language": "python",
      "name": "python3"
    },
    "language_info": {
      "codemirror_mode": {
        "name": "ipython",
        "version": 3
      },
      "file_extension": ".py",
      "mimetype": "text/x-python",
      "name": "python",
      "nbconvert_exporter": "python",
      "pygments_lexer": "ipython3",
      "version": "3.10.18"
    }
  },
  "nbformat": 4,
  "nbformat_minor": 5
}
